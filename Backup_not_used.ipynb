{
 "metadata": {
  "language_info": {
   "codemirror_mode": {
    "name": "ipython",
    "version": 3
   },
   "file_extension": ".py",
   "mimetype": "text/x-python",
   "name": "python",
   "nbconvert_exporter": "python",
   "pygments_lexer": "ipython3",
   "version": 3
  },
  "orig_nbformat": 2
 },
 "nbformat": 4,
 "nbformat_minor": 2,
 "cells": [
  {
   "cell_type": "code",
   "execution_count": null,
   "metadata": {},
   "outputs": [],
   "source": [
    "### LASSO estimation of entire set or a selected model\n",
    "# initialise the Lasso CV model\n",
    "lasso_reg(x[['unempl', 'Ind_Prod', 'Term', 'Curve']],y)\n",
    "\n",
    "x_scale = x[['unempl', 'Ind_Prod', 'Term', 'Curve']].std(ddof=0)\n",
    "y_scale = y.std(ddof=0)\n",
    "std_x = x / x_scale\n",
    "std_y = y / y_scale\n",
    "std_x = std_x[['unempl', 'Ind_Prod', 'Term', 'Curve']]\n",
    "#std_x = sm.add_constant(std_x)\n",
    "\n",
    "lasso_cv = LassoCV(fit_intercept=False)\n",
    "lasso_cv = lasso_cv.fit(std_x,std_y)\n",
    "print(f\"Optimal Alpha = {lasso_cv.alpha_}\")\n",
    "lasso_beta = lasso_cv.coef_  * (y_scale / x_scale)\n",
    "print(lasso_beta)\n",
    "print(lasso_cv.intercept_)"
   ]
  },
  {
   "cell_type": "code",
   "execution_count": null,
   "metadata": {},
   "outputs": [],
   "source": [
    "# Hybrid stepwise function\n",
    "# requires x: x dataframe , y series, p = number of columns, requires xval function too\n",
    "# input x, y, p\n",
    "def hybrid_stepwise(x, y, p,random=False,fold=5):\n",
    "    included = []\n",
    "\n",
    "    for i in range(p):\n",
    "        excluded = [col for col in x if col not in included]\n",
    "        best_sse = np.inf\n",
    "        for col in excluded:\n",
    "            try_x = x[included + [col]]\n",
    "            beta = lstsq(try_x, y, rcond=None)[0]\n",
    "            resid = y - try_x @ beta\n",
    "            sse = resid @ resid\n",
    "            if sse < best_sse:\n",
    "                best_sse = sse\n",
    "                next_var = col\n",
    "        included.append(next_var)\n",
    "    #print(included)\n",
    "    print()\n",
    "    #print(back_stepwise(x[included],y,p))\n",
    "\n",
    "    end_models = {}\n",
    "    for i in range(1,p+1):\n",
    "        x_col = included[:i]\n",
    "        #print(x_col)\n",
    "        #print(x[x_col])\n",
    "        regressors = x[x_col]\n",
    "        #x = x[x_col]\n",
    "        #print(x.columns)\n",
    "        #print(x.shape[1])\n",
    "        #print(back_stepwise(regressors,y,p))\n",
    "        end_models[i] = back_stepwise(regressors,y,p)\n",
    "    #return end_models \n",
    "\n",
    "\n",
    "    hsr_sse_sv = {}\n",
    "\n",
    "    for i in range(1,p+1):\n",
    "        hsr_sse_sv[i] = xval_5fold(y,x[end_models[i]],random=random, fold=fold)\n",
    "    hsr_sse_sv = pd.Series(hsr_sse_sv)\n",
    "    hybrid_step_model = end_models[hsr_sse_sv.idxmin()]\n",
    "\n",
    "    return hybrid_step_model, hsr_sse_sv"
   ]
  }
 ]
}