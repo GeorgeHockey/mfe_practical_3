{
 "metadata": {
  "language_info": {
   "codemirror_mode": {
    "name": "ipython",
    "version": 3
   },
   "file_extension": ".py",
   "mimetype": "text/x-python",
   "name": "python",
   "nbconvert_exporter": "python",
   "pygments_lexer": "ipython3",
   "version": "3.8.3-final"
  },
  "orig_nbformat": 2,
  "kernelspec": {
   "name": "python3",
   "display_name": "Python 3",
   "language": "python"
  }
 },
 "nbformat": 4,
 "nbformat_minor": 2,
 "cells": [
  {
   "cell_type": "code",
   "execution_count": 212,
   "metadata": {},
   "outputs": [],
   "source": [
    "## Cell to be converted to a .py file and submitted\n",
    "\n",
    "import pandas as pd\n",
    "import numpy as np\n",
    "import pandas_datareader as pdr\n",
    "from statsmodels.api import OLS\n",
    "\n",
    "# Code problem 1\n",
    "\n",
    "def oos_rsquared(y, yhat, mu):\n",
    "\n",
    "    resid_oos = y - yhat\n",
    "    oos_sse = resid_oos @ resid_oos\n",
    "    oos_tss = ((y - mu)**2).sum()\n",
    "    oos_r2 = 1- oos_sse/ oos_tss\n",
    "    \n",
    "    return oos_r2\n",
    "\n",
    "# Code problem 2\n",
    "\n",
    "def oos_residuals(y, x, beta, first, last):\n",
    "    \n",
    "    y = y[first:last]\n",
    "    x = x[first:last]\n",
    "    resid = y - x @ beta\n",
    "\n",
    "    return resid\n",
    "\n",
    "\n",
    "\n"
   ]
  },
  {
   "cell_type": "code",
   "execution_count": 213,
   "metadata": {},
   "outputs": [
    {
     "output_type": "execute_result",
     "data": {
      "text/plain": [
       "Date\n",
       "1986-01-31    0.567512\n",
       "1986-02-28    0.330895\n",
       "1986-03-31    0.220171\n",
       "1986-04-30   -0.758801\n",
       "1986-05-31    0.043598\n",
       "                ...   \n",
       "2020-06-30    0.419697\n",
       "2020-07-31    0.500721\n",
       "2020-08-31    0.926151\n",
       "2020-09-30    0.387899\n",
       "2020-10-31   -0.033361\n",
       "Freq: M, Length: 418, dtype: float64"
      ]
     },
     "metadata": {},
     "execution_count": 213
    }
   ],
   "source": [
    "oos_residuals(vwm,industries,test_beta,\"1986-01-31\",\"2020-10-31\")"
   ]
  },
  {
   "cell_type": "code",
   "execution_count": 214,
   "metadata": {},
   "outputs": [
    {
     "output_type": "execute_result",
     "data": {
      "text/plain": [
       "0.9939418842293156"
      ]
     },
     "metadata": {},
     "execution_count": 214
    }
   ],
   "source": [
    "oos_rsquared(vwm,industries@test_beta,vwm.mean())"
   ]
  },
  {
   "cell_type": "code",
   "execution_count": 25,
   "metadata": {},
   "outputs": [
    {
     "output_type": "execute_result",
     "data": {
      "text/plain": [
       "numpy.float64"
      ]
     },
     "metadata": {},
     "execution_count": 25
    }
   ],
   "source": [
    "type(oos_rsquared(vwm,(vwm-1),vwm.mean()))"
   ]
  },
  {
   "cell_type": "code",
   "execution_count": 204,
   "metadata": {},
   "outputs": [
    {
     "output_type": "execute_result",
     "data": {
      "text/plain": [
       "Food     0.055146\n",
       "Mines    0.011845\n",
       "Oil      0.056933\n",
       "Clths   -0.011728\n",
       "Durbl    0.006092\n",
       "Chems    0.004073\n",
       "Cnsum    0.072603\n",
       "Cnstr    0.037885\n",
       "Steel    0.014303\n",
       "FabPr   -0.010135\n",
       "Machn    0.122073\n",
       "Cars     0.014117\n",
       "Trans    0.015416\n",
       "Utils    0.027168\n",
       "Rtail    0.049952\n",
       "Finan    0.141323\n",
       "Other    0.366985\n",
       "dtype: float64"
      ]
     },
     "metadata": {},
     "execution_count": 204
    }
   ],
   "source": [
    "industries = pd.read_csv(\"data/17_Industry_Portfolios.csv\",index_col=\"Date\")\n",
    "industries.index = pd.to_datetime(industries.index,format=\"%Y%m\")\n",
    "industries = industries.resample(\"M\").last()\n",
    "industries = industries[\"1986-01-31\":\"2020-10-31\"]\n",
    "\n",
    "vwm = pd.read_csv(\"data/VWM.csv\",index_col=\"Date\")\n",
    "vwm.index = pd.to_datetime(vwm.index, format=\"%Y%m\")\n",
    "vwm = vwm.resample(\"M\").last().squeeze()\n",
    "vwm = vwm[\"1986-01-31\":\"2020-10-31\"]\n",
    "\n",
    "test_beta = sm.OLS(vwm,industries).fit().params"
   ]
  },
  {
   "cell_type": "code",
   "execution_count": 144,
   "metadata": {},
   "outputs": [
    {
     "output_type": "stream",
     "name": "stdout",
     "text": [
      "            Food   Mines  Oil    Clths  Durbl  Chems  Cnsum  Cnstr  Steel  \\\nDate                                                                        \n1989-01-31   5.05   2.95   6.35   5.17   6.27  10.48   6.43   5.88  11.91   \n1989-02-28  -1.55   5.48  -1.37   2.95   0.56  -2.16  -1.59   1.12  -3.58   \n1989-03-31   5.12  -2.29   3.71   4.35   0.70   2.37   5.69   1.27  -1.93   \n1989-04-30   5.71  -1.38   2.44   2.36   6.12   5.13   5.24   5.35   3.43   \n1989-05-31   6.01  -4.53   2.91   3.50   1.09   0.73   4.42   3.43   1.16   \n...           ...    ...    ...    ...    ...    ...    ...    ...    ...   \n2017-08-31  -1.77   0.68  -5.20  -4.61  -3.78   1.58   0.08  -0.36   1.65   \n2017-09-30  -0.19  -1.06  11.17   1.03   4.65   7.01   0.28   7.82   3.72   \n2017-10-31   0.99   1.44   0.17   3.24  -1.63   4.79  -3.79   4.02   2.23   \n2017-11-30   4.27   0.85   2.89   7.45   3.64   2.42   2.65   6.96  -1.38   \n2017-12-31   1.27  11.33   5.15   3.90  -2.10   0.51   1.74   3.92  13.19   \n\n            FabPr  Machn  Cars   Trans  Utils  Rtail  Finan  Other  \nDate                                                                \n1989-01-31   3.64   6.73   9.02   8.03   2.76   6.48   6.76   7.59  \n1989-02-28  -0.84  -3.84  -4.72  -0.15  -1.82  -1.76  -0.36  -1.68  \n1989-03-31   3.23  -3.89  -2.51   0.70   0.57   3.25   4.73   3.57  \n1989-04-30   4.44   5.38  -0.38   4.98   3.90   5.79   3.89   7.91  \n1989-05-31   3.40   4.50   1.36   2.52   5.34   5.73   4.12   5.19  \n...           ...    ...    ...    ...    ...    ...    ...    ...  \n2017-08-31  -1.44   1.19   0.78   1.60   2.15  -1.34  -1.23   1.68  \n2017-09-30   7.38   5.39   7.53   4.78  -1.93   0.83   5.14   0.24  \n2017-10-31   1.72   6.06   1.17  -0.25   3.05   3.95   3.28   2.53  \n2017-11-30   0.44   2.45   2.59   5.55   2.38   8.80   3.79   1.72  \n2017-12-31   0.60   0.12  -0.51   3.02  -4.96   1.53   0.98   0.77  \n\n[348 rows x 17 columns]\n"
     ]
    },
    {
     "output_type": "error",
     "ename": "KeyError",
     "evalue": "'Food'",
     "traceback": [
      "\u001b[0;31m---------------------------------------------------------------------------\u001b[0m",
      "\u001b[0;31mKeyError\u001b[0m                                  Traceback (most recent call last)",
      "\u001b[0;32m/Applications/anaconda3/lib/python3.8/site-packages/pandas/core/indexes/base.py\u001b[0m in \u001b[0;36mget_loc\u001b[0;34m(self, key, method, tolerance)\u001b[0m\n\u001b[1;32m   2894\u001b[0m             \u001b[0;32mtry\u001b[0m\u001b[0;34m:\u001b[0m\u001b[0;34m\u001b[0m\u001b[0;34m\u001b[0m\u001b[0m\n\u001b[0;32m-> 2895\u001b[0;31m                 \u001b[0;32mreturn\u001b[0m \u001b[0mself\u001b[0m\u001b[0;34m.\u001b[0m\u001b[0m_engine\u001b[0m\u001b[0;34m.\u001b[0m\u001b[0mget_loc\u001b[0m\u001b[0;34m(\u001b[0m\u001b[0mcasted_key\u001b[0m\u001b[0;34m)\u001b[0m\u001b[0;34m\u001b[0m\u001b[0;34m\u001b[0m\u001b[0m\n\u001b[0m\u001b[1;32m   2896\u001b[0m             \u001b[0;32mexcept\u001b[0m \u001b[0mKeyError\u001b[0m \u001b[0;32mas\u001b[0m \u001b[0merr\u001b[0m\u001b[0;34m:\u001b[0m\u001b[0;34m\u001b[0m\u001b[0;34m\u001b[0m\u001b[0m\n",
      "\u001b[0;32mpandas/_libs/index.pyx\u001b[0m in \u001b[0;36mpandas._libs.index.IndexEngine.get_loc\u001b[0;34m()\u001b[0m\n",
      "\u001b[0;32mpandas/_libs/index.pyx\u001b[0m in \u001b[0;36mpandas._libs.index.IndexEngine.get_loc\u001b[0;34m()\u001b[0m\n",
      "\u001b[0;32mpandas/_libs/hashtable_class_helper.pxi\u001b[0m in \u001b[0;36mpandas._libs.hashtable.PyObjectHashTable.get_item\u001b[0;34m()\u001b[0m\n",
      "\u001b[0;32mpandas/_libs/hashtable_class_helper.pxi\u001b[0m in \u001b[0;36mpandas._libs.hashtable.PyObjectHashTable.get_item\u001b[0;34m()\u001b[0m\n",
      "\u001b[0;31mKeyError\u001b[0m: 'Food'",
      "\nThe above exception was the direct cause of the following exception:\n",
      "\u001b[0;31mKeyError\u001b[0m                                  Traceback (most recent call last)",
      "\u001b[0;32m<ipython-input-144-0fd956143285>\u001b[0m in \u001b[0;36m<module>\u001b[0;34m\u001b[0m\n\u001b[0;32m----> 1\u001b[0;31m \u001b[0moos_residuals\u001b[0m\u001b[0;34m(\u001b[0m\u001b[0mvwm\u001b[0m\u001b[0;34m,\u001b[0m\u001b[0mindustries\u001b[0m\u001b[0;34m,\u001b[0m\u001b[0mtest_beta\u001b[0m\u001b[0;34m,\u001b[0m\u001b[0;34m\"1989-01-31\"\u001b[0m\u001b[0;34m,\u001b[0m\u001b[0;34m\"2017-12-31\"\u001b[0m\u001b[0;34m)\u001b[0m\u001b[0;34m\u001b[0m\u001b[0;34m\u001b[0m\u001b[0m\n\u001b[0m",
      "\u001b[0;32m<ipython-input-143-2c99b4081fe7>\u001b[0m in \u001b[0;36moos_residuals\u001b[0;34m(y, x, beta, first, last)\u001b[0m\n\u001b[1;32m     31\u001b[0m     \u001b[0mprint\u001b[0m\u001b[0;34m(\u001b[0m\u001b[0mx\u001b[0m\u001b[0;34m)\u001b[0m\u001b[0;34m\u001b[0m\u001b[0;34m\u001b[0m\u001b[0m\n\u001b[1;32m     32\u001b[0m     \u001b[0;31m#x = x[[\"Food\"]]\u001b[0m\u001b[0;34m\u001b[0m\u001b[0;34m\u001b[0m\u001b[0;34m\u001b[0m\u001b[0m\n\u001b[0;32m---> 33\u001b[0;31m     \u001b[0mx\u001b[0m \u001b[0;34m=\u001b[0m \u001b[0mx\u001b[0m\u001b[0;34m[\u001b[0m\u001b[0mlist_beta\u001b[0m\u001b[0;34m[\u001b[0m\u001b[0;36m0\u001b[0m\u001b[0;34m]\u001b[0m\u001b[0;34m]\u001b[0m\u001b[0;34m\u001b[0m\u001b[0;34m\u001b[0m\u001b[0m\n\u001b[0m\u001b[1;32m     34\u001b[0m \u001b[0;34m\u001b[0m\u001b[0m\n\u001b[1;32m     35\u001b[0m     \u001b[0mprint\u001b[0m\u001b[0;34m(\u001b[0m\u001b[0my\u001b[0m\u001b[0;34m)\u001b[0m\u001b[0;34m\u001b[0m\u001b[0;34m\u001b[0m\u001b[0m\n",
      "\u001b[0;32m/Applications/anaconda3/lib/python3.8/site-packages/pandas/core/frame.py\u001b[0m in \u001b[0;36m__getitem__\u001b[0;34m(self, key)\u001b[0m\n\u001b[1;32m   2900\u001b[0m             \u001b[0;32mif\u001b[0m \u001b[0mself\u001b[0m\u001b[0;34m.\u001b[0m\u001b[0mcolumns\u001b[0m\u001b[0;34m.\u001b[0m\u001b[0mnlevels\u001b[0m \u001b[0;34m>\u001b[0m \u001b[0;36m1\u001b[0m\u001b[0;34m:\u001b[0m\u001b[0;34m\u001b[0m\u001b[0;34m\u001b[0m\u001b[0m\n\u001b[1;32m   2901\u001b[0m                 \u001b[0;32mreturn\u001b[0m \u001b[0mself\u001b[0m\u001b[0;34m.\u001b[0m\u001b[0m_getitem_multilevel\u001b[0m\u001b[0;34m(\u001b[0m\u001b[0mkey\u001b[0m\u001b[0;34m)\u001b[0m\u001b[0;34m\u001b[0m\u001b[0;34m\u001b[0m\u001b[0m\n\u001b[0;32m-> 2902\u001b[0;31m             \u001b[0mindexer\u001b[0m \u001b[0;34m=\u001b[0m \u001b[0mself\u001b[0m\u001b[0;34m.\u001b[0m\u001b[0mcolumns\u001b[0m\u001b[0;34m.\u001b[0m\u001b[0mget_loc\u001b[0m\u001b[0;34m(\u001b[0m\u001b[0mkey\u001b[0m\u001b[0;34m)\u001b[0m\u001b[0;34m\u001b[0m\u001b[0;34m\u001b[0m\u001b[0m\n\u001b[0m\u001b[1;32m   2903\u001b[0m             \u001b[0;32mif\u001b[0m \u001b[0mis_integer\u001b[0m\u001b[0;34m(\u001b[0m\u001b[0mindexer\u001b[0m\u001b[0;34m)\u001b[0m\u001b[0;34m:\u001b[0m\u001b[0;34m\u001b[0m\u001b[0;34m\u001b[0m\u001b[0m\n\u001b[1;32m   2904\u001b[0m                 \u001b[0mindexer\u001b[0m \u001b[0;34m=\u001b[0m \u001b[0;34m[\u001b[0m\u001b[0mindexer\u001b[0m\u001b[0;34m]\u001b[0m\u001b[0;34m\u001b[0m\u001b[0;34m\u001b[0m\u001b[0m\n",
      "\u001b[0;32m/Applications/anaconda3/lib/python3.8/site-packages/pandas/core/indexes/base.py\u001b[0m in \u001b[0;36mget_loc\u001b[0;34m(self, key, method, tolerance)\u001b[0m\n\u001b[1;32m   2895\u001b[0m                 \u001b[0;32mreturn\u001b[0m \u001b[0mself\u001b[0m\u001b[0;34m.\u001b[0m\u001b[0m_engine\u001b[0m\u001b[0;34m.\u001b[0m\u001b[0mget_loc\u001b[0m\u001b[0;34m(\u001b[0m\u001b[0mcasted_key\u001b[0m\u001b[0;34m)\u001b[0m\u001b[0;34m\u001b[0m\u001b[0;34m\u001b[0m\u001b[0m\n\u001b[1;32m   2896\u001b[0m             \u001b[0;32mexcept\u001b[0m \u001b[0mKeyError\u001b[0m \u001b[0;32mas\u001b[0m \u001b[0merr\u001b[0m\u001b[0;34m:\u001b[0m\u001b[0;34m\u001b[0m\u001b[0;34m\u001b[0m\u001b[0m\n\u001b[0;32m-> 2897\u001b[0;31m                 \u001b[0;32mraise\u001b[0m \u001b[0mKeyError\u001b[0m\u001b[0;34m(\u001b[0m\u001b[0mkey\u001b[0m\u001b[0;34m)\u001b[0m \u001b[0;32mfrom\u001b[0m \u001b[0merr\u001b[0m\u001b[0;34m\u001b[0m\u001b[0;34m\u001b[0m\u001b[0m\n\u001b[0m\u001b[1;32m   2898\u001b[0m \u001b[0;34m\u001b[0m\u001b[0m\n\u001b[1;32m   2899\u001b[0m         \u001b[0;32mif\u001b[0m \u001b[0mtolerance\u001b[0m \u001b[0;32mis\u001b[0m \u001b[0;32mnot\u001b[0m \u001b[0;32mNone\u001b[0m\u001b[0;34m:\u001b[0m\u001b[0;34m\u001b[0m\u001b[0;34m\u001b[0m\u001b[0m\n",
      "\u001b[0;31mKeyError\u001b[0m: 'Food'"
     ]
    }
   ],
   "source": [
    "oos_residuals(vwm,industries,test_beta,\"1989-01-31\",\"2017-12-31\")"
   ]
  },
  {
   "cell_type": "code",
   "execution_count": null,
   "metadata": {},
   "outputs": [],
   "source": []
  }
 ]
}