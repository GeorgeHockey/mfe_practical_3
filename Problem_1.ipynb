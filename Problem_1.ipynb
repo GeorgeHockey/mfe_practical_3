{
 "metadata": {
  "language_info": {
   "codemirror_mode": {
    "name": "ipython",
    "version": 3
   },
   "file_extension": ".py",
   "mimetype": "text/x-python",
   "name": "python",
   "nbconvert_exporter": "python",
   "pygments_lexer": "ipython3",
   "version": "3.8.3-final"
  },
  "orig_nbformat": 2,
  "kernelspec": {
   "name": "python3",
   "display_name": "Python 3",
   "language": "python"
  }
 },
 "nbformat": 4,
 "nbformat_minor": 2,
 "cells": [
  {
   "cell_type": "code",
   "execution_count": 1486,
   "metadata": {},
   "outputs": [],
   "source": [
    "import pandas as pd\n",
    "import numpy as np\n",
    "import pandas_datareader as pdr\n",
    "import matplotlib.pyplot as plt\n",
    "from sklearn.model_selection import cross_val_score\n",
    "from sklearn.linear_model import LinearRegression\n",
    "from sklearn.model_selection import KFold\n",
    "from numpy.linalg import lstsq\n",
    "from itertools import combinations\n",
    "from statsmodels.api import OLS\n",
    "from sklearn.linear_model import LassoCV, RidgeCV\n",
    "import statsmodels.api as sm\n",
    "from scipy import stats"
   ]
  },
  {
   "source": [
    "# Import data\n",
    "## slow cell to run ##\n",
    "\n",
    "# momentum\n",
    "momentum = pdr.get_data_famafrench(\"F-F_Momentum_Factor_daily\", start=\"1920\", end=\"2020-12-31\")[0]\n",
    "momentum = momentum.resample(\"M\").last().squeeze()\n",
    "momentum = momentum[\"1986-01-31\":]\n",
    "\n",
    "#momentum = pd.read_csv(\"data/F-F_Momentum_Factor.csv\",index_col=\"Date\")\n",
    "#momentum.index = pd.to_datetime(momentum.index,format=\"%Y%m\")\n",
    "#momentum = momentum.resample(\"M\").last().squeeze()\n",
    "\n",
    "\n",
    "# Value weighted market\n",
    "vwm = pd.read_csv(\"data/VWM.csv\",index_col=\"Date\")\n",
    "vwm.index = pd.to_datetime(vwm.index, format=\"%Y%m\")\n",
    "vwm = vwm.resample(\"M\").last().squeeze()\n",
    "vwm = vwm[\"1986-01-31\":]\n",
    "\n",
    "# 1, 5 and 10 year constant maturities\n",
    "const_mat_10 = pdr.get_data_fred(\"DGS10\", \"1920-01-01\", \"2020-12-31\")\n",
    "const_mat_10 = const_mat_10.resample(\"M\").last().squeeze()\n",
    "const_mat_5 = pdr.get_data_fred(\"DGS5\", \"1920-01-01\", \"2020-12-31\")\n",
    "const_mat_5 = const_mat_5.resample(\"M\").last().squeeze()\n",
    "const_mat_1 = pdr.get_data_fred(\"DGS1\", \"1920-01-01\", \"2020-12-31\")\n",
    "const_mat_1 = const_mat_1.resample(\"M\").last().squeeze()\n",
    "\n",
    "# AAA and BAA (Moody's)\n",
    "aaa = pd.read_csv(\"data/AAA.csv\",parse_dates=True,index_col=\"Date\")\n",
    "aaa = aaa.resample(\"M\").last().squeeze()\n",
    "baa = pdr.get_data_fred(\"DBAA\", \"1920-01-01\", \"2020-12-31\")\n",
    "baa = baa.resample(\"M\").last().squeeze()\n",
    "\n",
    "# Unemployment rate (US)\n",
    "unrate = pdr.get_data_fred(\"UNRATE\", \"1920-01-01\", \"2020-12-31\")\n",
    "unrate = unrate.resample(\"M\").last().squeeze()\n",
    "\n",
    "# core CPi US - consumer price index for all urban consumers\n",
    "core_cpi = pdr.get_data_fred(\"CPIAUCSL\", \"1920-01-01\", \"2020-12-31\")\n",
    "core_cpi = core_cpi.resample(\"M\").last().squeeze()\n",
    "\n",
    "# Industrial Productivity\n",
    "ind_prod = pdr.get_data_fred(\"INDPRO\", \"1920-01-01\", \"2020-12-31\")\n",
    "ind_prod = ind_prod.resample(\"M\").last().squeeze()\n",
    "\n",
    "# Risk free rate\n",
    "#ff_factors = pdr.get_data_famafrench(\"F-F_Research_Data_Factors_daily\", start=\"1920\", end=\"2020-12-31\")[0]\n",
    "#rf = ff_factors[\"RF\"].resample(\"M\").last()\n",
    "rf = (( 1 + const_mat_1[\"1986-02-28\":]/100) **(1/12)) -1\n"
   ],
   "cell_type": "code",
   "metadata": {},
   "execution_count": 1487,
   "outputs": []
  },
  {
   "cell_type": "code",
   "execution_count": 1750,
   "metadata": {},
   "outputs": [],
   "source": [
    "rf_mean = (rf[\"2003-06-30\":]).mean()"
   ]
  },
  {
   "cell_type": "code",
   "execution_count": 1749,
   "metadata": {},
   "outputs": [
    {
     "output_type": "execute_result",
     "data": {
      "text/plain": [
       "0.0012032831248151785"
      ]
     },
     "metadata": {},
     "execution_count": 1749
    }
   ],
   "source": [
    "rf_mean"
   ]
  },
  {
   "cell_type": "code",
   "execution_count": 1488,
   "metadata": {},
   "outputs": [
    {
     "output_type": "execute_result",
     "data": {
      "text/plain": [
       "            Term  Curve  Default   Inflation\n",
       "1986-01-31  1.51  -0.41    -1.32    0.038966\n",
       "1986-02-28  0.70  -0.26    -0.95    0.031484\n",
       "1986-03-31  0.67  -0.27    -1.31    0.021307\n",
       "1986-04-30  0.84  -0.42    -1.37    0.015763\n",
       "1986-05-31  1.17  -0.71    -1.32    0.016652\n",
       "...          ...    ...      ...         ...\n",
       "2020-08-31  0.60   0.28    -1.14    0.013129\n",
       "2020-09-30  0.57   0.25    -1.13    0.013994\n",
       "2020-10-31  0.75   0.25    -1.14    0.011964\n",
       "2020-11-30  0.73   0.23    -0.83    0.011542\n",
       "2020-12-31  0.83   0.31    -0.85  261.775000\n",
       "\n",
       "[420 rows x 4 columns]"
      ],
      "text/html": "<div>\n<style scoped>\n    .dataframe tbody tr th:only-of-type {\n        vertical-align: middle;\n    }\n\n    .dataframe tbody tr th {\n        vertical-align: top;\n    }\n\n    .dataframe thead th {\n        text-align: right;\n    }\n</style>\n<table border=\"1\" class=\"dataframe\">\n  <thead>\n    <tr style=\"text-align: right;\">\n      <th></th>\n      <th>Term</th>\n      <th>Curve</th>\n      <th>Default</th>\n      <th>Inflation</th>\n    </tr>\n  </thead>\n  <tbody>\n    <tr>\n      <th>1986-01-31</th>\n      <td>1.51</td>\n      <td>-0.41</td>\n      <td>-1.32</td>\n      <td>0.038966</td>\n    </tr>\n    <tr>\n      <th>1986-02-28</th>\n      <td>0.70</td>\n      <td>-0.26</td>\n      <td>-0.95</td>\n      <td>0.031484</td>\n    </tr>\n    <tr>\n      <th>1986-03-31</th>\n      <td>0.67</td>\n      <td>-0.27</td>\n      <td>-1.31</td>\n      <td>0.021307</td>\n    </tr>\n    <tr>\n      <th>1986-04-30</th>\n      <td>0.84</td>\n      <td>-0.42</td>\n      <td>-1.37</td>\n      <td>0.015763</td>\n    </tr>\n    <tr>\n      <th>1986-05-31</th>\n      <td>1.17</td>\n      <td>-0.71</td>\n      <td>-1.32</td>\n      <td>0.016652</td>\n    </tr>\n    <tr>\n      <th>...</th>\n      <td>...</td>\n      <td>...</td>\n      <td>...</td>\n      <td>...</td>\n    </tr>\n    <tr>\n      <th>2020-08-31</th>\n      <td>0.60</td>\n      <td>0.28</td>\n      <td>-1.14</td>\n      <td>0.013129</td>\n    </tr>\n    <tr>\n      <th>2020-09-30</th>\n      <td>0.57</td>\n      <td>0.25</td>\n      <td>-1.13</td>\n      <td>0.013994</td>\n    </tr>\n    <tr>\n      <th>2020-10-31</th>\n      <td>0.75</td>\n      <td>0.25</td>\n      <td>-1.14</td>\n      <td>0.011964</td>\n    </tr>\n    <tr>\n      <th>2020-11-30</th>\n      <td>0.73</td>\n      <td>0.23</td>\n      <td>-0.83</td>\n      <td>0.011542</td>\n    </tr>\n    <tr>\n      <th>2020-12-31</th>\n      <td>0.83</td>\n      <td>0.31</td>\n      <td>-0.85</td>\n      <td>261.775000</td>\n    </tr>\n  </tbody>\n</table>\n<p>420 rows × 4 columns</p>\n</div>"
     },
     "metadata": {},
     "execution_count": 1488
    }
   ],
   "source": [
    "# Variable construction:\n",
    "\n",
    "term = const_mat_10 - const_mat_1\n",
    "curve = const_mat_10 - 2 * const_mat_5 + const_mat_1\n",
    "default = aaa - baa\n",
    "\n",
    "inflation = pd.Series.copy(core_cpi)\n",
    "for i in range(12):\n",
    "    inflation[i] = np.nan\n",
    "for i in range(12,887):\n",
    "    inflation[i] = np.log(core_cpi[i]) - np.log(core_cpi[i-12])\n",
    "inflation = inflation.dropna()\n",
    "\n",
    "variables = pd.DataFrame([term,curve,default,inflation]).T\n",
    "variables.columns = [\"Term\", \"Curve\", \"Default\", \"Inflation\"]\n",
    "common_variables = variables.dropna()\n",
    "common_variables"
   ]
  },
  {
   "cell_type": "code",
   "execution_count": 1012,
   "metadata": {},
   "outputs": [
    {
     "output_type": "execute_result",
     "data": {
      "text/plain": [
       "0.06595796779179741"
      ]
     },
     "metadata": {},
     "execution_count": 1012
    }
   ],
   "source": [
    "np.log(core_cpi[14]) - np.log(core_cpi[2])"
   ]
  },
  {
   "cell_type": "code",
   "execution_count": 1014,
   "metadata": {},
   "outputs": [
    {
     "output_type": "execute_result",
     "data": {
      "text/plain": [
       "             Mom   VWM  10yr   5yr   1yr    AAA    BAA  unempl      CPI  \\\n",
       "Date                                                                      \n",
       "1986-01-31  0.34  1.21  9.08  8.53  7.57  10.05  11.37     6.7  109.900   \n",
       "1986-02-28  0.49  7.66  8.13  7.91  7.43   9.67  10.62     7.2  109.700   \n",
       "1986-03-31  0.76  5.48  7.39  7.19  6.72   9.00  10.31     7.2  109.100   \n",
       "1986-04-30 -0.36 -0.79  7.38  7.17  6.54   8.79  10.16     7.1  108.700   \n",
       "1986-05-31 -0.29  5.11  8.05  7.82  6.88   9.09  10.41     7.2  109.000   \n",
       "...          ...   ...   ...   ...   ...    ...    ...     ...      ...   \n",
       "2020-06-30  1.15  2.47  0.66  0.29  0.16   2.44   3.59    11.1  257.214   \n",
       "2020-07-31  1.17  5.78  0.55  0.21  0.11   2.14   3.15    10.2  258.723   \n",
       "2020-08-31  1.75  7.64  0.72  0.28  0.12   2.25   3.39     8.4  259.681   \n",
       "2020-09-30  0.15 -3.62  0.69  0.28  0.12   2.31   3.44     7.8  260.209   \n",
       "2020-10-31 -2.36 -2.09  0.88  0.38  0.13   2.35   3.49     6.9  260.325   \n",
       "\n",
       "            Ind_Prod  \n",
       "Date                  \n",
       "1986-01-31   57.3104  \n",
       "1986-02-28   56.9344  \n",
       "1986-03-31   56.5420  \n",
       "1986-04-30   56.5599  \n",
       "1986-05-31   56.6823  \n",
       "...              ...  \n",
       "2020-06-30   97.8019  \n",
       "2020-07-31  101.8924  \n",
       "2020-08-31  102.6619  \n",
       "2020-09-30  102.6008  \n",
       "2020-10-31  103.5731  \n",
       "\n",
       "[418 rows x 10 columns]"
      ],
      "text/html": "<div>\n<style scoped>\n    .dataframe tbody tr th:only-of-type {\n        vertical-align: middle;\n    }\n\n    .dataframe tbody tr th {\n        vertical-align: top;\n    }\n\n    .dataframe thead th {\n        text-align: right;\n    }\n</style>\n<table border=\"1\" class=\"dataframe\">\n  <thead>\n    <tr style=\"text-align: right;\">\n      <th></th>\n      <th>Mom</th>\n      <th>VWM</th>\n      <th>10yr</th>\n      <th>5yr</th>\n      <th>1yr</th>\n      <th>AAA</th>\n      <th>BAA</th>\n      <th>unempl</th>\n      <th>CPI</th>\n      <th>Ind_Prod</th>\n    </tr>\n    <tr>\n      <th>Date</th>\n      <th></th>\n      <th></th>\n      <th></th>\n      <th></th>\n      <th></th>\n      <th></th>\n      <th></th>\n      <th></th>\n      <th></th>\n      <th></th>\n    </tr>\n  </thead>\n  <tbody>\n    <tr>\n      <th>1986-01-31</th>\n      <td>0.34</td>\n      <td>1.21</td>\n      <td>9.08</td>\n      <td>8.53</td>\n      <td>7.57</td>\n      <td>10.05</td>\n      <td>11.37</td>\n      <td>6.7</td>\n      <td>109.900</td>\n      <td>57.3104</td>\n    </tr>\n    <tr>\n      <th>1986-02-28</th>\n      <td>0.49</td>\n      <td>7.66</td>\n      <td>8.13</td>\n      <td>7.91</td>\n      <td>7.43</td>\n      <td>9.67</td>\n      <td>10.62</td>\n      <td>7.2</td>\n      <td>109.700</td>\n      <td>56.9344</td>\n    </tr>\n    <tr>\n      <th>1986-03-31</th>\n      <td>0.76</td>\n      <td>5.48</td>\n      <td>7.39</td>\n      <td>7.19</td>\n      <td>6.72</td>\n      <td>9.00</td>\n      <td>10.31</td>\n      <td>7.2</td>\n      <td>109.100</td>\n      <td>56.5420</td>\n    </tr>\n    <tr>\n      <th>1986-04-30</th>\n      <td>-0.36</td>\n      <td>-0.79</td>\n      <td>7.38</td>\n      <td>7.17</td>\n      <td>6.54</td>\n      <td>8.79</td>\n      <td>10.16</td>\n      <td>7.1</td>\n      <td>108.700</td>\n      <td>56.5599</td>\n    </tr>\n    <tr>\n      <th>1986-05-31</th>\n      <td>-0.29</td>\n      <td>5.11</td>\n      <td>8.05</td>\n      <td>7.82</td>\n      <td>6.88</td>\n      <td>9.09</td>\n      <td>10.41</td>\n      <td>7.2</td>\n      <td>109.000</td>\n      <td>56.6823</td>\n    </tr>\n    <tr>\n      <th>...</th>\n      <td>...</td>\n      <td>...</td>\n      <td>...</td>\n      <td>...</td>\n      <td>...</td>\n      <td>...</td>\n      <td>...</td>\n      <td>...</td>\n      <td>...</td>\n      <td>...</td>\n    </tr>\n    <tr>\n      <th>2020-06-30</th>\n      <td>1.15</td>\n      <td>2.47</td>\n      <td>0.66</td>\n      <td>0.29</td>\n      <td>0.16</td>\n      <td>2.44</td>\n      <td>3.59</td>\n      <td>11.1</td>\n      <td>257.214</td>\n      <td>97.8019</td>\n    </tr>\n    <tr>\n      <th>2020-07-31</th>\n      <td>1.17</td>\n      <td>5.78</td>\n      <td>0.55</td>\n      <td>0.21</td>\n      <td>0.11</td>\n      <td>2.14</td>\n      <td>3.15</td>\n      <td>10.2</td>\n      <td>258.723</td>\n      <td>101.8924</td>\n    </tr>\n    <tr>\n      <th>2020-08-31</th>\n      <td>1.75</td>\n      <td>7.64</td>\n      <td>0.72</td>\n      <td>0.28</td>\n      <td>0.12</td>\n      <td>2.25</td>\n      <td>3.39</td>\n      <td>8.4</td>\n      <td>259.681</td>\n      <td>102.6619</td>\n    </tr>\n    <tr>\n      <th>2020-09-30</th>\n      <td>0.15</td>\n      <td>-3.62</td>\n      <td>0.69</td>\n      <td>0.28</td>\n      <td>0.12</td>\n      <td>2.31</td>\n      <td>3.44</td>\n      <td>7.8</td>\n      <td>260.209</td>\n      <td>102.6008</td>\n    </tr>\n    <tr>\n      <th>2020-10-31</th>\n      <td>-2.36</td>\n      <td>-2.09</td>\n      <td>0.88</td>\n      <td>0.38</td>\n      <td>0.13</td>\n      <td>2.35</td>\n      <td>3.49</td>\n      <td>6.9</td>\n      <td>260.325</td>\n      <td>103.5731</td>\n    </tr>\n  </tbody>\n</table>\n<p>418 rows × 10 columns</p>\n</div>"
     },
     "metadata": {},
     "execution_count": 1014
    }
   ],
   "source": [
    "data = pd.DataFrame([momentum,vwm, const_mat_10,const_mat_5,const_mat_1,aaa,baa,unrate,core_cpi,ind_prod]).T\n",
    "data.columns = [\"Mom\", \"VWM\",\"10yr\",\"5yr\",\"1yr\",\"AAA\",\"BAA\",\"unempl\",\"CPI\",\"Ind_Prod\"]\n",
    "common_data = data.dropna()\n",
    "common_data"
   ]
  },
  {
   "cell_type": "code",
   "execution_count": 1489,
   "metadata": {},
   "outputs": [
    {
     "output_type": "execute_result",
     "data": {
      "text/plain": [
       "                 Mom       VWM      10yr       5yr       1yr       AAA  \\\n",
       "Date                                                                     \n",
       "1986-01-31  0.320239  0.263158  4.239713  4.200885  4.108995  3.827512   \n",
       "1986-02-28  0.470239  6.713158  3.289713  3.580885  3.968995  3.447512   \n",
       "1986-03-31  0.740239  4.533158  2.549713  2.860885  3.258995  2.777512   \n",
       "1986-04-30 -0.379761 -1.736842  2.539713  2.840885  3.078995  2.567512   \n",
       "1986-05-31 -0.309761  4.163158  3.209713  3.490885  3.418995  2.867512   \n",
       "...              ...       ...       ...       ...       ...       ...   \n",
       "2020-06-30  1.130239  1.523158 -4.180287 -4.039115 -3.301005 -3.782488   \n",
       "2020-07-31  1.150239  4.833158 -4.290287 -4.119115 -3.351005 -4.082488   \n",
       "2020-08-31  1.730239  6.693158 -4.120287 -4.049115 -3.341005 -3.972488   \n",
       "2020-09-30  0.130239 -4.566842 -4.150287 -4.049115 -3.341005 -3.912488   \n",
       "2020-10-31 -2.379761 -3.036842 -3.960287 -3.949115 -3.331005 -3.872488   \n",
       "\n",
       "                 BAA   unempl       CPI   Ind_Prod      Term     Curve  \\\n",
       "Date                                                                     \n",
       "1986-01-31  4.190431  0.78134 -76.33349 -30.702938  0.130718 -0.053062   \n",
       "1986-02-28  3.440431  1.28134 -76.53349 -31.078938 -0.679282  0.096938   \n",
       "1986-03-31  3.130431  1.28134 -77.13349 -31.471338 -0.709282  0.086938   \n",
       "1986-04-30  2.980431  1.18134 -77.53349 -31.453438 -0.539282 -0.063062   \n",
       "1986-05-31  3.230431  1.28134 -77.23349 -31.331038 -0.209282 -0.353062   \n",
       "...              ...      ...       ...        ...       ...       ...   \n",
       "2020-06-30 -3.589569  5.18134  70.98051   9.788562 -0.879282  0.596938   \n",
       "2020-07-31 -4.029569  4.28134  72.48951  13.879062 -0.939282  0.596938   \n",
       "2020-08-31 -3.789569  2.48134  73.44751  14.648562 -0.779282  0.636938   \n",
       "2020-09-30 -3.739569  1.88134  73.97551  14.587462 -0.809282  0.606938   \n",
       "2020-10-31 -3.689569  0.98134  74.09151  15.559762 -0.629282  0.606938   \n",
       "\n",
       "             Default  Inflation  \n",
       "Date                             \n",
       "1986-01-31 -0.362919   0.013822  \n",
       "1986-02-28  0.007081   0.006341  \n",
       "1986-03-31 -0.352919  -0.003837  \n",
       "1986-04-30 -0.412919  -0.009381  \n",
       "1986-05-31 -0.362919  -0.008492  \n",
       "...              ...        ...  \n",
       "2020-06-30 -0.192919  -0.018074  \n",
       "2020-07-31 -0.052919  -0.014903  \n",
       "2020-08-31 -0.182919  -0.012015  \n",
       "2020-09-30 -0.172919  -0.011150  \n",
       "2020-10-31 -0.182919  -0.013179  \n",
       "\n",
       "[418 rows x 14 columns]"
      ],
      "text/html": "<div>\n<style scoped>\n    .dataframe tbody tr th:only-of-type {\n        vertical-align: middle;\n    }\n\n    .dataframe tbody tr th {\n        vertical-align: top;\n    }\n\n    .dataframe thead th {\n        text-align: right;\n    }\n</style>\n<table border=\"1\" class=\"dataframe\">\n  <thead>\n    <tr style=\"text-align: right;\">\n      <th></th>\n      <th>Mom</th>\n      <th>VWM</th>\n      <th>10yr</th>\n      <th>5yr</th>\n      <th>1yr</th>\n      <th>AAA</th>\n      <th>BAA</th>\n      <th>unempl</th>\n      <th>CPI</th>\n      <th>Ind_Prod</th>\n      <th>Term</th>\n      <th>Curve</th>\n      <th>Default</th>\n      <th>Inflation</th>\n    </tr>\n    <tr>\n      <th>Date</th>\n      <th></th>\n      <th></th>\n      <th></th>\n      <th></th>\n      <th></th>\n      <th></th>\n      <th></th>\n      <th></th>\n      <th></th>\n      <th></th>\n      <th></th>\n      <th></th>\n      <th></th>\n      <th></th>\n    </tr>\n  </thead>\n  <tbody>\n    <tr>\n      <th>1986-01-31</th>\n      <td>0.320239</td>\n      <td>0.263158</td>\n      <td>4.239713</td>\n      <td>4.200885</td>\n      <td>4.108995</td>\n      <td>3.827512</td>\n      <td>4.190431</td>\n      <td>0.78134</td>\n      <td>-76.33349</td>\n      <td>-30.702938</td>\n      <td>0.130718</td>\n      <td>-0.053062</td>\n      <td>-0.362919</td>\n      <td>0.013822</td>\n    </tr>\n    <tr>\n      <th>1986-02-28</th>\n      <td>0.470239</td>\n      <td>6.713158</td>\n      <td>3.289713</td>\n      <td>3.580885</td>\n      <td>3.968995</td>\n      <td>3.447512</td>\n      <td>3.440431</td>\n      <td>1.28134</td>\n      <td>-76.53349</td>\n      <td>-31.078938</td>\n      <td>-0.679282</td>\n      <td>0.096938</td>\n      <td>0.007081</td>\n      <td>0.006341</td>\n    </tr>\n    <tr>\n      <th>1986-03-31</th>\n      <td>0.740239</td>\n      <td>4.533158</td>\n      <td>2.549713</td>\n      <td>2.860885</td>\n      <td>3.258995</td>\n      <td>2.777512</td>\n      <td>3.130431</td>\n      <td>1.28134</td>\n      <td>-77.13349</td>\n      <td>-31.471338</td>\n      <td>-0.709282</td>\n      <td>0.086938</td>\n      <td>-0.352919</td>\n      <td>-0.003837</td>\n    </tr>\n    <tr>\n      <th>1986-04-30</th>\n      <td>-0.379761</td>\n      <td>-1.736842</td>\n      <td>2.539713</td>\n      <td>2.840885</td>\n      <td>3.078995</td>\n      <td>2.567512</td>\n      <td>2.980431</td>\n      <td>1.18134</td>\n      <td>-77.53349</td>\n      <td>-31.453438</td>\n      <td>-0.539282</td>\n      <td>-0.063062</td>\n      <td>-0.412919</td>\n      <td>-0.009381</td>\n    </tr>\n    <tr>\n      <th>1986-05-31</th>\n      <td>-0.309761</td>\n      <td>4.163158</td>\n      <td>3.209713</td>\n      <td>3.490885</td>\n      <td>3.418995</td>\n      <td>2.867512</td>\n      <td>3.230431</td>\n      <td>1.28134</td>\n      <td>-77.23349</td>\n      <td>-31.331038</td>\n      <td>-0.209282</td>\n      <td>-0.353062</td>\n      <td>-0.362919</td>\n      <td>-0.008492</td>\n    </tr>\n    <tr>\n      <th>...</th>\n      <td>...</td>\n      <td>...</td>\n      <td>...</td>\n      <td>...</td>\n      <td>...</td>\n      <td>...</td>\n      <td>...</td>\n      <td>...</td>\n      <td>...</td>\n      <td>...</td>\n      <td>...</td>\n      <td>...</td>\n      <td>...</td>\n      <td>...</td>\n    </tr>\n    <tr>\n      <th>2020-06-30</th>\n      <td>1.130239</td>\n      <td>1.523158</td>\n      <td>-4.180287</td>\n      <td>-4.039115</td>\n      <td>-3.301005</td>\n      <td>-3.782488</td>\n      <td>-3.589569</td>\n      <td>5.18134</td>\n      <td>70.98051</td>\n      <td>9.788562</td>\n      <td>-0.879282</td>\n      <td>0.596938</td>\n      <td>-0.192919</td>\n      <td>-0.018074</td>\n    </tr>\n    <tr>\n      <th>2020-07-31</th>\n      <td>1.150239</td>\n      <td>4.833158</td>\n      <td>-4.290287</td>\n      <td>-4.119115</td>\n      <td>-3.351005</td>\n      <td>-4.082488</td>\n      <td>-4.029569</td>\n      <td>4.28134</td>\n      <td>72.48951</td>\n      <td>13.879062</td>\n      <td>-0.939282</td>\n      <td>0.596938</td>\n      <td>-0.052919</td>\n      <td>-0.014903</td>\n    </tr>\n    <tr>\n      <th>2020-08-31</th>\n      <td>1.730239</td>\n      <td>6.693158</td>\n      <td>-4.120287</td>\n      <td>-4.049115</td>\n      <td>-3.341005</td>\n      <td>-3.972488</td>\n      <td>-3.789569</td>\n      <td>2.48134</td>\n      <td>73.44751</td>\n      <td>14.648562</td>\n      <td>-0.779282</td>\n      <td>0.636938</td>\n      <td>-0.182919</td>\n      <td>-0.012015</td>\n    </tr>\n    <tr>\n      <th>2020-09-30</th>\n      <td>0.130239</td>\n      <td>-4.566842</td>\n      <td>-4.150287</td>\n      <td>-4.049115</td>\n      <td>-3.341005</td>\n      <td>-3.912488</td>\n      <td>-3.739569</td>\n      <td>1.88134</td>\n      <td>73.97551</td>\n      <td>14.587462</td>\n      <td>-0.809282</td>\n      <td>0.606938</td>\n      <td>-0.172919</td>\n      <td>-0.011150</td>\n    </tr>\n    <tr>\n      <th>2020-10-31</th>\n      <td>-2.379761</td>\n      <td>-3.036842</td>\n      <td>-3.960287</td>\n      <td>-3.949115</td>\n      <td>-3.331005</td>\n      <td>-3.872488</td>\n      <td>-3.689569</td>\n      <td>0.98134</td>\n      <td>74.09151</td>\n      <td>15.559762</td>\n      <td>-0.629282</td>\n      <td>0.606938</td>\n      <td>-0.182919</td>\n      <td>-0.013179</td>\n    </tr>\n  </tbody>\n</table>\n<p>418 rows × 14 columns</p>\n</div>"
     },
     "metadata": {},
     "execution_count": 1489
    }
   ],
   "source": [
    "import statsmodels.api as sm\n",
    "common_sample = pd.DataFrame([momentum,vwm, const_mat_10,const_mat_5,const_mat_1,aaa,baa,unrate,core_cpi,ind_prod,term,curve,default,inflation]).T\n",
    "common_sample.columns = [\"Mom\", \"VWM\",\"10yr\",\"5yr\",\"1yr\",\"AAA\",\"BAA\",\"unempl\",\"CPI\",\"Ind_Prod\",\"Term\", \"Curve\", \"Default\", \"Inflation\"]\n",
    "common_sample = common_sample.dropna()\n",
    "#common_sample = sm.add_constant(common_sample)\n",
    "common_sample = common_sample - common_sample.mean(axis=0)\n",
    "common_sample"
   ]
  },
  {
   "source": [
    "Importing useful functions"
   ],
   "cell_type": "markdown",
   "metadata": {}
  },
  {
   "cell_type": "code",
   "execution_count": 1490,
   "metadata": {},
   "outputs": [],
   "source": [
    "## Cross Validation function\n",
    "\n",
    "def xval_5fold(y, x , random=False, seed = 20201231,fold=5):\n",
    "    # Use numpy arrays for simplicity\n",
    "    y = np.asarray(y)\n",
    "    x = np.asarray(x)\n",
    "    n = y.shape[0]\n",
    "    if random:\n",
    "        # If randomisation is needed, use either the default or provided seed\n",
    "        rg = np.random.default_rng(seed)\n",
    "        # Generate a set of index values to use to randomly reorder the data\n",
    "        # After randomisation, we can use the data as if it is is inorder!\n",
    "        ind = rg.permutation(np.arange(n))\n",
    "        y = y[ind]\n",
    "        x = x[ind]\n",
    "    # Compute the block size\n",
    "    block = n / fold\n",
    "    sse = 0.0\n",
    "    for i in range(int(fold)):\n",
    "        # Start and end of each block need to be integers or we lose an observation\n",
    "        # Rounding ensures that we get all observations since int rounds down\n",
    "        st = int(np.round(i * block))\n",
    "        en = int(np.round((i + 1) * block))\n",
    "        # Construct the indicies of the observations that we leave out\n",
    "        leave_out = np.r_[st:en]\n",
    "        # The included are the one that we don't leave out\n",
    "        include = np.setdiff1d(np.arange(n), leave_out)\n",
    "        # Compute the regression coefficients\n",
    "        beta = lstsq(x[include], y[include], rcond=None)[0]\n",
    "        # Compute the residuals and add to the sse\n",
    "        resid = y[st:en]- x[st:en] @ beta\n",
    "        sse += resid @ resid\n",
    "    return sse\n",
    "\n",
    "# Randomisation is better when we suspect the model may not be totally stable"
   ]
  },
  {
   "cell_type": "code",
   "execution_count": 1689,
   "metadata": {},
   "outputs": [],
   "source": [
    "# forward stepwise function: \n",
    "# requires x: x dataframe , y series, p = number of columns, requires xval function too\n",
    "# input x, y, p\n",
    "def forward_stepwise(x, y, p,random=False,fold=5):\n",
    "    included = []\n",
    "\n",
    "    for i in range(p):\n",
    "        excluded = [col for col in x if col not in included]\n",
    "        best_sse = np.inf\n",
    "        for col in excluded:\n",
    "            try_x = x[included + [col]]\n",
    "            beta = lstsq(try_x, y, rcond=None)[0]\n",
    "            resid = y - try_x @ beta\n",
    "            sse = resid @ resid\n",
    "            if sse < best_sse:\n",
    "                best_sse = sse\n",
    "                next_var = col\n",
    "        included.append(next_var)\n",
    "    \n",
    "    fsr_sse_sv = {}\n",
    "    for i in range(1,p+1):\n",
    "        fsr_sse_sv[i] = xval_5fold(y,x[included[:i]],random=random, fold=fold)\n",
    "    fsr_sse_sv = pd.Series(fsr_sse_sv)\n",
    "    forward_step_model = included[:fsr_sse_sv.idxmin()]\n",
    "    return forward_step_model, pd.Series(fsr_sse_sv)"
   ]
  },
  {
   "cell_type": "code",
   "execution_count": 1705,
   "metadata": {},
   "outputs": [],
   "source": [
    "# Backward stepwise \n",
    "\n",
    "def back_stepwise(x,y,p,random=False,fold=5):\n",
    "\n",
    "\n",
    "    included = list(x.columns)\n",
    "    \n",
    "    removed = []\n",
    "    p = x.shape[1]\n",
    "\n",
    "    for i in range(p):\n",
    "        best_sse = np.inf\n",
    "        for col in included:\n",
    "            try_col = included[:]\n",
    "            try_col.remove(col)\n",
    "            try_x = x[try_col]\n",
    "            beta = lstsq(try_x,y,rcond=None)[0]\n",
    "            resid = y - try_x @ beta\n",
    "            sse = resid @ resid\n",
    "            if sse < best_sse:\n",
    "                best_sse = sse\n",
    "                next_drop = col\n",
    "        removed.append(next_drop)\n",
    "        included.remove(next_drop)\n",
    "\n",
    "    #print(removed)\n",
    "\n",
    "    included = removed[::-1]\n",
    "\n",
    "    bsr_sse_sv = {}\n",
    "    for i in range(1,p+1):\n",
    "        bsr_sse_sv[i] = xval_5fold(y,x[included[:i]],random=random,fold=fold)\n",
    "    bsr_sse_sv = pd.Series(bsr_sse_sv)\n",
    "    backstep_model = included[:bsr_sse_sv.idxmin()]\n",
    "    return backstep_model"
   ]
  },
  {
   "cell_type": "code",
   "execution_count": 1719,
   "metadata": {},
   "outputs": [],
   "source": [
    "# Hybrid stepwise function\n",
    "# requires x: x dataframe , y series, p = number of columns, requires xval function too\n",
    "# input x, y, p\n",
    "def hybrid_stepwise(x, y, p,random=False,fold=5):\n",
    "    included = []\n",
    "\n",
    "    for i in range(p):\n",
    "        excluded = [col for col in x if col not in included]\n",
    "        best_sse = np.inf\n",
    "        for col in excluded:\n",
    "            try_x = x[included + [col]]\n",
    "            beta = lstsq(try_x, y, rcond=None)[0]\n",
    "            resid = y - try_x @ beta\n",
    "            sse = resid @ resid\n",
    "            if sse < best_sse:\n",
    "                best_sse = sse\n",
    "                next_var = col\n",
    "        included.append(next_var)\n",
    "\n",
    "    end_models = {}\n",
    "    for i in range(1,p+1):\n",
    "        x_col = included[:i]\n",
    "        regressors = x[x_col]\n",
    "        end_models[i] = back_stepwise(regressors,y,p)\n",
    "\n",
    "    hsr_sse_sv = {}\n",
    "\n",
    "    for i in range(1,p+1):\n",
    "        hsr_sse_sv[i] = xval_5fold(y,x[end_models[i]],random=random, fold=fold)\n",
    "    hsr_sse_sv = pd.Series(hsr_sse_sv)\n",
    "    hybrid_step_model = end_models[hsr_sse_sv.idxmin()]\n",
    "\n",
    "    return hybrid_step_model"
   ]
  },
  {
   "cell_type": "code",
   "execution_count": 1492,
   "metadata": {},
   "outputs": [],
   "source": [
    "### Best subset regression function\n",
    "\n",
    "def best_subset(x, y, p, random=False, fold=5):\n",
    "\n",
    "    \"\"\"for i in range(1, p+1):\n",
    "        count = 0\n",
    "        for comb in combinations(x.columns, i):\n",
    "            count += 1\n",
    "            if count > 1:\n",
    "                break\"\"\"\n",
    "\n",
    "    best_models = {}\n",
    "    for i in range( 1, p+1):\n",
    "        best_sse = np.inf\n",
    "        for comb in combinations(x.columns, i):\n",
    "            reg = x[list(comb)]\n",
    "            beta = lstsq(reg, y , rcond=None)[0]\n",
    "            resid = y - reg @ beta\n",
    "            sse = resid @ resid\n",
    "            if sse < best_sse:\n",
    "                best_sse = sse\n",
    "                best_models[i] = list(comb)\n",
    "\n",
    "    bsr_sse_xv = {}\n",
    "    for n_var in best_models:\n",
    "        bsr_sse_xv[n_var] = xval_5fold(y, x[best_models[n_var]], random=random,fold=fold)\n",
    "    bsr_sse_xv = pd.Series(bsr_sse_xv)\n",
    "    bsr_model = best_models[bsr_sse_xv.idxmin()]\n",
    "\n",
    "    return bsr_model, bsr_sse_xv\n",
    "\n",
    "#print(bsr_model)\n",
    "#bsr_sse_xv"
   ]
  },
  {
   "source": [
    "# Fully cross validated best subset - too cumbersome\n",
    "\"\"\"def best_subset(x, y, p, random=False, fold=5):\n",
    "\n",
    "    best_models = {}\n",
    "    for i in range( 1, p+1):\n",
    "        best_sse = np.inf\n",
    "        for comb in combinations(x.columns, i):\n",
    "            reg = x[list(comb)]\n",
    "\n",
    "            sse = xval_5fold(y,reg,random=random,fold=fold)\n",
    "\n",
    "\n",
    "\n",
    "            #beta = lstsq(reg, y , rcond=None)[0]\n",
    "            #resid = y - reg @ beta\n",
    "            #sse = resid @ resid\n",
    "            if sse < best_sse:\n",
    "                best_sse = sse\n",
    "                best_models[i] = list(comb)\n",
    "\n",
    "    bsr_sse_xv = {}\n",
    "    for n_var in best_models:\n",
    "        bsr_sse_xv[n_var] = xval_5fold(y, x[best_models[n_var]], random=random,fold=fold)\n",
    "    bsr_sse_xv = pd.Series(bsr_sse_xv)\n",
    "    bsr_model = best_models[bsr_sse_xv.idxmin()]\n",
    "\n",
    "    return bsr_model, bsr_sse_xv\"\"\""
   ],
   "cell_type": "code",
   "metadata": {},
   "execution_count": 1024,
   "outputs": []
  },
  {
   "cell_type": "code",
   "execution_count": 1587,
   "metadata": {},
   "outputs": [],
   "source": [
    "# General to Specific selection\n",
    "\n",
    "def gts(x,y):\n",
    "    cv = stats.norm.ppf(.995)\n",
    "\n",
    "    included  = list(x.columns)\n",
    "    y = y\n",
    "    for i in range(16):\n",
    "        x = x.loc[:,included]\n",
    "        res = sm.OLS(y,x).fit(cov_type=\"HC0\")\n",
    "        tstats = res.tvalues\n",
    "        if tstats.abs().min() < cv:\n",
    "            sorted_tstats = tstats.abs().sort_values()\n",
    "            remove = sorted_tstats.index[0]\n",
    "            included.remove(remove)\n",
    "        else:\n",
    "            break\n",
    "    return included"
   ]
  },
  {
   "cell_type": "code",
   "execution_count": 1494,
   "metadata": {},
   "outputs": [],
   "source": [
    "# Ridge regression -- only works without a constant\n",
    "\n",
    "def ridge_reg(x,y):\n",
    "    x_scale = x.std(ddof=0)\n",
    "    y_scale = y.std(ddof=0)\n",
    "    std_x = x / x_scale\n",
    "    std_y = y / y_scale\n",
    "\n",
    "    ridge_cv = RidgeCV(fit_intercept=False, alphas=np.linspace(1, 100, 101))\n",
    "    ridge_cv = ridge_cv.fit(std_x, std_y)\n",
    "    print(f\"Optimal alpha = {ridge_cv.alpha_}\")\n",
    "    start = ridge_cv.alpha_ - (1/3 * ridge_cv.alpha_)\n",
    "    end = ridge_cv.alpha_ + (1/3 * ridge_cv.alpha_)\n",
    "\n",
    "    ridge_cv = RidgeCV(fit_intercept=False, alphas=np.linspace(start, end, 2001))\n",
    "    ridge_cv = ridge_cv.fit(std_x, std_y)\n",
    "    print(f\"Optimal alpha = {ridge_cv.alpha_}\")\n",
    "    start = ridge_cv.alpha_ - (1/3 * ridge_cv.alpha_)\n",
    "    end = ridge_cv.alpha_ + (1/3 * ridge_cv.alpha_)\n",
    "\n",
    "    ridge_cv = RidgeCV(fit_intercept=False, alphas=np.linspace(start, end, 2001))\n",
    "    ridge_cv = ridge_cv.fit(std_x, std_y)\n",
    "    print(f\"Optimal alpha = {ridge_cv.alpha_}\")\n",
    "\n",
    "    return ridge_cv.coef_ * (y_scale / x_scale)"
   ]
  },
  {
   "cell_type": "code",
   "execution_count": 1495,
   "metadata": {},
   "outputs": [],
   "source": [
    "### LASSO function\n",
    "\n",
    "def lasso_reg(x,y):\n",
    "\n",
    "    x_scale = x.std(ddof=0)\n",
    "    y_scale = y.std(ddof=0)\n",
    "    std_x = x / x_scale\n",
    "    std_y = y / y_scale\n",
    "    std_x = std_x\n",
    "\n",
    "    lasso_cv = LassoCV(fit_intercept=False)\n",
    "    lasso_cv = lasso_cv.fit(std_x,std_y)\n",
    "    #print(f\"Optimal Alpha = {lasso_cv.alpha_}\")\n",
    "    lasso_beta = lasso_cv.coef_  * (y_scale / x_scale)\n",
    "    return lasso_beta"
   ]
  },
  {
   "source": [
    "Problem 1, predicting momentum\n",
    "--------------------------------------------------------"
   ],
   "cell_type": "markdown",
   "metadata": {}
  },
  {
   "cell_type": "code",
   "execution_count": 1781,
   "metadata": {},
   "outputs": [],
   "source": [
    "# Selecting a model to predict momentum returns in sample\n",
    "# Setup y, x, t and p - cutting off first and last values to create a lagged effect of our regressors\n",
    "\n",
    "# y = common_sample[\"Mom\"][\"1986-02-28\":]\n",
    "y = momentum[\"1986-02-28\":\"2020-10-31\"]\n",
    "x = common_sample[\"1986-01-28\":\"2020-09-30\"]\n",
    "t, p = x.shape\n",
    "x.index = x.index.shift(1)\n",
    "\n",
    "\n",
    "# Setup in_sample data\n",
    "\n",
    "#y_in = common_sample[\"Mom\"][1:209]\n",
    "y_in = momentum[1:209]\n",
    "x_in = common_sample[0:208]\n",
    "t_in, p_in = x_in.shape\n",
    "x_in.index = x_in.index.shift(1)\n",
    "\n",
    "# Set up the out of sample evaluation data\n",
    "# Setup y, x, t and p - cutting off first and last values to create a lagged effect of our regressors\n",
    "\n",
    "#y_oos = common_sample[\"Mom\"][209:]\n",
    "y_oos = momentum[209:-1]\n",
    "x_oos = common_sample[208:-1]\n",
    "t_oos, p_oos = x_oos.shape\n",
    "x_oos.index = x_oos.index.shift(1)\n",
    "\n",
    "x_scale = x.std(ddof=0)\n",
    "y_scale = y.std(ddof=0)\n",
    "std_x = x / x_scale\n",
    "std_y = y / y_scale"
   ]
  },
  {
   "cell_type": "code",
   "execution_count": 1445,
   "metadata": {},
   "outputs": [
    {
     "output_type": "execute_result",
     "data": {
      "text/plain": [
       "Date\n",
       "1986-02-28    0.49\n",
       "1986-03-31    0.76\n",
       "1986-04-30   -0.36\n",
       "1986-05-31   -0.29\n",
       "1986-06-30    0.34\n",
       "              ... \n",
       "2020-06-30    1.15\n",
       "2020-07-31    1.17\n",
       "2020-08-31    1.75\n",
       "2020-09-30    0.15\n",
       "2020-10-31   -2.36\n",
       "Freq: M, Name: Mom   , Length: 417, dtype: float64"
      ]
     },
     "metadata": {},
     "execution_count": 1445
    }
   ],
   "source": [
    "y"
   ]
  },
  {
   "cell_type": "code",
   "execution_count": 1320,
   "metadata": {},
   "outputs": [
    {
     "output_type": "execute_result",
     "data": {
      "text/plain": [
       "(['Mom', '1yr', 'BAA', 'unempl', 'CPI', 'Ind_Prod', 'Curve'],\n",
       " 1     190.540998\n",
       " 2     186.313345\n",
       " 3     185.311511\n",
       " 4     183.331755\n",
       " 5     180.540560\n",
       " 6     179.946257\n",
       " 7     179.778476\n",
       " 8     184.507811\n",
       " 9     185.125053\n",
       " 10    188.265548\n",
       " 11    189.829165\n",
       " 12    189.829165\n",
       " 13    189.829165\n",
       " 14    189.829165\n",
       " dtype: float64)"
      ]
     },
     "metadata": {},
     "execution_count": 1320
    }
   ],
   "source": [
    "# Best subset model selection, momentum in sample\n",
    "### Cell takes a minute to run so keep blocked off for now###\n",
    "\n",
    "#best_subset(x, y, p, random=True, fold=5)"
   ]
  },
  {
   "cell_type": "code",
   "execution_count": 1726,
   "metadata": {},
   "outputs": [
    {
     "output_type": "execute_result",
     "data": {
      "text/plain": [
       "['Term', 'Curve', 'unempl', 'Ind_Prod', 'Default', 'Mom']"
      ]
     },
     "metadata": {},
     "execution_count": 1726
    }
   ],
   "source": [
    "hybrid_stepwise(x,y,p)"
   ]
  },
  {
   "cell_type": "code",
   "execution_count": 1718,
   "metadata": {},
   "outputs": [
    {
     "output_type": "execute_result",
     "data": {
      "text/plain": [
       "(['Default', 'Mom', 'Term', 'unempl', 'Curve', 'Ind_Prod'],\n",
       " 1     182.057043\n",
       " 2     181.382338\n",
       " 3     180.812383\n",
       " 4     185.546405\n",
       " 5     181.681202\n",
       " 6     178.239288\n",
       " 7     179.434001\n",
       " 8     180.827496\n",
       " 9     182.385478\n",
       " 10    183.052752\n",
       " 11    184.175372\n",
       " 12    184.175372\n",
       " 13    184.175372\n",
       " 14    184.175372\n",
       " dtype: float64)"
      ]
     },
     "metadata": {},
     "execution_count": 1718
    }
   ],
   "source": [
    "### Forward stepwise model selection, in sample\n",
    "forward_stepwise(x, y, p, fold=5)"
   ]
  },
  {
   "cell_type": "code",
   "execution_count": 1339,
   "metadata": {},
   "outputs": [],
   "source": [
    "# \n",
    "gts_model = gts(x,y)"
   ]
  },
  {
   "cell_type": "code",
   "execution_count": 1524,
   "metadata": {},
   "outputs": [
    {
     "output_type": "stream",
     "name": "stdout",
     "text": [
      "Optimal alpha = 1.0\nOptimal alpha = 0.6666666666666667\nOptimal alpha = 0.664888888888889\n"
     ]
    },
    {
     "output_type": "execute_result",
     "data": {
      "text/plain": [
       "10.987634761519406"
      ]
     },
     "metadata": {},
     "execution_count": 1524
    }
   ],
   "source": [
    "# Ridge regression and evaluation ( also ridge of gts model/ another model)\n",
    "\n",
    "pred_returns = x_oos[gts_model] @ ridge_reg(x[gts_model],y)\n",
    "\n",
    "strat_returns = np.ones(209)\n",
    "for i in range(209):\n",
    "    if pred_returns[i] > y_in.mean():\n",
    "        portfolio_weight = 1.5\n",
    "    else:\n",
    "        portfolio_weight = 0.5\n",
    "    \n",
    "    strat_returns[i] = (portfolio_weight * y_oos[i]) + (1- portfolio_weight) * rf[i+208]\n",
    "\n",
    "\n",
    "cum_strat_returns = ((1+strat_returns/100).cumprod()-1)*100\n",
    "cum_strat_returns[-1]"
   ]
  },
  {
   "cell_type": "code",
   "execution_count": 1521,
   "metadata": {},
   "outputs": [
    {
     "output_type": "execute_result",
     "data": {
      "text/plain": [
       "11.750557828461506"
      ]
     },
     "metadata": {},
     "execution_count": 1521
    }
   ],
   "source": [
    "#Lasso evaluation\n",
    "\n",
    "pred_returns = x_oos[gts_model] @ lasso_reg(x[gts_model],y)\n",
    "\n",
    "strat_returns = np.ones(209)\n",
    "for i in range(209):\n",
    "    if pred_returns[i] > y_in.mean():\n",
    "        portfolio_weight = 1.5\n",
    "    else:\n",
    "        portfolio_weight = 0.5\n",
    "    \n",
    "    strat_returns[i] = (portfolio_weight * y_oos[i]) + (1- portfolio_weight) * rf[i+208]\n",
    "\n",
    "\n",
    "cum_strat_returns = ((1+strat_returns/100).cumprod()-1)*100\n",
    "cum_strat_returns[-1]"
   ]
  },
  {
   "cell_type": "code",
   "execution_count": 1679,
   "metadata": {},
   "outputs": [
    {
     "output_type": "execute_result",
     "data": {
      "text/plain": [
       "27.534772769774783"
      ]
     },
     "metadata": {},
     "execution_count": 1679
    }
   ],
   "source": [
    "## Evaluating the model #######\n",
    "\n",
    "beta = lstsq(x[['Term', 'Curve', 'unempl', 'Ind_Prod', 'Default', 'Mom']],y,rcond=0)[0]\n",
    "pred_returns = x_oos[['Term', 'Curve', 'unempl', 'Ind_Prod', 'Default', 'Mom']] @ beta\n",
    "\n",
    "strat_returns = np.ones(209)\n",
    "for i in range(209):\n",
    "    if pred_returns[i] > y_in.quantile(.75):\n",
    "        portfolio_weight = 3\n",
    "    elif pred_returns[i] > y_in.quantile(.5):\n",
    "        portfolio_weight = 1\n",
    "    elif pred_returns[i] > y_in.quantile(.25):\n",
    "        portfolio_weight = 0.5\n",
    "    else:\n",
    "        portfolio_weight = -1\n",
    "    strat_returns[i] = (portfolio_weight * y_oos[i]) + (1- portfolio_weight) * rf[i+208]\n",
    "\n",
    "\n",
    "cum_strat_returns = ((1+strat_returns/100).cumprod()-1)*100\n",
    "cum_strat_returns[-1]"
   ]
  },
  {
   "source": [
    "Test out Models Here, in sample Momentum\n",
    "----------------------------------\n",
    "Add in the desired regressors, evaluate with the trading strategy by running first cell\n",
    "then run next 2 cells for r_squared, out of sample SSE and sharpe ratio"
   ],
   "cell_type": "markdown",
   "metadata": {}
  },
  {
   "cell_type": "code",
   "execution_count": 1390,
   "metadata": {},
   "outputs": [
    {
     "output_type": "execute_result",
     "data": {
      "text/plain": [
       "Index(['Mom', 'VWM', '10yr', '5yr', '1yr', 'AAA', 'BAA', 'unempl', 'CPI',\n",
       "       'Ind_Prod', 'Term', 'Curve', 'Default', 'Inflation'],\n",
       "      dtype='object')"
      ]
     },
     "metadata": {},
     "execution_count": 1390
    }
   ],
   "source": [
    "# For reference\n",
    "\n",
    "common_sample.columns"
   ]
  },
  {
   "cell_type": "code",
   "execution_count": 1772,
   "metadata": {},
   "outputs": [
    {
     "output_type": "execute_result",
     "data": {
      "text/plain": [
       "-6.713644392532925"
      ]
     },
     "metadata": {},
     "execution_count": 1772
    }
   ],
   "source": [
    "\n",
    "beta = lstsq(x[['5yr']],y,rcond=0)[0]\n",
    "\n",
    "pred_returns = x_oos[['5yr']] @ beta\n",
    "\n",
    "strat_returns = np.ones(209)\n",
    "for i in range(209):\n",
    "    if pred_returns[i] > y_in.mean():\n",
    "        portfolio_weight = 4\n",
    "    else:\n",
    "        portfolio_weight = -4\n",
    "    \n",
    "    strat_returns[i] = (portfolio_weight * y_oos[i]) + (1- portfolio_weight) * rf[i+208]\n",
    "\n",
    "\n",
    "cum_strat_returns = ((1+strat_returns/100).cumprod()-1)*100\n",
    "cum_strat_returns[-1]"
   ]
  },
  {
   "cell_type": "code",
   "execution_count": 1773,
   "metadata": {},
   "outputs": [
    {
     "output_type": "stream",
     "name": "stdout",
     "text": [
      "The out of sample R2 for the out of sample period is 0.1%.\n\nThe in sample R2 for the out of sample period is 11.2%.\n"
     ]
    },
    {
     "output_type": "execute_result",
     "data": {
      "text/plain": [
       "129.80940441577607"
      ]
     },
     "metadata": {},
     "execution_count": 1773
    }
   ],
   "source": [
    "resid_oos = y_oos - pred_returns\n",
    "oos_sse = resid_oos @ resid_oos\n",
    "oos_tss = (y_oos **2).sum()\n",
    "oos_r2 = 1- oos_sse/ oos_tss\n",
    "print(f\"The out of sample R2 for the out of sample period is {100*oos_r2:0.1f}%.\")\n",
    "print()\n",
    "r2 = OLS(y_oos, x_oos).fit().rsquared\n",
    "print(f\"The in sample R2 for the out of sample period is {100*r2:0.1f}%.\")\n",
    "oos_sse"
   ]
  },
  {
   "cell_type": "code",
   "execution_count": 1770,
   "metadata": {},
   "outputs": [
    {
     "output_type": "stream",
     "name": "stdout",
     "text": [
      "3.1536392335060035\n\n0.014530008062703893\n\n-0.023147350695825655\n"
     ]
    }
   ],
   "source": [
    "### Sharpe ratio\n",
    "print(strat_returns.std())\n",
    "print()\n",
    "print(((strat_returns.mean())-rf.mean())/ strat_returns.std() * np.sqrt(12))\n",
    "print()\n",
    "print((y_oos.mean()-rf.mean()) / y_oos.std() * np.sqrt(12))"
   ]
  },
  {
   "cell_type": "code",
   "execution_count": 1774,
   "metadata": {},
   "outputs": [
    {
     "output_type": "stream",
     "name": "stdout",
     "text": [
      "0.016277509902698314\n\n-0.016175872392965935\n"
     ]
    }
   ],
   "source": [
    "### Sharpe ratio\n",
    "\n",
    "print(   (strat_returns.mean()-rf_mean)   / strat_returns.std() * np.sqrt(12)  )\n",
    "print()\n",
    "print(   (y_oos.mean()-rf_mean) / y_oos.std() * np.sqrt(12))"
   ]
  },
  {
   "source": [
    "Momentum Out of Sample start\n",
    "-------------------------------------"
   ],
   "cell_type": "markdown",
   "metadata": {}
  },
  {
   "cell_type": "code",
   "execution_count": 1635,
   "metadata": {},
   "outputs": [
    {
     "output_type": "execute_result",
     "data": {
      "text/plain": [
       "(['5yr', 'BAA', 'unempl', 'CPI', 'Ind_Prod'],\n",
       " 1     54.858268\n",
       " 2     53.674750\n",
       " 3     55.005890\n",
       " 4     51.719652\n",
       " 5     51.414647\n",
       " 6     51.936056\n",
       " 7     51.763589\n",
       " 8     51.878720\n",
       " 9     51.995365\n",
       " 10    52.209599\n",
       " 11    53.778890\n",
       " 12    53.778890\n",
       " 13    53.778890\n",
       " 14    53.778890\n",
       " dtype: float64)"
      ]
     },
     "metadata": {},
     "execution_count": 1635
    }
   ],
   "source": [
    "### Training the data on the first half (208 data points in y)\n",
    "# best_subset(x_in, y_in, p_in, random=True,fold=5)"
   ]
  },
  {
   "cell_type": "code",
   "execution_count": 1688,
   "metadata": {},
   "outputs": [
    {
     "output_type": "execute_result",
     "data": {
      "text/plain": [
       "(['unempl', 'Mom', 'Curve', 'Term', 'Ind_Prod', 'CPI', '10yr', 'BAA', 'VWM'],\n",
       " 1     54.858268\n",
       " 2     54.275525\n",
       " 3     54.726502\n",
       " 4     55.154637\n",
       " 5     54.521437\n",
       " 6     53.463956\n",
       " 7     54.149940\n",
       " 8     53.415905\n",
       " 9     53.358809\n",
       " 10    53.673594\n",
       " 11    53.778890\n",
       " 12    53.778890\n",
       " 13    53.778890\n",
       " 14    53.778890\n",
       " dtype: float64,\n",
       " ['unempl',\n",
       "  'Mom',\n",
       "  'Curve',\n",
       "  'Term',\n",
       "  'Ind_Prod',\n",
       "  'CPI',\n",
       "  '10yr',\n",
       "  'BAA',\n",
       "  'VWM',\n",
       "  'Inflation',\n",
       "  'AAA',\n",
       "  '5yr',\n",
       "  '1yr',\n",
       "  'Default'])"
      ]
     },
     "metadata": {},
     "execution_count": 1688
    }
   ],
   "source": [
    "fwd_mom = forward_stepwise(x_in, y_in, p_in, random=True,fold=5)[0]\n",
    "forward_stepwise(x_in, y_in, p_in, random=True,fold=5)"
   ]
  },
  {
   "cell_type": "code",
   "execution_count": 1687,
   "metadata": {},
   "outputs": [
    {
     "output_type": "execute_result",
     "data": {
      "text/plain": [
       "['Term', 'Curve', 'Ind_Prod', 'Mom']"
      ]
     },
     "metadata": {},
     "execution_count": 1687
    }
   ],
   "source": [
    "hybrid_stepwise(x_in,y_in,p_in,random=True)"
   ]
  },
  {
   "cell_type": "code",
   "execution_count": 1588,
   "metadata": {},
   "outputs": [
    {
     "output_type": "execute_result",
     "data": {
      "text/plain": [
       "['10yr', 'BAA', 'unempl', 'CPI', 'Ind_Prod']"
      ]
     },
     "metadata": {},
     "execution_count": 1588
    }
   ],
   "source": [
    "gts(x_in,y_in)"
   ]
  },
  {
   "cell_type": "code",
   "execution_count": 1636,
   "metadata": {},
   "outputs": [
    {
     "output_type": "execute_result",
     "data": {
      "text/plain": [
       "48.362312921122964"
      ]
     },
     "metadata": {},
     "execution_count": 1636
    }
   ],
   "source": [
    "### Evaluating the model out of sample with LASSO\n",
    "\n",
    "\n",
    "pred_returns = x_oos[fwd_mom] @ lasso_reg(x_in[fwd_mom],y_in)\n",
    "\n",
    "\n",
    "strat_returns = np.ones(209)\n",
    "for i in range(209):\n",
    "    \n",
    "    if pred_returns[i] > 0:\n",
    "        portfolio_weight = 2\n",
    "    #elif pred_returns[i] > y_in.quantile(.5):\n",
    "       # portfolio_weight = 1\n",
    "   # elif pred_returns[i] > y_in.quantile(.25):\n",
    "      #  portfolio_weight = 0.5\n",
    "    else:\n",
    "        portfolio_weight = -1\n",
    "    \n",
    "    strat_returns[i] = (portfolio_weight * y_oos[i]) + (1 - portfolio_weight) * rf[i+208]\n",
    "\n",
    "\n",
    "cum_strat_returns = ((1+strat_returns/100).cumprod()-1)*100\n",
    "cum_strat_returns[-1]"
   ]
  },
  {
   "source": [
    "Test out Models Here, out of sample Momentum\n",
    "----------------------------------\n",
    "Add in the desired regressors, evaluate with the trading strategy by running first cell\n",
    "then run next 2 cells for r_squared, out of sample SSE and sharpe ratio"
   ],
   "cell_type": "markdown",
   "metadata": {}
  },
  {
   "cell_type": "code",
   "execution_count": 1391,
   "metadata": {},
   "outputs": [
    {
     "output_type": "execute_result",
     "data": {
      "text/plain": [
       "Index(['Mom', 'VWM', '10yr', '5yr', '1yr', 'AAA', 'BAA', 'unempl', 'CPI',\n",
       "       'Ind_Prod', 'Term', 'Curve', 'Default', 'Inflation'],\n",
       "      dtype='object')"
      ]
     },
     "metadata": {},
     "execution_count": 1391
    }
   ],
   "source": [
    "# For reference\n",
    "\n",
    "common_sample.columns"
   ]
  },
  {
   "cell_type": "code",
   "execution_count": 1800,
   "metadata": {},
   "outputs": [
    {
     "output_type": "execute_result",
     "data": {
      "text/plain": [
       "118.31086079688396"
      ]
     },
     "metadata": {},
     "execution_count": 1800
    }
   ],
   "source": [
    "### Evaluating the model out of sample without LASSO\n",
    "\n",
    "beta = lstsq(x_in[['Mom']],y_in,rcond=0)[0]\n",
    "pred_returns = x_oos[['Mom']] @ beta\n",
    "\n",
    "strat_returns = np.ones(209)\n",
    "for i in range(209):\n",
    "\n",
    "    if pred_returns[i] > y_in.mean():\n",
    "        portfolio_weight = 4\n",
    "    else:\n",
    "        portfolio_weight = -4\n",
    "    \n",
    "    strat_returns[i] = (portfolio_weight * y_oos[i]) + (1 - portfolio_weight) * rf[i+208]\n",
    "\n",
    "\n",
    "cum_strat_returns = ((1+strat_returns/100).cumprod()-1)*100\n",
    "cum_strat_returns[-1]"
   ]
  },
  {
   "cell_type": "code",
   "execution_count": 1801,
   "metadata": {},
   "outputs": [
    {
     "output_type": "stream",
     "name": "stdout",
     "text": [
      "The out of sample R2 for the out of sample period is 2.2%.\n\nThe in sample R2 for the out of sample period is 11.2%.\n"
     ]
    }
   ],
   "source": [
    "resid_oos = y_oos - pred_returns\n",
    "oos_sse = resid_oos @ resid_oos\n",
    "oos_tss = (y_oos **2).sum()\n",
    "oos_r2 = 1- (oos_sse/ oos_tss)\n",
    "print(f\"The out of sample R2 for the out of sample period is {100*oos_r2:0.1f}%.\")\n",
    "print()\n",
    "r2 = OLS(y_oos, x_oos).fit().rsquared\n",
    "print(f\"The in sample R2 for the out of sample period is {100*r2:0.1f}%.\")"
   ]
  },
  {
   "source": [
    "### Sharpe ratio\n",
    "print()\n",
    "print()\n",
    "print(((strat_returns.mean())-rf.mean())/ strat_returns.std() * np.sqrt(12))\n",
    "print()\n",
    "print((y_oos.mean()-rf.mean()) / y.std() * np.sqrt(12))"
   ],
   "cell_type": "markdown",
   "metadata": {}
  },
  {
   "cell_type": "code",
   "execution_count": 1796,
   "metadata": {},
   "outputs": [
    {
     "output_type": "execute_result",
     "data": {
      "text/plain": [
       "3.125512027253984"
      ]
     },
     "metadata": {},
     "execution_count": 1796
    }
   ],
   "source": [
    "strat_returns.std()"
   ]
  },
  {
   "cell_type": "code",
   "execution_count": 1802,
   "metadata": {},
   "outputs": [
    {
     "output_type": "stream",
     "name": "stdout",
     "text": [
      "0.4665499191499994\n\n-0.016175872392965935\n"
     ]
    }
   ],
   "source": [
    "### Sharpe ratio\n",
    "\n",
    "print(   (strat_returns.mean()-rf_mean)   / strat_returns.std() * np.sqrt(12)  )\n",
    "print()\n",
    "print(   (y_oos.mean()-rf_mean) / y_oos.std() * np.sqrt(12))"
   ]
  },
  {
   "source": [
    "------------------------------------------------------------------------------------\n",
    "------------------------------------------------------------------------------------\n",
    "------------------------------------------------------------------------------------\n",
    "------------------------------------------------------------------------------------\n",
    "-----------------------------------------------------------------------------------\n",
    "-------------------------------------------------------------------------------------\n",
    "-------------------------------------------------------------------------------------\n",
    "-------------------------------------------------------------------------------------\n",
    "-------------------------------------------------------------------------------------\n",
    "-------------------------------------------------------------------------------------\n",
    "-------------------------------------------------------------------------------------\n",
    "-------------------------------------------------------------------------------------\n",
    "-------------------------------------------------------------------------------------\n",
    "-------------------------------------------------------------------------------------\n",
    "-------------------------------------------------------------------------------------\n"
   ],
   "cell_type": "markdown",
   "metadata": {}
  },
  {
   "source": [
    "Problem 1, in sample, predicting Value Weighted Market"
   ],
   "cell_type": "markdown",
   "metadata": {}
  },
  {
   "cell_type": "code",
   "execution_count": 1775,
   "metadata": {},
   "outputs": [],
   "source": [
    "# Selecting a model to predict Value weighted market returns in sample\n",
    "# Setup y, x, t and p - cutting off first and last values to create a lagged effect of our regressors\n",
    "\n",
    "#y = common_sample[\"VWM\"][\"1986-02-28\":]\n",
    "y = vwm[\"1986-02-28\":]\n",
    "x = common_sample[\"1986-01-28\":\"2020-09-30\"]\n",
    "t, p = x.shape\n",
    "x.index = x.index.shift(1)\n",
    "\n",
    "\n",
    "# Setup in_sample data\n",
    "\n",
    "#y_in = common_sample[\"VWM\"][1:209]\n",
    "y_in = vwm[1:209]\n",
    "x_in = common_sample[0:208]\n",
    "t_in, p_in = x_in.shape\n",
    "x_in.index = x_in.index.shift(1)\n",
    "\n",
    "# Set up the out of sample evaluation data\n",
    "# Setup y, x, t and p - cutting off first and last values to create a lagged effect of our regressors\n",
    "\n",
    "#y_oos = common_sample[\"VWM\"][209:]\n",
    "y_oos = vwm[209:]\n",
    "x_oos = common_sample[208:-1]\n",
    "t_oos, p_oos = x_oos.shape\n",
    "x_oos.index = x_oos.index.shift(1)"
   ]
  },
  {
   "cell_type": "code",
   "execution_count": 1276,
   "metadata": {},
   "outputs": [
    {
     "output_type": "execute_result",
     "data": {
      "text/plain": [
       "(['const', 'Ind_Prod', 'Curve', 'Inflation'],\n",
       " 1     8327.472263\n",
       " 2     8257.845899\n",
       " 3     8228.621257\n",
       " 4     8124.477852\n",
       " 5     8211.041703\n",
       " 6     8232.513209\n",
       " 7     8222.062818\n",
       " 8     8270.586424\n",
       " 9     8262.895462\n",
       " 10    8329.127862\n",
       " 11    8417.319234\n",
       " 12    8493.365914\n",
       " 13    8493.365914\n",
       " 14    8493.365914\n",
       " 15    8493.365914\n",
       " dtype: float64)"
      ]
     },
     "metadata": {},
     "execution_count": 1276
    }
   ],
   "source": [
    "# Best subset model selection,\n",
    "### Cell takes a minute to run ###\n",
    "\n",
    "#best_subset(x,y,p,random=True)"
   ]
  },
  {
   "cell_type": "code",
   "execution_count": 1642,
   "metadata": {},
   "outputs": [
    {
     "output_type": "execute_result",
     "data": {
      "text/plain": [
       "(['Inflation', 'Ind_Prod', 'Curve'],\n",
       " 1     8716.790155\n",
       " 2     8631.037308\n",
       " 3     8486.446491\n",
       " 4     8572.198378\n",
       " 5     8579.347889\n",
       " 6     8581.180765\n",
       " 7     8632.179932\n",
       " 8     8645.427570\n",
       " 9     8698.605091\n",
       " 10    8761.890536\n",
       " 11    8866.053193\n",
       " 12    8866.053193\n",
       " 13    8866.053193\n",
       " 14    8866.053193\n",
       " dtype: float64,\n",
       " ['Inflation',\n",
       "  'Ind_Prod',\n",
       "  'Curve',\n",
       "  'Default',\n",
       "  'unempl',\n",
       "  'Mom',\n",
       "  'Term',\n",
       "  'AAA',\n",
       "  'CPI',\n",
       "  '10yr',\n",
       "  'VWM',\n",
       "  '5yr',\n",
       "  '1yr',\n",
       "  'BAA'])"
      ]
     },
     "metadata": {},
     "execution_count": 1642
    }
   ],
   "source": [
    "### Forward stepwise model selection\n",
    "forward_stepwise(x,y,p,random=True)"
   ]
  },
  {
   "cell_type": "code",
   "execution_count": 1591,
   "metadata": {},
   "outputs": [
    {
     "output_type": "execute_result",
     "data": {
      "text/plain": [
       "['Ind_Prod', 'Curve', 'Inflation']"
      ]
     },
     "metadata": {},
     "execution_count": 1591
    }
   ],
   "source": [
    "gts_model = gts(x, y)\n",
    "gts_model"
   ]
  },
  {
   "cell_type": "code",
   "execution_count": 1643,
   "metadata": {},
   "outputs": [
    {
     "output_type": "stream",
     "name": "stdout",
     "text": [
      "Optimal alpha = 100.0\n",
      "Optimal alpha = 133.33333333333331\n",
      "Optimal alpha = 147.1111111111111\n"
     ]
    },
    {
     "output_type": "execute_result",
     "data": {
      "text/plain": [
       "481.5340102276922"
      ]
     },
     "metadata": {},
     "execution_count": 1643
    }
   ],
   "source": [
    "#  Ridge evaluation\n",
    "\n",
    "pred_returns = x_oos @ ridge_reg(x ,y )\n",
    "\n",
    "strat_returns = np.ones(209)\n",
    "for i in range(209):\n",
    "    if pred_returns[i] > y_in.quantile(.75):\n",
    "        portfolio_weight = 2\n",
    "    elif pred_returns[i] > y_in.quantile(.5):\n",
    "        portfolio_weight = 2\n",
    "    elif pred_returns[i] > y_in.quantile(.25):\n",
    "        portfolio_weight = 1\n",
    "    else:\n",
    "        portfolio_weight = 1\n",
    "    \n",
    "    strat_returns[i] = (portfolio_weight * y_oos[i]) + (1- portfolio_weight) * rf[i]\n",
    "\n",
    "\n",
    "cum_strat_returns = ((1+strat_returns/100).cumprod()-1)*100\n",
    "cum_strat_returns[-1]"
   ]
  },
  {
   "cell_type": "code",
   "execution_count": 1567,
   "metadata": {},
   "outputs": [
    {
     "output_type": "execute_result",
     "data": {
      "text/plain": [
       "422.4388819372857"
      ]
     },
     "metadata": {},
     "execution_count": 1567
    }
   ],
   "source": [
    "#  LASSO evaluation ---- doesn't work so well on vwm\n",
    "\n",
    "pred_returns = x_oos @ lasso_reg(x ,y )\n",
    "\n",
    "strat_returns = np.ones(209)\n",
    "for i in range(209):\n",
    "    if pred_returns[i] > y_in.quantile(.75):\n",
    "        portfolio_weight = 2\n",
    "    elif pred_returns[i] > y_in.quantile(.5):\n",
    "        portfolio_weight = 2\n",
    "    elif pred_returns[i] > y_in.quantile(.25):\n",
    "        portfolio_weight = 1\n",
    "    else:\n",
    "        portfolio_weight = 1\n",
    "    \n",
    "    strat_returns[i] = (portfolio_weight * y_oos[i]) + (1- portfolio_weight) * rf[i]\n",
    "\n",
    "\n",
    "cum_strat_returns = ((1+strat_returns/100).cumprod()-1)*100\n",
    "cum_strat_returns[-1]"
   ]
  },
  {
   "source": [
    "Test out Models Here, In sample VWM\n",
    "----------------------------------\n",
    "Add in the desired regressors, evaluate with the trading strategy by running first cell\n",
    "then run next 2 cells for r_squared, out of sample SSE and sharpe ratio"
   ],
   "cell_type": "markdown",
   "metadata": {}
  },
  {
   "cell_type": "code",
   "execution_count": 1394,
   "metadata": {},
   "outputs": [
    {
     "output_type": "execute_result",
     "data": {
      "text/plain": [
       "Index(['Mom', 'VWM', '10yr', '5yr', '1yr', 'AAA', 'BAA', 'unempl', 'CPI',\n",
       "       'Ind_Prod', 'Term', 'Curve', 'Default', 'Inflation'],\n",
       "      dtype='object')"
      ]
     },
     "metadata": {},
     "execution_count": 1394
    }
   ],
   "source": [
    "# For reference\n",
    "\n",
    "common_sample.columns"
   ]
  },
  {
   "cell_type": "code",
   "execution_count": 1644,
   "metadata": {},
   "outputs": [
    {
     "output_type": "execute_result",
     "data": {
      "text/plain": [
       "543.4419521167162"
      ]
     },
     "metadata": {},
     "execution_count": 1644
    }
   ],
   "source": [
    "beta = lstsq(x[['BAA', 'Ind_Prod', 'Curve', 'Inflation']],y,rcond=0)[0]\n",
    "pred_returns = x_oos[['BAA', 'Ind_Prod', 'Curve', 'Inflation']] @ beta\n",
    "\n",
    "strat_returns = np.ones(209)\n",
    "for i in range(209):\n",
    "    if pred_returns[i] > y_in.quantile(.75):\n",
    "        portfolio_weight = 2\n",
    "    elif pred_returns[i] > y_in.quantile(.5):\n",
    "        portfolio_weight = 2\n",
    "    elif pred_returns[i] > y_in.quantile(.25):\n",
    "        portfolio_weight = 1\n",
    "    else:\n",
    "        portfolio_weight = 1\n",
    "    \n",
    "    strat_returns[i] = (portfolio_weight * y_oos[i]) + (1 - portfolio_weight) * rf[i+208]\n",
    "\n",
    "\n",
    "cum_strat_returns = ((1+strat_returns/100).cumprod()-1)*100\n",
    "cum_strat_returns[-1]"
   ]
  },
  {
   "cell_type": "code",
   "execution_count": 1646,
   "metadata": {},
   "outputs": [
    {
     "output_type": "stream",
     "name": "stdout",
     "text": [
      "The out of sample R2 for the out of sample period is 7.4%.\n\nThe in sample R2 for the out of sample period is 16.8%.\n"
     ]
    }
   ],
   "source": [
    "resid_oos = y_oos - pred_returns\n",
    "oos_sse = resid_oos @ resid_oos\n",
    "oos_tss = (y_oos **2).sum()\n",
    "oos_r2 = 1- oos_sse/ oos_tss\n",
    "print(f\"The out of sample R2 for the out of sample period is {100*oos_r2:0.1f}%.\")\n",
    "print()\n",
    "r2 = OLS(y_oos, x_oos).fit().rsquared\n",
    "print(f\"The in sample R2 for the out of sample period is {100*r2:0.1f}%.\")"
   ]
  },
  {
   "cell_type": "code",
   "execution_count": 1645,
   "metadata": {},
   "outputs": [
    {
     "output_type": "stream",
     "name": "stdout",
     "text": [
      "0.7698711610903691\n\n0.7254891133486322\n"
     ]
    }
   ],
   "source": [
    "### Sharpe ratio\n",
    "\n",
    "print(   (strat_returns.mean()-rf_mean)   / strat_returns.std() * np.sqrt(12)  )\n",
    "print()\n",
    "print(   (y_oos.mean()-rf_mean) / y_oos.std() * np.sqrt(12))"
   ]
  },
  {
   "source": [
    "---------------------------------------------------------------------------------------------------------------------------\n",
    "Now to replicate out of sample"
   ],
   "cell_type": "markdown",
   "metadata": {}
  },
  {
   "cell_type": "code",
   "execution_count": 1713,
   "metadata": {},
   "outputs": [
    {
     "output_type": "execute_result",
     "data": {
      "text/plain": [
       "(['Mom', '10yr', 'BAA', 'CPI', 'Curve'],\n",
       " 1     4677.584105\n",
       " 2     4540.001022\n",
       " 3     4500.247111\n",
       " 4     4507.740455\n",
       " 5     4500.200689\n",
       " 6     4569.637874\n",
       " 7     4544.641567\n",
       " 8     4567.434273\n",
       " 9     4572.297738\n",
       " 10    4607.939177\n",
       " 11    4677.095427\n",
       " 12    4677.095427\n",
       " 13    4677.095427\n",
       " 14    4677.095427\n",
       " dtype: float64)"
      ]
     },
     "metadata": {},
     "execution_count": 1713
    }
   ],
   "source": [
    "### Training the data on the first half (208 data points in y)\n",
    "#best_subset(x_in,y_in,p_in, random=False,fold=5)"
   ]
  },
  {
   "cell_type": "code",
   "execution_count": 1712,
   "metadata": {},
   "outputs": [
    {
     "output_type": "execute_result",
     "data": {
      "text/plain": [
       "(['CPI', 'Mom', 'BAA', 'Curve', '10yr'],\n",
       " 1     4677.584105\n",
       " 2     4540.001022\n",
       " 3     4500.247111\n",
       " 4     4500.247111\n",
       " 5     4500.200689\n",
       " 6     4500.200689\n",
       " 7     4500.200689\n",
       " 8     4500.200689\n",
       " 9     4500.200689\n",
       " 10    4500.200689\n",
       " 11    4500.200689\n",
       " 12    4513.341205\n",
       " 13    4513.341205\n",
       " 14    4502.075524\n",
       " dtype: float64,\n",
       " {1: ['CPI'],\n",
       "  2: ['CPI', 'Mom'],\n",
       "  3: ['CPI', 'Mom', 'BAA'],\n",
       "  4: ['CPI', 'Mom', 'BAA'],\n",
       "  5: ['CPI', 'Mom', 'BAA', 'Curve', '10yr'],\n",
       "  6: ['CPI', 'Mom', 'BAA', 'Curve', '10yr'],\n",
       "  7: ['CPI', 'Mom', 'BAA', 'Curve', '10yr'],\n",
       "  8: ['CPI', 'Mom', 'BAA', 'Curve', '10yr'],\n",
       "  9: ['CPI', 'Mom', 'BAA', 'Curve', '10yr'],\n",
       "  10: ['CPI', 'Mom', 'BAA', 'Curve', '10yr'],\n",
       "  11: ['CPI', 'Mom', 'BAA', 'Curve', '10yr'],\n",
       "  12: ['CPI', 'Mom', 'Curve', 'AAA', 'Default'],\n",
       "  13: ['CPI', 'Mom', 'Curve', 'AAA', 'Default'],\n",
       "  14: ['CPI', 'Mom', 'AAA', '1yr', 'Default']})"
      ]
     },
     "metadata": {},
     "execution_count": 1712
    }
   ],
   "source": [
    "hybrid_stepwise(x_in,y_in,p_in,random=False,fold=5)"
   ]
  },
  {
   "cell_type": "code",
   "execution_count": 1707,
   "metadata": {},
   "outputs": [
    {
     "output_type": "execute_result",
     "data": {
      "text/plain": [
       "(['CPI', 'Mom', 'BAA', 'Curve'],\n",
       " 1     4716.826525\n",
       " 2     4616.090323\n",
       " 3     4597.268692\n",
       " 4     4563.080093\n",
       " 5     4581.552838\n",
       " 6     4679.654265\n",
       " 7     4715.408913\n",
       " 8     4781.056685\n",
       " 9     4800.327304\n",
       " 10    4874.562877\n",
       " 11    4893.520329\n",
       " 12    4893.520329\n",
       " 13    4893.520329\n",
       " 14    4893.520329\n",
       " dtype: float64)"
      ]
     },
     "metadata": {},
     "execution_count": 1707
    }
   ],
   "source": [
    "fwd_step = forward_stepwise(x_in,y_in,p_in,random=False,fold=5)\n",
    "fwd_step"
   ]
  },
  {
   "cell_type": "code",
   "execution_count": 1597,
   "metadata": {},
   "outputs": [
    {
     "output_type": "execute_result",
     "data": {
      "text/plain": [
       "['CPI']"
      ]
     },
     "metadata": {},
     "execution_count": 1597
    }
   ],
   "source": [
    "gts(x_in,y_in)"
   ]
  },
  {
   "cell_type": "code",
   "execution_count": 1649,
   "metadata": {},
   "outputs": [
    {
     "output_type": "stream",
     "name": "stdout",
     "text": [
      "Optimal alpha = 23.77\nOptimal alpha = 23.627380000000002\nOptimal alpha = 23.627380000000002\n"
     ]
    },
    {
     "output_type": "execute_result",
     "data": {
      "text/plain": [
       "390.77143452013024"
      ]
     },
     "metadata": {},
     "execution_count": 1649
    }
   ],
   "source": [
    "#  LASSO evaluation\n",
    "\n",
    "pred_returns = x_oos[fwd_step[0]] @ ridge_reg(x_in[fwd_step[0]], y_in)\n",
    "\n",
    "strat_returns = np.ones(209)\n",
    "for i in range(209):\n",
    "    if pred_returns[i] > y_in.quantile(.75):\n",
    "        portfolio_weight = 1.5\n",
    "    elif pred_returns[i] > y_in.quantile(.5):\n",
    "        portfolio_weight = 1.5\n",
    "    elif pred_returns[i] > y_in.quantile(.25):\n",
    "        portfolio_weight = 1\n",
    "    else:\n",
    "        portfolio_weight = 1\n",
    "    \n",
    "    strat_returns[i] = (portfolio_weight * y_oos[i]) + (1- portfolio_weight) * rf[i+208]\n",
    "\n",
    "\n",
    "cum_strat_returns = ((1+strat_returns/100).cumprod()-1)*100\n",
    "cum_strat_returns[-1]"
   ]
  },
  {
   "cell_type": "code",
   "execution_count": 1648,
   "metadata": {},
   "outputs": [
    {
     "output_type": "execute_result",
     "data": {
      "text/plain": [
       "392.1727560747218"
      ]
     },
     "metadata": {},
     "execution_count": 1648
    }
   ],
   "source": [
    "#  LASSO evaluation\n",
    "\n",
    "pred_returns = x_oos[fwd_step[0]] @ lasso_reg(x_in[fwd_step[0]], y_in)\n",
    "\n",
    "strat_returns = np.ones(209)\n",
    "for i in range(209):\n",
    "    if pred_returns[i] > y_in.quantile(.75):\n",
    "        portfolio_weight = 1.5\n",
    "    elif pred_returns[i] > y_in.quantile(.5):\n",
    "        portfolio_weight = 1.5\n",
    "    elif pred_returns[i] > y_in.quantile(.25):\n",
    "        portfolio_weight = 1\n",
    "    else:\n",
    "        portfolio_weight = 1\n",
    "    \n",
    "    strat_returns[i] = (portfolio_weight * y_oos[i]) + (1- portfolio_weight) * rf[i+208]\n",
    "\n",
    "\n",
    "cum_strat_returns = ((1+strat_returns/100).cumprod()-1)*100\n",
    "cum_strat_returns[-1]"
   ]
  },
  {
   "source": [
    "Test out Models Here, out of sample VWM\n",
    "----------------------------------\n",
    "Add in the desired regressors, evaluate with the trading strategy by running first cell\n",
    "then run next 2 cells for r_squared, out of sample SSE and sharpe ratio"
   ],
   "cell_type": "markdown",
   "metadata": {}
  },
  {
   "cell_type": "code",
   "execution_count": 1479,
   "metadata": {},
   "outputs": [
    {
     "output_type": "execute_result",
     "data": {
      "text/plain": [
       "Index(['Mom', 'VWM', '10yr', '5yr', '1yr', 'AAA', 'BAA', 'unempl', 'CPI',\n",
       "       'Ind_Prod', 'Term', 'Curve', 'Default', 'Inflation'],\n",
       "      dtype='object')"
      ]
     },
     "metadata": {},
     "execution_count": 1479
    }
   ],
   "source": [
    "# For reference\n",
    "\n",
    "common_sample.columns"
   ]
  },
  {
   "cell_type": "code",
   "execution_count": 1776,
   "metadata": {},
   "outputs": [
    {
     "output_type": "execute_result",
     "data": {
      "text/plain": [
       "365.15312981482106"
      ]
     },
     "metadata": {},
     "execution_count": 1776
    }
   ],
   "source": [
    "### Evaluating the model out of sample\n",
    "\n",
    "beta = lstsq(x_in[[\"Mom\"]],y_in,rcond=0)[0]\n",
    "pred_returns = x_oos[[\"Mom\"]] @ beta\n",
    "\n",
    "#['Mom', 'unempl', 'Curve']\n",
    "\n",
    "strat_returns = np.ones(209)\n",
    "for i in range(209):\n",
    "    if pred_returns[i] > y_in.quantile(.75):\n",
    "        portfolio_weight = 2\n",
    "    elif pred_returns[i] > y_in.quantile(.5):\n",
    "        portfolio_weight = 2\n",
    "    elif pred_returns[i] > y_in.quantile(.25):\n",
    "        portfolio_weight = 1\n",
    "    else:\n",
    "        portfolio_weight = 1\n",
    "    \n",
    "    \"\"\"if pred_returns[i] > y_in.mean():\n",
    "        portfolio_weight = 1.5\n",
    "    else:\n",
    "        portfolio_weight = 0.5\"\"\"\n",
    "\n",
    "    strat_returns[i] = (portfolio_weight * y_oos[i]) + (1 - portfolio_weight) * rf[i+208]\n",
    "\n",
    "\n",
    "cum_strat_returns = ((1+strat_returns/100).cumprod()-1)*100\n",
    "cum_strat_returns[-1]"
   ]
  },
  {
   "cell_type": "code",
   "execution_count": 1460,
   "metadata": {},
   "outputs": [
    {
     "output_type": "execute_result",
     "data": {
      "text/plain": [
       "422.4388819372857"
      ]
     },
     "metadata": {},
     "execution_count": 1460
    }
   ],
   "source": [
    "((1+(y_oos/100)).cumprod()[-1]-1)*100"
   ]
  },
  {
   "cell_type": "code",
   "execution_count": 1777,
   "metadata": {},
   "outputs": [
    {
     "output_type": "stream",
     "name": "stdout",
     "text": [
      "The out of sample R2 for the out of sample period is -13.4%.\n\nThe in sample R2 for the out of sample period is 16.8%.\n"
     ]
    }
   ],
   "source": [
    "resid_oos = y_oos - pred_returns\n",
    "oos_sse = resid_oos @ resid_oos\n",
    "oos_tss = (y_oos **2).sum()\n",
    "oos_r2 = 1- (oos_sse/ oos_tss)\n",
    "print(f\"The out of sample R2 for the out of sample period is {100*oos_r2:0.1f}%.\")\n",
    "print()\n",
    "r2 = OLS(y_oos, x_oos).fit().rsquared\n",
    "print(f\"The in sample R2 for the out of sample period is {100*r2:0.1f}%.\")"
   ]
  },
  {
   "cell_type": "code",
   "execution_count": 1778,
   "metadata": {},
   "outputs": [
    {
     "output_type": "stream",
     "name": "stdout",
     "text": [
      "0.5657832668035775\n\n0.7254891133486322\n"
     ]
    }
   ],
   "source": [
    "### Sharpe ratio\n",
    "\n",
    "print(   (strat_returns.mean()-rf_mean)   / strat_returns.std() * np.sqrt(12)  )\n",
    "print()\n",
    "print(   (y_oos.mean()-rf_mean) / y_oos.std() * np.sqrt(12))"
   ]
  },
  {
   "cell_type": "code",
   "execution_count": null,
   "metadata": {},
   "outputs": [],
   "source": []
  }
 ]
}