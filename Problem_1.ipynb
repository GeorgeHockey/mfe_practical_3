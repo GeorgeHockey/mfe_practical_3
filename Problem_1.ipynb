{
 "metadata": {
  "language_info": {
   "codemirror_mode": {
    "name": "ipython",
    "version": 3
   },
   "file_extension": ".py",
   "mimetype": "text/x-python",
   "name": "python",
   "nbconvert_exporter": "python",
   "pygments_lexer": "ipython3",
   "version": "3.8.3-final"
  },
  "orig_nbformat": 2,
  "kernelspec": {
   "name": "python3",
   "display_name": "Python 3",
   "language": "python"
  }
 },
 "nbformat": 4,
 "nbformat_minor": 2,
 "cells": [
  {
   "cell_type": "code",
   "execution_count": 1002,
   "metadata": {},
   "outputs": [],
   "source": [
    "import pandas as pd\n",
    "import numpy as np\n",
    "import pandas_datareader as pdr\n",
    "import matplotlib.pyplot as plt\n",
    "from sklearn.model_selection import cross_val_score\n",
    "from sklearn.linear_model import LinearRegression\n",
    "from sklearn.model_selection import KFold\n",
    "from numpy.linalg import lstsq\n",
    "from itertools import combinations\n",
    "from statsmodels.api import OLS\n",
    "from sklearn.linear_model import LassoCV, RidgeCV\n",
    "import statsmodels.api as sm"
   ]
  },
  {
   "source": [
    "# Import data\n",
    "## Very slow cell to run ##\n",
    "\n",
    "# momentum\n",
    "momentum = pdr.get_data_famafrench(\"F-F_Momentum_Factor_daily\", start=\"1920\", end=\"2020-12-31\")[0]\n",
    "momentum = momentum.resample(\"M\").last().squeeze()\n",
    "\n",
    "#momentum = pd.read_csv(\"data/F-F_Momentum_Factor.csv\",index_col=\"Date\")\n",
    "#momentum.index = pd.to_datetime(momentum.index,format=\"%Y%m\")\n",
    "#momentum = momentum.resample(\"M\").last().squeeze()\n",
    "\n",
    "\n",
    "# Value weighted market\n",
    "vwm = pd.read_csv(\"data/VWM.csv\",index_col=\"Date\")\n",
    "vwm.index = pd.to_datetime(vwm.index, format=\"%Y%m\")\n",
    "vwm = vwm.resample(\"M\").last().squeeze()\n",
    "\n",
    "# 1, 5 and 10 year constant maturities\n",
    "const_mat_10 = pdr.get_data_fred(\"DGS10\", \"1920-01-01\", \"2020-12-31\")\n",
    "const_mat_10 = const_mat_10.resample(\"M\").last().squeeze()\n",
    "const_mat_5 = pdr.get_data_fred(\"DGS5\", \"1920-01-01\", \"2020-12-31\")\n",
    "const_mat_5 = const_mat_5.resample(\"M\").last().squeeze()\n",
    "const_mat_1 = pdr.get_data_fred(\"DGS1\", \"1920-01-01\", \"2020-12-31\")\n",
    "const_mat_1 = const_mat_1.resample(\"M\").last().squeeze()\n",
    "\n",
    "# AAA and BAA (Moody's)\n",
    "aaa = pd.read_csv(\"data/AAA.csv\",parse_dates=True,index_col=\"Date\")\n",
    "aaa = aaa.resample(\"M\").last().squeeze()\n",
    "baa = pdr.get_data_fred(\"DBAA\", \"1920-01-01\", \"2020-12-31\")\n",
    "baa = baa.resample(\"M\").last().squeeze()\n",
    "\n",
    "# Unemployment rate (US)\n",
    "unrate = pdr.get_data_fred(\"UNRATE\", \"1920-01-01\", \"2020-12-31\")\n",
    "unrate = unrate.resample(\"M\").last().squeeze()\n",
    "\n",
    "# core CPi US - consumer price index for all urban consumers\n",
    "core_cpi = pdr.get_data_fred(\"CPIAUCSL\", \"1920-01-01\", \"2020-12-31\")\n",
    "core_cpi = core_cpi.resample(\"M\").last().squeeze()\n",
    "\n",
    "# Industrial Productivity\n",
    "ind_prod = pdr.get_data_fred(\"INDPRO\", \"1920-01-01\", \"2020-12-31\")\n",
    "ind_prod = ind_prod.resample(\"M\").last().squeeze()\n",
    "\n",
    "# Risk free rate\n",
    "#ff_factors = pdr.get_data_famafrench(\"F-F_Research_Data_Factors_daily\", start=\"1920\", end=\"2020-12-31\")[0]\n",
    "#rf = ff_factors[\"RF\"].resample(\"M\").last()\n",
    "rf = (( 1 + const_mat_1[\"1986-02-28\":]/100) **(1/12)) -1"
   ],
   "cell_type": "code",
   "metadata": {},
   "execution_count": 1004,
   "outputs": []
  },
  {
   "cell_type": "code",
   "execution_count": 1006,
   "metadata": {},
   "outputs": [],
   "source": [
    "rf_mean = (rf[208:]).mean()"
   ]
  },
  {
   "cell_type": "code",
   "execution_count": 1008,
   "metadata": {},
   "outputs": [
    {
     "output_type": "execute_result",
     "data": {
      "text/plain": [
       "0.002794169009671416"
      ]
     },
     "metadata": {},
     "execution_count": 1008
    }
   ],
   "source": [
    "rf.mean()"
   ]
  },
  {
   "cell_type": "code",
   "execution_count": 1010,
   "metadata": {},
   "outputs": [
    {
     "output_type": "execute_result",
     "data": {
      "text/plain": [
       "            Term  Curve  Default   Inflation\n",
       "1986-01-31  1.51  -0.41    -1.32    0.038966\n",
       "1986-02-28  0.70  -0.26    -0.95    0.031484\n",
       "1986-03-31  0.67  -0.27    -1.31    0.021307\n",
       "1986-04-30  0.84  -0.42    -1.37    0.015763\n",
       "1986-05-31  1.17  -0.71    -1.32    0.016652\n",
       "...          ...    ...      ...         ...\n",
       "2020-08-31  0.60   0.28    -1.14    0.013129\n",
       "2020-09-30  0.57   0.25    -1.13    0.013994\n",
       "2020-10-31  0.75   0.25    -1.14    0.011964\n",
       "2020-11-30  0.73   0.23    -0.83    0.011542\n",
       "2020-12-31  0.83   0.31    -0.85  261.775000\n",
       "\n",
       "[420 rows x 4 columns]"
      ],
      "text/html": "<div>\n<style scoped>\n    .dataframe tbody tr th:only-of-type {\n        vertical-align: middle;\n    }\n\n    .dataframe tbody tr th {\n        vertical-align: top;\n    }\n\n    .dataframe thead th {\n        text-align: right;\n    }\n</style>\n<table border=\"1\" class=\"dataframe\">\n  <thead>\n    <tr style=\"text-align: right;\">\n      <th></th>\n      <th>Term</th>\n      <th>Curve</th>\n      <th>Default</th>\n      <th>Inflation</th>\n    </tr>\n  </thead>\n  <tbody>\n    <tr>\n      <th>1986-01-31</th>\n      <td>1.51</td>\n      <td>-0.41</td>\n      <td>-1.32</td>\n      <td>0.038966</td>\n    </tr>\n    <tr>\n      <th>1986-02-28</th>\n      <td>0.70</td>\n      <td>-0.26</td>\n      <td>-0.95</td>\n      <td>0.031484</td>\n    </tr>\n    <tr>\n      <th>1986-03-31</th>\n      <td>0.67</td>\n      <td>-0.27</td>\n      <td>-1.31</td>\n      <td>0.021307</td>\n    </tr>\n    <tr>\n      <th>1986-04-30</th>\n      <td>0.84</td>\n      <td>-0.42</td>\n      <td>-1.37</td>\n      <td>0.015763</td>\n    </tr>\n    <tr>\n      <th>1986-05-31</th>\n      <td>1.17</td>\n      <td>-0.71</td>\n      <td>-1.32</td>\n      <td>0.016652</td>\n    </tr>\n    <tr>\n      <th>...</th>\n      <td>...</td>\n      <td>...</td>\n      <td>...</td>\n      <td>...</td>\n    </tr>\n    <tr>\n      <th>2020-08-31</th>\n      <td>0.60</td>\n      <td>0.28</td>\n      <td>-1.14</td>\n      <td>0.013129</td>\n    </tr>\n    <tr>\n      <th>2020-09-30</th>\n      <td>0.57</td>\n      <td>0.25</td>\n      <td>-1.13</td>\n      <td>0.013994</td>\n    </tr>\n    <tr>\n      <th>2020-10-31</th>\n      <td>0.75</td>\n      <td>0.25</td>\n      <td>-1.14</td>\n      <td>0.011964</td>\n    </tr>\n    <tr>\n      <th>2020-11-30</th>\n      <td>0.73</td>\n      <td>0.23</td>\n      <td>-0.83</td>\n      <td>0.011542</td>\n    </tr>\n    <tr>\n      <th>2020-12-31</th>\n      <td>0.83</td>\n      <td>0.31</td>\n      <td>-0.85</td>\n      <td>261.775000</td>\n    </tr>\n  </tbody>\n</table>\n<p>420 rows × 4 columns</p>\n</div>"
     },
     "metadata": {},
     "execution_count": 1010
    }
   ],
   "source": [
    "# Variable construction:\n",
    "\n",
    "term = const_mat_10 - const_mat_1\n",
    "curve = const_mat_10 - 2 * const_mat_5 + const_mat_1\n",
    "default = aaa - baa\n",
    "\n",
    "inflation = pd.Series.copy(core_cpi)\n",
    "for i in range(12):\n",
    "    inflation[i] = np.nan\n",
    "for i in range(12,887):\n",
    "    inflation[i] = np.log(core_cpi[i]) - np.log(core_cpi[i-12])\n",
    "inflation = inflation.dropna()\n",
    "\n",
    "variables = pd.DataFrame([term,curve,default,inflation]).T\n",
    "variables.columns = [\"Term\", \"Curve\", \"Default\", \"Inflation\"]\n",
    "common_variables = variables.dropna()\n",
    "common_variables"
   ]
  },
  {
   "cell_type": "code",
   "execution_count": 1012,
   "metadata": {},
   "outputs": [
    {
     "output_type": "execute_result",
     "data": {
      "text/plain": [
       "0.06595796779179741"
      ]
     },
     "metadata": {},
     "execution_count": 1012
    }
   ],
   "source": [
    "np.log(core_cpi[14]) - np.log(core_cpi[2])"
   ]
  },
  {
   "cell_type": "code",
   "execution_count": 1014,
   "metadata": {},
   "outputs": [
    {
     "output_type": "execute_result",
     "data": {
      "text/plain": [
       "             Mom   VWM  10yr   5yr   1yr    AAA    BAA  unempl      CPI  \\\n",
       "Date                                                                      \n",
       "1986-01-31  0.34  1.21  9.08  8.53  7.57  10.05  11.37     6.7  109.900   \n",
       "1986-02-28  0.49  7.66  8.13  7.91  7.43   9.67  10.62     7.2  109.700   \n",
       "1986-03-31  0.76  5.48  7.39  7.19  6.72   9.00  10.31     7.2  109.100   \n",
       "1986-04-30 -0.36 -0.79  7.38  7.17  6.54   8.79  10.16     7.1  108.700   \n",
       "1986-05-31 -0.29  5.11  8.05  7.82  6.88   9.09  10.41     7.2  109.000   \n",
       "...          ...   ...   ...   ...   ...    ...    ...     ...      ...   \n",
       "2020-06-30  1.15  2.47  0.66  0.29  0.16   2.44   3.59    11.1  257.214   \n",
       "2020-07-31  1.17  5.78  0.55  0.21  0.11   2.14   3.15    10.2  258.723   \n",
       "2020-08-31  1.75  7.64  0.72  0.28  0.12   2.25   3.39     8.4  259.681   \n",
       "2020-09-30  0.15 -3.62  0.69  0.28  0.12   2.31   3.44     7.8  260.209   \n",
       "2020-10-31 -2.36 -2.09  0.88  0.38  0.13   2.35   3.49     6.9  260.325   \n",
       "\n",
       "            Ind_Prod  \n",
       "Date                  \n",
       "1986-01-31   57.3104  \n",
       "1986-02-28   56.9344  \n",
       "1986-03-31   56.5420  \n",
       "1986-04-30   56.5599  \n",
       "1986-05-31   56.6823  \n",
       "...              ...  \n",
       "2020-06-30   97.8019  \n",
       "2020-07-31  101.8924  \n",
       "2020-08-31  102.6619  \n",
       "2020-09-30  102.6008  \n",
       "2020-10-31  103.5731  \n",
       "\n",
       "[418 rows x 10 columns]"
      ],
      "text/html": "<div>\n<style scoped>\n    .dataframe tbody tr th:only-of-type {\n        vertical-align: middle;\n    }\n\n    .dataframe tbody tr th {\n        vertical-align: top;\n    }\n\n    .dataframe thead th {\n        text-align: right;\n    }\n</style>\n<table border=\"1\" class=\"dataframe\">\n  <thead>\n    <tr style=\"text-align: right;\">\n      <th></th>\n      <th>Mom</th>\n      <th>VWM</th>\n      <th>10yr</th>\n      <th>5yr</th>\n      <th>1yr</th>\n      <th>AAA</th>\n      <th>BAA</th>\n      <th>unempl</th>\n      <th>CPI</th>\n      <th>Ind_Prod</th>\n    </tr>\n    <tr>\n      <th>Date</th>\n      <th></th>\n      <th></th>\n      <th></th>\n      <th></th>\n      <th></th>\n      <th></th>\n      <th></th>\n      <th></th>\n      <th></th>\n      <th></th>\n    </tr>\n  </thead>\n  <tbody>\n    <tr>\n      <th>1986-01-31</th>\n      <td>0.34</td>\n      <td>1.21</td>\n      <td>9.08</td>\n      <td>8.53</td>\n      <td>7.57</td>\n      <td>10.05</td>\n      <td>11.37</td>\n      <td>6.7</td>\n      <td>109.900</td>\n      <td>57.3104</td>\n    </tr>\n    <tr>\n      <th>1986-02-28</th>\n      <td>0.49</td>\n      <td>7.66</td>\n      <td>8.13</td>\n      <td>7.91</td>\n      <td>7.43</td>\n      <td>9.67</td>\n      <td>10.62</td>\n      <td>7.2</td>\n      <td>109.700</td>\n      <td>56.9344</td>\n    </tr>\n    <tr>\n      <th>1986-03-31</th>\n      <td>0.76</td>\n      <td>5.48</td>\n      <td>7.39</td>\n      <td>7.19</td>\n      <td>6.72</td>\n      <td>9.00</td>\n      <td>10.31</td>\n      <td>7.2</td>\n      <td>109.100</td>\n      <td>56.5420</td>\n    </tr>\n    <tr>\n      <th>1986-04-30</th>\n      <td>-0.36</td>\n      <td>-0.79</td>\n      <td>7.38</td>\n      <td>7.17</td>\n      <td>6.54</td>\n      <td>8.79</td>\n      <td>10.16</td>\n      <td>7.1</td>\n      <td>108.700</td>\n      <td>56.5599</td>\n    </tr>\n    <tr>\n      <th>1986-05-31</th>\n      <td>-0.29</td>\n      <td>5.11</td>\n      <td>8.05</td>\n      <td>7.82</td>\n      <td>6.88</td>\n      <td>9.09</td>\n      <td>10.41</td>\n      <td>7.2</td>\n      <td>109.000</td>\n      <td>56.6823</td>\n    </tr>\n    <tr>\n      <th>...</th>\n      <td>...</td>\n      <td>...</td>\n      <td>...</td>\n      <td>...</td>\n      <td>...</td>\n      <td>...</td>\n      <td>...</td>\n      <td>...</td>\n      <td>...</td>\n      <td>...</td>\n    </tr>\n    <tr>\n      <th>2020-06-30</th>\n      <td>1.15</td>\n      <td>2.47</td>\n      <td>0.66</td>\n      <td>0.29</td>\n      <td>0.16</td>\n      <td>2.44</td>\n      <td>3.59</td>\n      <td>11.1</td>\n      <td>257.214</td>\n      <td>97.8019</td>\n    </tr>\n    <tr>\n      <th>2020-07-31</th>\n      <td>1.17</td>\n      <td>5.78</td>\n      <td>0.55</td>\n      <td>0.21</td>\n      <td>0.11</td>\n      <td>2.14</td>\n      <td>3.15</td>\n      <td>10.2</td>\n      <td>258.723</td>\n      <td>101.8924</td>\n    </tr>\n    <tr>\n      <th>2020-08-31</th>\n      <td>1.75</td>\n      <td>7.64</td>\n      <td>0.72</td>\n      <td>0.28</td>\n      <td>0.12</td>\n      <td>2.25</td>\n      <td>3.39</td>\n      <td>8.4</td>\n      <td>259.681</td>\n      <td>102.6619</td>\n    </tr>\n    <tr>\n      <th>2020-09-30</th>\n      <td>0.15</td>\n      <td>-3.62</td>\n      <td>0.69</td>\n      <td>0.28</td>\n      <td>0.12</td>\n      <td>2.31</td>\n      <td>3.44</td>\n      <td>7.8</td>\n      <td>260.209</td>\n      <td>102.6008</td>\n    </tr>\n    <tr>\n      <th>2020-10-31</th>\n      <td>-2.36</td>\n      <td>-2.09</td>\n      <td>0.88</td>\n      <td>0.38</td>\n      <td>0.13</td>\n      <td>2.35</td>\n      <td>3.49</td>\n      <td>6.9</td>\n      <td>260.325</td>\n      <td>103.5731</td>\n    </tr>\n  </tbody>\n</table>\n<p>418 rows × 10 columns</p>\n</div>"
     },
     "metadata": {},
     "execution_count": 1014
    }
   ],
   "source": [
    "data = pd.DataFrame([momentum,vwm, const_mat_10,const_mat_5,const_mat_1,aaa,baa,unrate,core_cpi,ind_prod]).T\n",
    "data.columns = [\"Mom\", \"VWM\",\"10yr\",\"5yr\",\"1yr\",\"AAA\",\"BAA\",\"unempl\",\"CPI\",\"Ind_Prod\"]\n",
    "common_data = data.dropna()\n",
    "common_data"
   ]
  },
  {
   "cell_type": "code",
   "execution_count": 1016,
   "metadata": {},
   "outputs": [
    {
     "output_type": "execute_result",
     "data": {
      "text/plain": [
       "            const   Mom   VWM  10yr   5yr   1yr    AAA    BAA  unempl  \\\n",
       "Date                                                                    \n",
       "1986-01-31    1.0  0.34  1.21  9.08  8.53  7.57  10.05  11.37     6.7   \n",
       "1986-02-28    1.0  0.49  7.66  8.13  7.91  7.43   9.67  10.62     7.2   \n",
       "1986-03-31    1.0  0.76  5.48  7.39  7.19  6.72   9.00  10.31     7.2   \n",
       "1986-04-30    1.0 -0.36 -0.79  7.38  7.17  6.54   8.79  10.16     7.1   \n",
       "1986-05-31    1.0 -0.29  5.11  8.05  7.82  6.88   9.09  10.41     7.2   \n",
       "...           ...   ...   ...   ...   ...   ...    ...    ...     ...   \n",
       "2020-06-30    1.0  1.15  2.47  0.66  0.29  0.16   2.44   3.59    11.1   \n",
       "2020-07-31    1.0  1.17  5.78  0.55  0.21  0.11   2.14   3.15    10.2   \n",
       "2020-08-31    1.0  1.75  7.64  0.72  0.28  0.12   2.25   3.39     8.4   \n",
       "2020-09-30    1.0  0.15 -3.62  0.69  0.28  0.12   2.31   3.44     7.8   \n",
       "2020-10-31    1.0 -2.36 -2.09  0.88  0.38  0.13   2.35   3.49     6.9   \n",
       "\n",
       "                CPI  Ind_Prod  Term  Curve  Default  Inflation  \n",
       "Date                                                            \n",
       "1986-01-31  109.900   57.3104  1.51  -0.41    -1.32   0.038966  \n",
       "1986-02-28  109.700   56.9344  0.70  -0.26    -0.95   0.031484  \n",
       "1986-03-31  109.100   56.5420  0.67  -0.27    -1.31   0.021307  \n",
       "1986-04-30  108.700   56.5599  0.84  -0.42    -1.37   0.015763  \n",
       "1986-05-31  109.000   56.6823  1.17  -0.71    -1.32   0.016652  \n",
       "...             ...       ...   ...    ...      ...        ...  \n",
       "2020-06-30  257.214   97.8019  0.50   0.24    -1.15   0.007070  \n",
       "2020-07-31  258.723  101.8924  0.44   0.24    -1.01   0.010241  \n",
       "2020-08-31  259.681  102.6619  0.60   0.28    -1.14   0.013129  \n",
       "2020-09-30  260.209  102.6008  0.57   0.25    -1.13   0.013994  \n",
       "2020-10-31  260.325  103.5731  0.75   0.25    -1.14   0.011964  \n",
       "\n",
       "[418 rows x 15 columns]"
      ],
      "text/html": "<div>\n<style scoped>\n    .dataframe tbody tr th:only-of-type {\n        vertical-align: middle;\n    }\n\n    .dataframe tbody tr th {\n        vertical-align: top;\n    }\n\n    .dataframe thead th {\n        text-align: right;\n    }\n</style>\n<table border=\"1\" class=\"dataframe\">\n  <thead>\n    <tr style=\"text-align: right;\">\n      <th></th>\n      <th>const</th>\n      <th>Mom</th>\n      <th>VWM</th>\n      <th>10yr</th>\n      <th>5yr</th>\n      <th>1yr</th>\n      <th>AAA</th>\n      <th>BAA</th>\n      <th>unempl</th>\n      <th>CPI</th>\n      <th>Ind_Prod</th>\n      <th>Term</th>\n      <th>Curve</th>\n      <th>Default</th>\n      <th>Inflation</th>\n    </tr>\n    <tr>\n      <th>Date</th>\n      <th></th>\n      <th></th>\n      <th></th>\n      <th></th>\n      <th></th>\n      <th></th>\n      <th></th>\n      <th></th>\n      <th></th>\n      <th></th>\n      <th></th>\n      <th></th>\n      <th></th>\n      <th></th>\n      <th></th>\n    </tr>\n  </thead>\n  <tbody>\n    <tr>\n      <th>1986-01-31</th>\n      <td>1.0</td>\n      <td>0.34</td>\n      <td>1.21</td>\n      <td>9.08</td>\n      <td>8.53</td>\n      <td>7.57</td>\n      <td>10.05</td>\n      <td>11.37</td>\n      <td>6.7</td>\n      <td>109.900</td>\n      <td>57.3104</td>\n      <td>1.51</td>\n      <td>-0.41</td>\n      <td>-1.32</td>\n      <td>0.038966</td>\n    </tr>\n    <tr>\n      <th>1986-02-28</th>\n      <td>1.0</td>\n      <td>0.49</td>\n      <td>7.66</td>\n      <td>8.13</td>\n      <td>7.91</td>\n      <td>7.43</td>\n      <td>9.67</td>\n      <td>10.62</td>\n      <td>7.2</td>\n      <td>109.700</td>\n      <td>56.9344</td>\n      <td>0.70</td>\n      <td>-0.26</td>\n      <td>-0.95</td>\n      <td>0.031484</td>\n    </tr>\n    <tr>\n      <th>1986-03-31</th>\n      <td>1.0</td>\n      <td>0.76</td>\n      <td>5.48</td>\n      <td>7.39</td>\n      <td>7.19</td>\n      <td>6.72</td>\n      <td>9.00</td>\n      <td>10.31</td>\n      <td>7.2</td>\n      <td>109.100</td>\n      <td>56.5420</td>\n      <td>0.67</td>\n      <td>-0.27</td>\n      <td>-1.31</td>\n      <td>0.021307</td>\n    </tr>\n    <tr>\n      <th>1986-04-30</th>\n      <td>1.0</td>\n      <td>-0.36</td>\n      <td>-0.79</td>\n      <td>7.38</td>\n      <td>7.17</td>\n      <td>6.54</td>\n      <td>8.79</td>\n      <td>10.16</td>\n      <td>7.1</td>\n      <td>108.700</td>\n      <td>56.5599</td>\n      <td>0.84</td>\n      <td>-0.42</td>\n      <td>-1.37</td>\n      <td>0.015763</td>\n    </tr>\n    <tr>\n      <th>1986-05-31</th>\n      <td>1.0</td>\n      <td>-0.29</td>\n      <td>5.11</td>\n      <td>8.05</td>\n      <td>7.82</td>\n      <td>6.88</td>\n      <td>9.09</td>\n      <td>10.41</td>\n      <td>7.2</td>\n      <td>109.000</td>\n      <td>56.6823</td>\n      <td>1.17</td>\n      <td>-0.71</td>\n      <td>-1.32</td>\n      <td>0.016652</td>\n    </tr>\n    <tr>\n      <th>...</th>\n      <td>...</td>\n      <td>...</td>\n      <td>...</td>\n      <td>...</td>\n      <td>...</td>\n      <td>...</td>\n      <td>...</td>\n      <td>...</td>\n      <td>...</td>\n      <td>...</td>\n      <td>...</td>\n      <td>...</td>\n      <td>...</td>\n      <td>...</td>\n      <td>...</td>\n    </tr>\n    <tr>\n      <th>2020-06-30</th>\n      <td>1.0</td>\n      <td>1.15</td>\n      <td>2.47</td>\n      <td>0.66</td>\n      <td>0.29</td>\n      <td>0.16</td>\n      <td>2.44</td>\n      <td>3.59</td>\n      <td>11.1</td>\n      <td>257.214</td>\n      <td>97.8019</td>\n      <td>0.50</td>\n      <td>0.24</td>\n      <td>-1.15</td>\n      <td>0.007070</td>\n    </tr>\n    <tr>\n      <th>2020-07-31</th>\n      <td>1.0</td>\n      <td>1.17</td>\n      <td>5.78</td>\n      <td>0.55</td>\n      <td>0.21</td>\n      <td>0.11</td>\n      <td>2.14</td>\n      <td>3.15</td>\n      <td>10.2</td>\n      <td>258.723</td>\n      <td>101.8924</td>\n      <td>0.44</td>\n      <td>0.24</td>\n      <td>-1.01</td>\n      <td>0.010241</td>\n    </tr>\n    <tr>\n      <th>2020-08-31</th>\n      <td>1.0</td>\n      <td>1.75</td>\n      <td>7.64</td>\n      <td>0.72</td>\n      <td>0.28</td>\n      <td>0.12</td>\n      <td>2.25</td>\n      <td>3.39</td>\n      <td>8.4</td>\n      <td>259.681</td>\n      <td>102.6619</td>\n      <td>0.60</td>\n      <td>0.28</td>\n      <td>-1.14</td>\n      <td>0.013129</td>\n    </tr>\n    <tr>\n      <th>2020-09-30</th>\n      <td>1.0</td>\n      <td>0.15</td>\n      <td>-3.62</td>\n      <td>0.69</td>\n      <td>0.28</td>\n      <td>0.12</td>\n      <td>2.31</td>\n      <td>3.44</td>\n      <td>7.8</td>\n      <td>260.209</td>\n      <td>102.6008</td>\n      <td>0.57</td>\n      <td>0.25</td>\n      <td>-1.13</td>\n      <td>0.013994</td>\n    </tr>\n    <tr>\n      <th>2020-10-31</th>\n      <td>1.0</td>\n      <td>-2.36</td>\n      <td>-2.09</td>\n      <td>0.88</td>\n      <td>0.38</td>\n      <td>0.13</td>\n      <td>2.35</td>\n      <td>3.49</td>\n      <td>6.9</td>\n      <td>260.325</td>\n      <td>103.5731</td>\n      <td>0.75</td>\n      <td>0.25</td>\n      <td>-1.14</td>\n      <td>0.011964</td>\n    </tr>\n  </tbody>\n</table>\n<p>418 rows × 15 columns</p>\n</div>"
     },
     "metadata": {},
     "execution_count": 1016
    }
   ],
   "source": [
    "import statsmodels.api as sm\n",
    "common_sample = pd.DataFrame([momentum,vwm, const_mat_10,const_mat_5,const_mat_1,aaa,baa,unrate,core_cpi,ind_prod,term,curve,default,inflation]).T\n",
    "common_sample.columns = [\"Mom\", \"VWM\",\"10yr\",\"5yr\",\"1yr\",\"AAA\",\"BAA\",\"unempl\",\"CPI\",\"Ind_Prod\",\"Term\", \"Curve\", \"Default\", \"Inflation\"]\n",
    "common_sample = common_sample.dropna()\n",
    "common_sample = sm.add_constant(common_sample)\n",
    "common_sample"
   ]
  },
  {
   "source": [
    "Importing useful functions"
   ],
   "cell_type": "markdown",
   "metadata": {}
  },
  {
   "cell_type": "code",
   "execution_count": 1018,
   "metadata": {},
   "outputs": [],
   "source": [
    "## Cross Validation function\n",
    "\n",
    "def xval_5fold(y, x , random=False, seed = 20201231,fold=5):\n",
    "    # Use numpy arrays for simplicity\n",
    "    y = np.asarray(y)\n",
    "    x = np.asarray(x)\n",
    "    n = y.shape[0]\n",
    "    if random:\n",
    "        # If randomisation is needed, use either the default or provided seed\n",
    "        rg = np.random.default_rng(seed)\n",
    "        # Generate a set of index values to use to randomly reorder the data\n",
    "        # After randomisation, we can use the data as if it is is inorder!\n",
    "        ind = rg.permutation(np.arange(n))\n",
    "        y = y[ind]\n",
    "        x = x[ind]\n",
    "    # Compute the block size\n",
    "    block = n / fold\n",
    "    sse = 0.0\n",
    "    for i in range(int(fold)):\n",
    "        # Start and end of each block need to be integers or we lose an observation\n",
    "        # Rounding ensures that we get all observations since int rounds down\n",
    "        st = int(np.round(i * block))\n",
    "        en = int(np.round((i + 1) * block))\n",
    "        # Construct the indicies of the observations that we leave out\n",
    "        leave_out = np.r_[st:en]\n",
    "        # The included are the one that we don't leave out\n",
    "        include = np.setdiff1d(np.arange(n), leave_out)\n",
    "        # Compute the regression coefficients\n",
    "        beta = lstsq(x[include], y[include], rcond=None)[0]\n",
    "        # Compute the residuals and add to the sse\n",
    "        resid = y[st:en]- x[st:en] @ beta\n",
    "        sse += resid @ resid\n",
    "    return sse\n",
    "\n",
    "# Randomisation is better when we suspect the model may not be totally stable"
   ]
  },
  {
   "cell_type": "code",
   "execution_count": 1020,
   "metadata": {},
   "outputs": [],
   "source": [
    "# forward stepwise function: \n",
    "# requires x: x dataframe , y series, p = number of columns, requires xval function too\n",
    "# input x, y, p\n",
    "def forward_stepwise(x, y, p,random=False,fold=5):\n",
    "    included = []\n",
    "\n",
    "    for i in range(p):\n",
    "        excluded = [col for col in x if col not in included]\n",
    "        best_sse = np.inf\n",
    "        for col in excluded:\n",
    "            try_x = x[included + [col]]\n",
    "            beta = lstsq(try_x, y, rcond=None)[0]\n",
    "            resid = y - try_x @ beta\n",
    "            sse = resid @ resid\n",
    "            if sse < best_sse:\n",
    "                best_sse = sse\n",
    "                next_var = col\n",
    "            included.append(next_var)\n",
    "    \n",
    "    fsr_sse_sv = {}\n",
    "    for i in range(1,p+1):\n",
    "        fsr_sse_sv[i] = xval_5fold(y,x[included[:i]],random=random, fold=fold)\n",
    "    fsr_sse_sv = pd.Series(fsr_sse_sv)\n",
    "    forward_step_model = included[:fsr_sse_sv.idxmin()]\n",
    "    return forward_step_model, pd.Series(fsr_sse_sv), included"
   ]
  },
  {
   "cell_type": "code",
   "execution_count": 1231,
   "metadata": {},
   "outputs": [],
   "source": [
    "### Best subset regression function\n",
    "\n",
    "def best_subset(x, y, p, random=False, fold=5):\n",
    "\n",
    "    \"\"\"for i in range(1, p+1):\n",
    "        count = 0\n",
    "        for comb in combinations(x.columns, i):\n",
    "            count += 1\n",
    "            if count > 1:\n",
    "                break\"\"\"\n",
    "\n",
    "    best_models = {}\n",
    "    for i in range( 1, p+1):\n",
    "        best_sse = np.inf\n",
    "        for comb in combinations(x.columns, i):\n",
    "            reg = x[list(comb)]\n",
    "            beta = lstsq(reg, y , rcond=None)[0]\n",
    "            resid = y - reg @ beta\n",
    "            sse = resid @ resid\n",
    "            if sse < best_sse:\n",
    "                best_sse = sse\n",
    "                best_models[i] = list(comb)\n",
    "\n",
    "    bsr_sse_xv = {}\n",
    "    for n_var in best_models:\n",
    "        bsr_sse_xv[n_var] = xval_5fold(y, x[best_models[n_var]], random=random,fold=fold)\n",
    "    bsr_sse_xv = pd.Series(bsr_sse_xv)\n",
    "    bsr_model = best_models[bsr_sse_xv.idxmin()]\n",
    "\n",
    "    return bsr_model, bsr_sse_xv\n",
    "\n",
    "#print(bsr_model)\n",
    "#bsr_sse_xv"
   ]
  },
  {
   "source": [
    "\"\"\"def best_subset(x, y, p, random=False, fold=5):\n",
    "\n",
    "    best_models = {}\n",
    "    for i in range( 1, p+1):\n",
    "        best_sse = np.inf\n",
    "        for comb in combinations(x.columns, i):\n",
    "            reg = x[list(comb)]\n",
    "\n",
    "            sse = xval_5fold(y,reg,random=random,fold=fold)\n",
    "\n",
    "\n",
    "\n",
    "            #beta = lstsq(reg, y , rcond=None)[0]\n",
    "            #resid = y - reg @ beta\n",
    "            #sse = resid @ resid\n",
    "            if sse < best_sse:\n",
    "                best_sse = sse\n",
    "                best_models[i] = list(comb)\n",
    "\n",
    "    bsr_sse_xv = {}\n",
    "    for n_var in best_models:\n",
    "        bsr_sse_xv[n_var] = xval_5fold(y, x[best_models[n_var]], random=random,fold=fold)\n",
    "    bsr_sse_xv = pd.Series(bsr_sse_xv)\n",
    "    bsr_model = best_models[bsr_sse_xv.idxmin()]\n",
    "\n",
    "    return bsr_model, bsr_sse_xv\"\"\""
   ],
   "cell_type": "code",
   "metadata": {},
   "execution_count": 1024,
   "outputs": []
  },
  {
   "source": [
    "Problem 1, predicting momentum"
   ],
   "cell_type": "markdown",
   "metadata": {}
  },
  {
   "cell_type": "code",
   "execution_count": 1026,
   "metadata": {},
   "outputs": [],
   "source": [
    "# Selecting a model to predict momentum returns in sample\n",
    "# Setup y, x, t and p - cutting off first and last values to create a lagged effect of our regressors\n",
    "\n",
    "y = common_sample[\"Mom\"][\"1986-02-28\":]\n",
    "x = common_sample[\"1986-01-28\":\"2020-09-30\"]\n",
    "t, p = x.shape\n",
    "x.index = x.index.shift(1)\n",
    "\n",
    "\n",
    "# Setup in_sample data\n",
    "\n",
    "y_in = common_sample[\"Mom\"][1:209]\n",
    "x_in = common_sample[0:208]\n",
    "t_in, p_in = x_in.shape\n",
    "x_in.index = x_in.index.shift(1)\n",
    "\n",
    "# Set up the out of sample evaluation data\n",
    "# Setup y, x, t and p - cutting off first and last values to create a lagged effect of our regressors\n",
    "\n",
    "y_oos = common_sample[\"Mom\"][209:]\n",
    "x_oos = common_sample[208:-1]\n",
    "t_oos, p_oos = x_oos.shape\n",
    "x_oos.index = x_oos.index.shift(1)\n",
    "\n",
    "x_scale = x.std(ddof=0)\n",
    "y_scale = y.std(ddof=0)\n",
    "std_x = x / x_scale\n",
    "std_y = y / y_scale"
   ]
  },
  {
   "cell_type": "code",
   "execution_count": 1028,
   "metadata": {},
   "outputs": [
    {
     "output_type": "execute_result",
     "data": {
      "text/plain": [
       "(['const', 'Mom', 'unempl', 'CPI', 'Ind_Prod', 'Term', 'Curve'],\n",
       " 1     182.073380\n",
       " 2     182.530588\n",
       " 3     181.676988\n",
       " 4     179.827722\n",
       " 5     179.505054\n",
       " 6     177.736596\n",
       " 7     176.909019\n",
       " 8     177.363586\n",
       " 9     178.823218\n",
       " 10    178.823218\n",
       " 11    179.579983\n",
       " 12    180.953259\n",
       " 13    186.216708\n",
       " 14    187.801429\n",
       " 15    190.939450\n",
       " dtype: float64)"
      ]
     },
     "metadata": {},
     "execution_count": 1028
    }
   ],
   "source": [
    "# Best subset model selection, momentum in sample\n",
    "### Cell takes a minute to run ###\n",
    "\n",
    "best_subset(x, y, p, random=True, fold=5)"
   ]
  },
  {
   "cell_type": "code",
   "execution_count": 1030,
   "metadata": {},
   "outputs": [
    {
     "output_type": "execute_result",
     "data": {
      "text/plain": [
       "(['const', 'Mom'],\n",
       " 1     186.348963\n",
       " 2     183.065823\n",
       " 3     187.853283\n",
       " 4     188.676536\n",
       " 5     187.012071\n",
       " 6     186.617412\n",
       " 7     189.146196\n",
       " 8     194.480457\n",
       " 9     193.659730\n",
       " 10    194.200241\n",
       " 11    190.168725\n",
       " 12    190.168725\n",
       " 13    190.168725\n",
       " 14    190.168725\n",
       " 15    190.939450\n",
       " dtype: float64,\n",
       " ['const',\n",
       "  'Mom',\n",
       "  'VWM',\n",
       "  '10yr',\n",
       "  '5yr',\n",
       "  '1yr',\n",
       "  'AAA',\n",
       "  'BAA',\n",
       "  'unempl',\n",
       "  'CPI',\n",
       "  'Ind_Prod',\n",
       "  'Ind_Prod',\n",
       "  'Ind_Prod',\n",
       "  'Ind_Prod',\n",
       "  'Inflation',\n",
       "  'Term',\n",
       "  'Term',\n",
       "  'Term',\n",
       "  'Curve',\n",
       "  'Curve',\n",
       "  'Default'])"
      ]
     },
     "metadata": {},
     "execution_count": 1030
    }
   ],
   "source": [
    "### Forward stepwise model selection, in sample\n",
    "forward_stepwise(x, y, p, random=True, fold=5)"
   ]
  },
  {
   "source": [
    "### LASSO estimation\n",
    "# initialise the Lasso CV model\n",
    "\n",
    "x_scale = x[['Mom', '5yr', '1yr', 'unempl', 'Curve']].std(ddof=0)\n",
    "y_scale = y.std(ddof=0)\n",
    "std_x = x / x_scale\n",
    "std_y = y / y_scale\n",
    "std_x = std_x[['Mom', '5yr', '1yr', 'unempl', 'Curve']]\n",
    "#std_x = sm.add_constant(std_x)\n",
    "\n",
    "lasso_cv = LassoCV(fit_intercept=False)\n",
    "lasso_cv = lasso_cv.fit(std_x,std_y)\n",
    "print(f\"Optimal Alpha = {lasso_cv.alpha_}\")\n",
    "lasso_beta = lasso_cv.coef_  * (y_scale / x_scale)\n",
    "print(lasso_beta)\n",
    "print(lasso_cv.intercept_)\n",
    "\n",
    "#Do we need LASSO if it doesn't fit the oos data well?"
   ],
   "cell_type": "code",
   "metadata": {},
   "execution_count": 1032,
   "outputs": [
    {
     "output_type": "stream",
     "name": "stdout",
     "text": [
      "Optimal Alpha = 0.0001486989299354116\nMom       0.116958\n5yr      -0.485016\n1yr       0.459065\nunempl    0.056672\nCurve    -0.545939\ndtype: float64\n0.0\n"
     ]
    }
   ]
  },
  {
   "cell_type": "code",
   "execution_count": 1034,
   "metadata": {},
   "outputs": [
    {
     "output_type": "execute_result",
     "data": {
      "text/plain": [
       "6.118908762801545"
      ]
     },
     "metadata": {},
     "execution_count": 1034
    }
   ],
   "source": [
    "#Lasso evaluation\n",
    "\n",
    "pred_returns = x_oos[['Mom', '5yr', '1yr', 'unempl', 'Curve']] @ lasso_beta\n",
    "\n",
    "strat_returns = np.ones(209)\n",
    "for i in range(209):\n",
    "    if pred_returns[i] > y_in.mean():\n",
    "        portfolio_weight = 1.5\n",
    "    else:\n",
    "        portfolio_weight = 0.5\n",
    "    \n",
    "    strat_returns[i] = (portfolio_weight * y_oos[i]) + (1- portfolio_weight) * rf[i+208]\n",
    "\n",
    "\n",
    "cum_strat_returns = ((1+strat_returns/100).cumprod()-1)*100\n",
    "cum_strat_returns[-1]"
   ]
  },
  {
   "cell_type": "code",
   "execution_count": 1036,
   "metadata": {},
   "outputs": [
    {
     "output_type": "execute_result",
     "data": {
      "text/plain": [
       "14.752098261033542"
      ]
     },
     "metadata": {},
     "execution_count": 1036
    }
   ],
   "source": [
    "## Evaluating the model #######\n",
    "\n",
    "beta = lstsq(x[['const', 'Mom', 'VWM', '10yr', '5yr']],y,rcond=0)[0]\n",
    "\n",
    "pred_returns = x_oos[['const', 'Mom', 'VWM', '10yr', '5yr']] @ beta\n",
    "\n",
    "strat_returns = np.ones(209)\n",
    "for i in range(209):\n",
    "    if pred_returns[i] > y_in.mean():\n",
    "        portfolio_weight = 1.5\n",
    "    else:\n",
    "        portfolio_weight = 0.5\n",
    "    \n",
    "    strat_returns[i] = (portfolio_weight * y_oos[i]) + (1- portfolio_weight) * rf[i+208]\n",
    "\n",
    "\n",
    "cum_strat_returns = ((1+strat_returns/100).cumprod()-1)*100\n",
    "cum_strat_returns[-1]"
   ]
  },
  {
   "cell_type": "code",
   "execution_count": 1038,
   "metadata": {},
   "outputs": [
    {
     "output_type": "execute_result",
     "data": {
      "text/plain": [
       "17.52102438881802"
      ]
     },
     "metadata": {},
     "execution_count": 1038
    }
   ],
   "source": [
    "beta = lstsq(x[['const', 'Mom', 'VWM', '10yr', '5yr']],y,rcond=0)[0]\n",
    "\n",
    "pred_returns = x_oos[['const', 'Mom', 'VWM', '10yr', '5yr']] @ beta\n",
    "\n",
    "strat_returns = np.ones(209)\n",
    "for i in range(209):\n",
    "    if pred_returns[i] > y_in.quantile(.75):\n",
    "        portfolio_weight = 3\n",
    "    elif pred_returns[i] > y_in.quantile(.5):\n",
    "        portfolio_weight = 1\n",
    "    elif pred_returns[i] > y_in.quantile(.25):\n",
    "        portfolio_weight = 0.5\n",
    "    else:\n",
    "        portfolio_weight = -1\n",
    "    \n",
    "    strat_returns[i] = (portfolio_weight * y_oos[i]) + (1- portfolio_weight) * rf[i+208]\n",
    "\n",
    "\n",
    "cum_strat_returns = ((1+strat_returns/100).cumprod()-1)*100\n",
    "cum_strat_returns[-1]"
   ]
  },
  {
   "cell_type": "code",
   "execution_count": 1040,
   "metadata": {},
   "outputs": [
    {
     "output_type": "execute_result",
     "data": {
      "text/plain": [
       "-0.2475"
      ]
     },
     "metadata": {},
     "execution_count": 1040
    }
   ],
   "source": [
    "y_in.quantile(.25)"
   ]
  },
  {
   "cell_type": "code",
   "execution_count": 1042,
   "metadata": {},
   "outputs": [
    {
     "output_type": "execute_result",
     "data": {
      "text/plain": [
       "Date\n",
       "1986-02-28    0.490000\n",
       "1986-03-31    1.253724\n",
       "1986-04-30    0.889211\n",
       "1986-05-31    0.596632\n",
       "1986-06-30    0.938660\n",
       "                ...   \n",
       "2003-01-31    8.958297\n",
       "2003-02-28    8.446193\n",
       "2003-03-31    9.335452\n",
       "2003-04-30    8.985579\n",
       "2003-05-31    8.506042\n",
       "Freq: M, Name: Mom, Length: 208, dtype: float64"
      ]
     },
     "metadata": {},
     "execution_count": 1042
    }
   ],
   "source": [
    "((1+y_in/100).cumprod()-1)*100"
   ]
  },
  {
   "cell_type": "code",
   "execution_count": 1044,
   "metadata": {},
   "outputs": [
    {
     "output_type": "execute_result",
     "data": {
      "text/plain": [
       "Date\n",
       "1986-02-28    0.49\n",
       "1986-03-31    0.76\n",
       "1986-04-30   -0.36\n",
       "1986-05-31   -0.29\n",
       "1986-06-30    0.34\n",
       "              ... \n",
       "2003-01-31    0.82\n",
       "2003-02-28   -0.47\n",
       "2003-03-31    0.82\n",
       "2003-04-30   -0.32\n",
       "2003-05-31   -0.44\n",
       "Freq: M, Name: Mom, Length: 208, dtype: float64"
      ]
     },
     "metadata": {},
     "execution_count": 1044
    }
   ],
   "source": [
    "y_in"
   ]
  },
  {
   "cell_type": "code",
   "execution_count": 1046,
   "metadata": {},
   "outputs": [
    {
     "output_type": "stream",
     "name": "stdout",
     "text": [
      "The out of sample R2 for the out of sample period is -113.1%.\n\nThe in sample R2 for the out of sample period is 11.2%.\n"
     ]
    }
   ],
   "source": [
    "resid_oos = y_oos - pred_returns\n",
    "oos_sse = resid_oos @ resid_oos\n",
    "oos_tss = (y_oos **2).sum()\n",
    "oos_r2 = 1- oos_sse/ oos_tss\n",
    "print(f\"The out of sample R2 for the out of sample period is {100*oos_r2:0.1f}%.\")\n",
    "print()\n",
    "r2 = OLS(y_oos, x_oos).fit().rsquared\n",
    "print(f\"The in sample R2 for the out of sample period is {100*r2:0.1f}%.\")"
   ]
  },
  {
   "cell_type": "code",
   "execution_count": 1048,
   "metadata": {},
   "outputs": [
    {
     "output_type": "stream",
     "name": "stdout",
     "text": [
      "1.1335711179573302\n\n0.14414484701476496\n\n-0.023147350695825655\n"
     ]
    }
   ],
   "source": [
    "### Sharpe ratio\n",
    "print(strat_returns.std())\n",
    "print()\n",
    "print(((strat_returns.mean())-rf.mean())/ strat_returns.std() * np.sqrt(12))\n",
    "print()\n",
    "print((y_oos.mean()-rf.mean()) / y_oos.std() * np.sqrt(12))"
   ]
  },
  {
   "source": [
    "Amazing - but now to attempt a replication out of sample"
   ],
   "cell_type": "markdown",
   "metadata": {}
  },
  {
   "cell_type": "code",
   "execution_count": 1050,
   "metadata": {},
   "outputs": [
    {
     "output_type": "execute_result",
     "data": {
      "text/plain": [
       "(['const', 'VWM', '5yr', 'BAA', 'unempl', 'CPI', 'Ind_Prod', 'Inflation'],\n",
       " 1     54.401696\n",
       " 2     53.343351\n",
       " 3     52.968047\n",
       " 4     52.742403\n",
       " 5     51.584008\n",
       " 6     51.123876\n",
       " 7     50.985594\n",
       " 8     50.970142\n",
       " 9     51.249985\n",
       " 10    51.414770\n",
       " 11    51.727225\n",
       " 12    52.237133\n",
       " 13    52.632262\n",
       " 14    53.825214\n",
       " 15    54.178277\n",
       " dtype: float64)"
      ]
     },
     "metadata": {},
     "execution_count": 1050
    }
   ],
   "source": [
    "### Training the data on the first half (208 data points in y)\n",
    "best_subset(x_in, y_in, p_in, random=True,fold=5)"
   ]
  },
  {
   "cell_type": "code",
   "execution_count": 1232,
   "metadata": {},
   "outputs": [
    {
     "output_type": "execute_result",
     "data": {
      "text/plain": [
       "(['const', 'Mom'],\n",
       " 1     4751.695148\n",
       " 2     4630.072718\n",
       " 3     4662.736970\n",
       " 4     4699.788618\n",
       " 5     4772.386611\n",
       " 6     4798.127880\n",
       " 7     4788.041046\n",
       " 8     4839.206875\n",
       " 9     4852.614280\n",
       " 10    4909.439909\n",
       " 11    4919.974820\n",
       " 12    4919.974820\n",
       " 13    4919.974820\n",
       " 14    4919.974820\n",
       " 15    4940.278993\n",
       " dtype: float64,\n",
       " ['const',\n",
       "  'Mom',\n",
       "  'VWM',\n",
       "  '10yr',\n",
       "  '5yr',\n",
       "  '1yr',\n",
       "  'AAA',\n",
       "  'BAA',\n",
       "  'unempl',\n",
       "  'CPI',\n",
       "  'Ind_Prod',\n",
       "  'Ind_Prod',\n",
       "  'Ind_Prod',\n",
       "  'Ind_Prod',\n",
       "  'Inflation',\n",
       "  'Term',\n",
       "  'Term',\n",
       "  'Term',\n",
       "  'Curve',\n",
       "  'Curve',\n",
       "  'Default'])"
      ]
     },
     "metadata": {},
     "execution_count": 1232
    }
   ],
   "source": [
    "forward_stepwise(x_in, y_in, p_in, random=True,fold=5)"
   ]
  },
  {
   "source": [
    "### LASSO estimation\n",
    "# initialise the Lasso CV model\n",
    "\n",
    "x_scale = x_in[['Mom', 'VWM', 'Ind_Prod', 'Term', 'Curve']].std(ddof=0)\n",
    "y_scale = y_in.std(ddof=0)\n",
    "std_x = x_in / x_scale\n",
    "std_y = y_in / y_scale\n",
    "std_x = std_x[['Mom', 'VWM', 'Ind_Prod', 'Term', 'Curve']]\n",
    "\n",
    "lasso_cv = LassoCV(fit_intercept=True)\n",
    "lasso_cv = lasso_cv.fit(std_x,std_y)\n",
    "print(f\"Optimal Alpha = {lasso_cv.alpha_}\")\n",
    "lasso_beta = lasso_cv.coef_  * (y_scale / x_scale)\n",
    "print(lasso_beta)\n",
    "print(lasso_cv.intercept_)"
   ],
   "cell_type": "code",
   "metadata": {},
   "execution_count": 1052,
   "outputs": [
    {
     "output_type": "stream",
     "name": "stdout",
     "text": [
      "Optimal Alpha = 0.00013919859426949894\nMom         0.084098\nVWM        -0.008096\nInd_Prod    0.003999\nTerm       -0.192899\nCurve      -0.339957\ndtype: float64\n-0.3924503874038243\n"
     ]
    }
   ]
  },
  {
   "cell_type": "code",
   "execution_count": 1053,
   "metadata": {},
   "outputs": [
    {
     "output_type": "execute_result",
     "data": {
      "text/plain": [
       "52.61601818905177"
      ]
     },
     "metadata": {},
     "execution_count": 1053
    }
   ],
   "source": [
    "### Evaluating the model out of sample with LASSO\n",
    "\n",
    "\n",
    "pred_returns = x_oos[['Mom', 'VWM', 'Ind_Prod', 'Term', 'Curve']] @ lasso_beta + lasso_cv.intercept_\n",
    "\n",
    "strat_returns = np.ones(209)\n",
    "for i in range(209):\n",
    "    \n",
    "    if pred_returns[i] > y_in.quantile(.75):\n",
    "        portfolio_weight = 5\n",
    "    elif pred_returns[i] > y_in.quantile(.5):\n",
    "        portfolio_weight = 1\n",
    "    elif pred_returns[i] > y_in.quantile(.25):\n",
    "        portfolio_weight = 0.5\n",
    "    else:\n",
    "        portfolio_weight = -3\n",
    "    \n",
    "    strat_returns[i] = (portfolio_weight * y_oos[i]) + (1 - portfolio_weight) * rf[i+208]\n",
    "\n",
    "\n",
    "cum_strat_returns = ((1+strat_returns/100).cumprod()-1)*100\n",
    "cum_strat_returns[-1]"
   ]
  },
  {
   "cell_type": "code",
   "execution_count": 1054,
   "metadata": {},
   "outputs": [
    {
     "output_type": "stream",
     "name": "stdout",
     "text": [
      "[-4.13483697 -0.0103932   0.36545169 -0.36919745  0.51451252 -0.03987749\n  0.10421347  8.99584358]\n"
     ]
    },
    {
     "output_type": "execute_result",
     "data": {
      "text/plain": [
       "7287.8647157983"
      ]
     },
     "metadata": {},
     "execution_count": 1054
    }
   ],
   "source": [
    "### Evaluating the model out of sample without LASSO\n",
    "\n",
    "beta = lstsq(x_in[['const', 'VWM', '5yr', 'BAA', 'unempl', 'CPI', 'Ind_Prod', 'Inflation']],y_in,rcond=0)[0]\n",
    "pred_returns = x_oos[['const', 'VWM', '5yr', 'BAA', 'unempl', 'CPI', 'Ind_Prod', 'Inflation']] @ beta\n",
    "print(beta)\n",
    "strat_returns = np.ones(209)\n",
    "for i in range(209):\n",
    "    if pred_returns[i] > y_in.quantile(.75):\n",
    "        portfolio_weight = 20\n",
    "    elif pred_returns[i] > y_in.quantile(.5):\n",
    "        portfolio_weight = 0.5\n",
    "    elif pred_returns[i] > y_in.quantile(.25):\n",
    "        portfolio_weight = 0.5\n",
    "    else:\n",
    "        portfolio_weight = -10\n",
    "    \n",
    "    strat_returns[i] = (portfolio_weight * y_oos[i]) + (1 - portfolio_weight) * rf[i+208]\n",
    "\n",
    "\n",
    "cum_strat_returns = ((1+strat_returns/100).cumprod()-1)*100\n",
    "cum_strat_returns[-1]"
   ]
  },
  {
   "cell_type": "code",
   "execution_count": 1055,
   "metadata": {},
   "outputs": [
    {
     "output_type": "stream",
     "name": "stdout",
     "text": [
      "The out of sample R2 for the out of sample period is -120.2%.\n\nThe in sample R2 for the out of sample period is 11.2%.\n"
     ]
    }
   ],
   "source": [
    "resid_oos = y_oos - pred_returns\n",
    "oos_sse = resid_oos @ resid_oos\n",
    "oos_tss = (y_oos **2).sum()\n",
    "oos_r2 = 1- (oos_sse/ oos_tss)\n",
    "print(f\"The out of sample R2 for the out of sample period is {100*oos_r2:0.1f}%.\")\n",
    "print()\n",
    "r2 = OLS(y_oos, x_oos).fit().rsquared\n",
    "print(f\"The in sample R2 for the out of sample period is {100*r2:0.1f}%.\")"
   ]
  },
  {
   "cell_type": "code",
   "execution_count": 1056,
   "metadata": {},
   "outputs": [
    {
     "output_type": "stream",
     "name": "stdout",
     "text": [
      "\n\n0.9239454406754106\n\n-0.027423218821812242\n"
     ]
    }
   ],
   "source": [
    "### Sharpe ratio\n",
    "print()\n",
    "print()\n",
    "print(((strat_returns.mean())-rf.mean())/ strat_returns.std() * np.sqrt(12))\n",
    "print()\n",
    "print((y_oos.mean()-rf.mean()) / y.std() * np.sqrt(12))"
   ]
  },
  {
   "source": [
    "------------------------------------------------------------------------------------\n",
    "------------------------------------------------------------------------------------\n",
    "------------------------------------------------------------------------------------\n",
    "------------------------------------------------------------------------------------\n",
    "-----------------------------------------------------------------------------------\n",
    "-------------------------------------------------------------------------------------\n",
    "-------------------------------------------------------------------------------------\n",
    "-------------------------------------------------------------------------------------\n",
    "-------------------------------------------------------------------------------------\n",
    "-------------------------------------------------------------------------------------\n",
    "-------------------------------------------------------------------------------------\n",
    "-------------------------------------------------------------------------------------\n",
    "-------------------------------------------------------------------------------------\n",
    "-------------------------------------------------------------------------------------\n",
    "-------------------------------------------------------------------------------------\n"
   ],
   "cell_type": "markdown",
   "metadata": {}
  },
  {
   "source": [
    "Problem 1, in sample, predicting Value Weighted Market"
   ],
   "cell_type": "markdown",
   "metadata": {}
  },
  {
   "cell_type": "code",
   "execution_count": 1233,
   "metadata": {},
   "outputs": [],
   "source": [
    "# Selecting a model to predict Value weighted market returns in sample\n",
    "# Setup y, x, t and p - cutting off first and last values to create a lagged effect of our regressors\n",
    "\n",
    "y = common_sample[\"VWM\"][\"1986-02-28\":]\n",
    "x = common_sample[\"1986-01-28\":\"2020-09-30\"]\n",
    "t, p = x.shape\n",
    "x.index = x.index.shift(1)\n",
    "\n",
    "\n",
    "# Setup in_sample data\n",
    "\n",
    "y_in = common_sample[\"VWM\"][1:209]\n",
    "x_in = common_sample[0:208]\n",
    "t_in, p_in = x_in.shape\n",
    "x_in.index = x_in.index.shift(1)\n",
    "\n",
    "# Set up the out of sample evaluation data\n",
    "# Setup y, x, t and p - cutting off first and last values to create a lagged effect of our regressors\n",
    "\n",
    "y_oos = common_sample[\"VWM\"][209:]\n",
    "x_oos = common_sample[208:-1]\n",
    "t_oos, p_oos = x_oos.shape\n",
    "x_oos.index = x_oos.index.shift(1)"
   ]
  },
  {
   "cell_type": "code",
   "execution_count": 1276,
   "metadata": {},
   "outputs": [
    {
     "output_type": "execute_result",
     "data": {
      "text/plain": [
       "(['const', 'Ind_Prod', 'Curve', 'Inflation'],\n",
       " 1     8327.472263\n",
       " 2     8257.845899\n",
       " 3     8228.621257\n",
       " 4     8124.477852\n",
       " 5     8211.041703\n",
       " 6     8232.513209\n",
       " 7     8222.062818\n",
       " 8     8270.586424\n",
       " 9     8262.895462\n",
       " 10    8329.127862\n",
       " 11    8417.319234\n",
       " 12    8493.365914\n",
       " 13    8493.365914\n",
       " 14    8493.365914\n",
       " 15    8493.365914\n",
       " dtype: float64)"
      ]
     },
     "metadata": {},
     "execution_count": 1276
    }
   ],
   "source": [
    "# Best subset model selection,\n",
    "### Cell takes a minute to run ###\n",
    "\n",
    "best_subset(x,y,p,random=True)"
   ]
  },
  {
   "cell_type": "code",
   "execution_count": 1230,
   "metadata": {},
   "outputs": [
    {
     "output_type": "execute_result",
     "data": {
      "text/plain": [
       "(['const'],\n",
       " 1     8390.796395\n",
       " 2     8395.928270\n",
       " 3     8454.959129\n",
       " 4     8503.435443\n",
       " 5     8512.657727\n",
       " 6     8522.381187\n",
       " 7     8556.411433\n",
       " 8     8757.883165\n",
       " 9     8586.995943\n",
       " 10    8545.084258\n",
       " 11    8547.646298\n",
       " 12    8547.646298\n",
       " 13    8547.646298\n",
       " 14    8547.646298\n",
       " 15    8493.365914\n",
       " dtype: float64,\n",
       " ['const',\n",
       "  'Mom',\n",
       "  'VWM',\n",
       "  '10yr',\n",
       "  '5yr',\n",
       "  '1yr',\n",
       "  'AAA',\n",
       "  'BAA',\n",
       "  'unempl',\n",
       "  'CPI',\n",
       "  'Ind_Prod',\n",
       "  'Ind_Prod',\n",
       "  'Ind_Prod',\n",
       "  'Ind_Prod',\n",
       "  'Inflation',\n",
       "  'Term',\n",
       "  'Curve',\n",
       "  'Curve',\n",
       "  'Default'])"
      ]
     },
     "metadata": {},
     "execution_count": 1230
    }
   ],
   "source": [
    "### Forward stepwise model selection\n",
    "forward_stepwise(x,y,p,random=True)"
   ]
  },
  {
   "cell_type": "code",
   "execution_count": 1277,
   "metadata": {},
   "outputs": [
    {
     "output_type": "stream",
     "name": "stdout",
     "text": [
      "Optimal Alpha = 0.00010554896363647818\n"
     ]
    },
    {
     "output_type": "execute_result",
     "data": {
      "text/plain": [
       "Ind_Prod     -0.059635\n",
       "Curve         1.412042\n",
       "Inflation   -69.119829\n",
       "dtype: float64"
      ]
     },
     "metadata": {},
     "execution_count": 1277
    }
   ],
   "source": [
    "### LASSO estimation\n",
    "# initialise the Lasso CV model\n",
    "\n",
    "x_scale = x[['Ind_Prod', 'Curve', 'Inflation']].std(ddof=0)\n",
    "y_scale = y.std(ddof=0)\n",
    "std_x = x / x_scale\n",
    "std_y = y / y_scale\n",
    "std_x = std_x[['Ind_Prod', 'Curve', 'Inflation']]\n",
    "\n",
    "lasso_cv = LassoCV(fit_intercept=True)\n",
    "lasso_cv = lasso_cv.fit(std_x,std_y)\n",
    "print(f\"Optimal Alpha = {lasso_cv.alpha_}\")\n",
    "lasso_beta = lasso_cv.coef_  * (y_scale / x_scale)\n",
    "lasso_beta"
   ]
  },
  {
   "cell_type": "code",
   "execution_count": 1278,
   "metadata": {},
   "outputs": [
    {
     "output_type": "execute_result",
     "data": {
      "text/plain": [
       "422.4388819372857"
      ]
     },
     "metadata": {},
     "execution_count": 1278
    }
   ],
   "source": [
    "#  LASSO evaluation\n",
    "\n",
    "pred_returns = x_oos[['Ind_Prod', 'Curve', 'Inflation']] @ lasso_beta + lasso_cv.intercept_ \n",
    "\n",
    "strat_returns = np.ones(209)\n",
    "for i in range(209):\n",
    "    if pred_returns[i] > y_in.quantile(.75):\n",
    "        portfolio_weight = 2\n",
    "    elif pred_returns[i] > y_in.quantile(.5):\n",
    "        portfolio_weight = 2\n",
    "    elif pred_returns[i] > y_in.quantile(.25):\n",
    "        portfolio_weight = 1\n",
    "    else:\n",
    "        portfolio_weight = 1\n",
    "    \n",
    "    strat_returns[i] = (portfolio_weight * y_oos[i]) + (1- portfolio_weight) * rf[i]\n",
    "\n",
    "\n",
    "cum_strat_returns = ((1+strat_returns/100).cumprod()-1)*100\n",
    "cum_strat_returns[-1]"
   ]
  },
  {
   "cell_type": "code",
   "execution_count": 1268,
   "metadata": {},
   "outputs": [
    {
     "output_type": "execute_result",
     "data": {
      "text/plain": [
       "1327.3971859918458"
      ]
     },
     "metadata": {},
     "execution_count": 1268
    }
   ],
   "source": [
    "beta = lstsq(x[['const', 'BAA', 'Ind_Prod', 'Curve', 'Inflation']],y,rcond=0)[0]\n",
    "pred_returns = x_oos[['const', 'BAA', 'Ind_Prod', 'Curve', 'Inflation']] @ beta\n",
    "\n",
    "strat_returns = np.ones(209)\n",
    "for i in range(209):\n",
    "    if pred_returns[i] > y_in.quantile(.75):\n",
    "        portfolio_weight = 2\n",
    "    elif pred_returns[i] > y_in.quantile(.5):\n",
    "        portfolio_weight = 2\n",
    "    elif pred_returns[i] > y_in.quantile(.25):\n",
    "        portfolio_weight = 1\n",
    "    else:\n",
    "        portfolio_weight = 1\n",
    "    \n",
    "    strat_returns[i] = (portfolio_weight * y_oos[i]) + (1 - portfolio_weight) * rf[i+208]\n",
    "\n",
    "\n",
    "cum_strat_returns = ((1+strat_returns/100).cumprod()-1)*100\n",
    "cum_strat_returns[-1]"
   ]
  },
  {
   "cell_type": "code",
   "execution_count": 1263,
   "metadata": {},
   "outputs": [
    {
     "output_type": "stream",
     "name": "stdout",
     "text": [
      "The out of sample R2 for the out of sample period is 12.3%.\n\nThe in sample R2 for the out of sample period is 14.4%.\n"
     ]
    }
   ],
   "source": [
    "resid_oos = y_oos - pred_returns\n",
    "oos_sse = resid_oos @ resid_oos\n",
    "oos_tss = (y_oos **2).sum()\n",
    "oos_r2 = 1- oos_sse/ oos_tss\n",
    "print(f\"The out of sample R2 for the out of sample period is {100*oos_r2:0.1f}%.\")\n",
    "print()\n",
    "r2 = OLS(y_oos, x_oos).fit().rsquared\n",
    "print(f\"The in sample R2 for the out of sample period is {100*r2:0.1f}%.\")"
   ]
  },
  {
   "cell_type": "code",
   "execution_count": 1264,
   "metadata": {},
   "outputs": [
    {
     "output_type": "stream",
     "name": "stdout",
     "text": [
      "0.8862296107589942\n\n0.7254891133486322\n"
     ]
    }
   ],
   "source": [
    "### Sharpe ratio\n",
    "\n",
    "print(   (strat_returns.mean()-rf_mean)   / strat_returns.std() * np.sqrt(12)  )\n",
    "print()\n",
    "print(   (y_oos.mean()-rf_mean) / y_oos.std() * np.sqrt(12))"
   ]
  },
  {
   "source": [
    "---------------------------------------------------------------------------------------------------------------------------\n",
    "Now to replicate out of sample"
   ],
   "cell_type": "markdown",
   "metadata": {}
  },
  {
   "cell_type": "code",
   "execution_count": 1065,
   "metadata": {},
   "outputs": [
    {
     "output_type": "execute_result",
     "data": {
      "text/plain": [
       "(['Mom', 'unempl', 'Curve'],\n",
       " 1     4723.290414\n",
       " 2     4595.401003\n",
       " 3     4544.949513\n",
       " 4     4574.479508\n",
       " 5     4570.871466\n",
       " 6     4592.310360\n",
       " 7     4624.707877\n",
       " 8     4675.351018\n",
       " 9     4706.860946\n",
       " 10    4735.931800\n",
       " 11    4776.837788\n",
       " 12    4803.018063\n",
       " 13    4839.705283\n",
       " 14    4869.355120\n",
       " 15    4940.278993\n",
       " dtype: float64)"
      ]
     },
     "metadata": {},
     "execution_count": 1065
    }
   ],
   "source": [
    "### Training the data on the first half (208 data points in y)\n",
    "best_subset(x_in,y_in,p_in, random=True,fold=5)"
   ]
  },
  {
   "cell_type": "code",
   "execution_count": 1206,
   "metadata": {},
   "outputs": [
    {
     "output_type": "execute_result",
     "data": {
      "text/plain": [
       "(['const', 'Mom'],\n",
       " 1     4751.695148\n",
       " 2     4630.072718\n",
       " 3     4662.736970\n",
       " 4     4699.788618\n",
       " 5     4772.386611\n",
       " 6     4798.127880\n",
       " 7     4788.041046\n",
       " 8     4839.206875\n",
       " 9     4852.614280\n",
       " 10    4909.439909\n",
       " 11    4919.974820\n",
       " 12    4919.974820\n",
       " 13    4919.974820\n",
       " 14    4919.974820\n",
       " 15    4940.278993\n",
       " dtype: float64,\n",
       " ['const',\n",
       "  'Mom',\n",
       "  'VWM',\n",
       "  '10yr',\n",
       "  '5yr',\n",
       "  '1yr',\n",
       "  'AAA',\n",
       "  'BAA',\n",
       "  'unempl',\n",
       "  'CPI',\n",
       "  'Ind_Prod',\n",
       "  'Ind_Prod',\n",
       "  'Ind_Prod',\n",
       "  'Ind_Prod',\n",
       "  'Inflation',\n",
       "  'Term',\n",
       "  'Term',\n",
       "  'Term',\n",
       "  'Curve',\n",
       "  'Curve',\n",
       "  'Default'])"
      ]
     },
     "metadata": {},
     "execution_count": 1206
    }
   ],
   "source": [
    "forward_stepwise(x_in,y_in,p_in,random=True,fold=5)"
   ]
  },
  {
   "cell_type": "code",
   "execution_count": 1269,
   "metadata": {},
   "outputs": [
    {
     "output_type": "stream",
     "name": "stdout",
     "text": [
      "Optimal Alpha = 0.0053641784068227845\n"
     ]
    },
    {
     "output_type": "execute_result",
     "data": {
      "text/plain": [
       "Mom      -1.697401\n",
       "unempl    0.350081\n",
       "Curve     1.548181\n",
       "dtype: float64"
      ]
     },
     "metadata": {},
     "execution_count": 1269
    }
   ],
   "source": [
    "### LASSO estimation\n",
    "# initialise the Lasso CV model\n",
    "\n",
    "x_scale = x_in[['Mom', 'unempl', 'Curve']].std(ddof=0)\n",
    "y_scale = y_in.std(ddof=0)\n",
    "std_x = x_in / x_scale\n",
    "std_y = y_in / y_scale\n",
    "std_x = std_x[['Mom', 'unempl', 'Curve']]\n",
    "\n",
    "lasso_cv = LassoCV(fit_intercept=False)\n",
    "lasso_cv = lasso_cv.fit(std_x,std_y)\n",
    "print(f\"Optimal Alpha = {lasso_cv.alpha_}\")\n",
    "lasso_beta = lasso_cv.coef_  * (y_scale / x_scale)\n",
    "lasso_beta"
   ]
  },
  {
   "cell_type": "code",
   "execution_count": 1270,
   "metadata": {},
   "outputs": [
    {
     "output_type": "execute_result",
     "data": {
      "text/plain": [
       "1019.5481641539521"
      ]
     },
     "metadata": {},
     "execution_count": 1270
    }
   ],
   "source": [
    "#  LASSO evaluation\n",
    "\n",
    "pred_returns = x_oos[['Mom', 'unempl', 'Curve']] @ lasso_beta\n",
    "\n",
    "strat_returns = np.ones(209)\n",
    "for i in range(209):\n",
    "    if pred_returns[i] > y_in.quantile(.75):\n",
    "        portfolio_weight = 2\n",
    "    elif pred_returns[i] > y_in.quantile(.5):\n",
    "        portfolio_weight = 2\n",
    "    elif pred_returns[i] > y_in.quantile(.25):\n",
    "        portfolio_weight = 1\n",
    "    else:\n",
    "        portfolio_weight = 0.5\n",
    "    \n",
    "    strat_returns[i] = (portfolio_weight * y_oos[i]) + (1- portfolio_weight) * rf[i+208]\n",
    "\n",
    "\n",
    "cum_strat_returns = ((1+strat_returns/100).cumprod()-1)*100\n",
    "cum_strat_returns[-1]"
   ]
  },
  {
   "cell_type": "code",
   "execution_count": 1272,
   "metadata": {},
   "outputs": [
    {
     "output_type": "execute_result",
     "data": {
      "text/plain": [
       "1035.115850299596"
      ]
     },
     "metadata": {},
     "execution_count": 1272
    }
   ],
   "source": [
    "### Evaluating the model out of sample\n",
    "\n",
    "beta = lstsq(x_in[['Mom', 'unempl', 'Curve']],y_in,rcond=0)[0]\n",
    "pred_returns = x_oos[['Mom', 'unempl', 'Curve']] @ beta\n",
    "\n",
    "#['Mom', 'unempl', 'Curve']\n",
    "\n",
    "strat_returns = np.ones(209)\n",
    "for i in range(209):\n",
    "    if pred_returns[i] > y_in.quantile(.75):\n",
    "        portfolio_weight = 2\n",
    "    elif pred_returns[i] > y_in.quantile(.5):\n",
    "        portfolio_weight = 2\n",
    "    elif pred_returns[i] > y_in.quantile(.25):\n",
    "        portfolio_weight = 1\n",
    "    else:\n",
    "        portfolio_weight = 0.5\n",
    "    \n",
    "    \"\"\"if pred_returns[i] > y_in.mean():\n",
    "        portfolio_weight = 1.5\n",
    "    else:\n",
    "        portfolio_weight = 0.5\"\"\"\n",
    "\n",
    "    strat_returns[i] = (portfolio_weight * y_oos[i]) + (1 - portfolio_weight) * rf[i+208]\n",
    "\n",
    "\n",
    "cum_strat_returns = ((1+strat_returns/100).cumprod()-1)*100\n",
    "cum_strat_returns[-1]"
   ]
  },
  {
   "cell_type": "code",
   "execution_count": 1072,
   "metadata": {},
   "outputs": [
    {
     "output_type": "execute_result",
     "data": {
      "text/plain": [
       "422.4388819372857"
      ]
     },
     "metadata": {},
     "execution_count": 1072
    }
   ],
   "source": [
    "((1+(y_oos/100)).cumprod()[-1]-1)*100"
   ]
  },
  {
   "cell_type": "code",
   "execution_count": 1275,
   "metadata": {},
   "outputs": [
    {
     "output_type": "stream",
     "name": "stdout",
     "text": [
      "The out of sample R2 for the out of sample period is -15.0%.\n\nThe in sample R2 for the out of sample period is 14.4%.\n"
     ]
    }
   ],
   "source": [
    "resid_oos = y_oos - pred_returns\n",
    "oos_sse = resid_oos @ resid_oos\n",
    "oos_tss = (y_oos **2).sum()\n",
    "oos_r2 = 1- (oos_sse/ oos_tss)\n",
    "print(f\"The out of sample R2 for the out of sample period is {100*oos_r2:0.1f}%.\")\n",
    "print()\n",
    "r2 = OLS(y_oos, x_oos).fit().rsquared\n",
    "print(f\"The in sample R2 for the out of sample period is {100*r2:0.1f}%.\")"
   ]
  },
  {
   "cell_type": "code",
   "execution_count": 1274,
   "metadata": {},
   "outputs": [
    {
     "output_type": "stream",
     "name": "stdout",
     "text": [
      "0.6754921074359403\n\n0.7254891133486322\n"
     ]
    }
   ],
   "source": [
    "### Sharpe ratio\n",
    "\n",
    "print(   (strat_returns.mean()-rf_mean)   / strat_returns.std() * np.sqrt(12)  )\n",
    "print()\n",
    "print(   (y_oos.mean()-rf_mean) / y_oos.std() * np.sqrt(12))"
   ]
  },
  {
   "cell_type": "code",
   "execution_count": null,
   "metadata": {},
   "outputs": [],
   "source": []
  }
 ]
}