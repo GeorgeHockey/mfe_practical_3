{
 "metadata": {
  "language_info": {
   "codemirror_mode": {
    "name": "ipython",
    "version": 3
   },
   "file_extension": ".py",
   "mimetype": "text/x-python",
   "name": "python",
   "nbconvert_exporter": "python",
   "pygments_lexer": "ipython3",
   "version": "3.8.3-final"
  },
  "orig_nbformat": 2,
  "kernelspec": {
   "name": "python3",
   "display_name": "Python 3",
   "language": "python"
  }
 },
 "nbformat": 4,
 "nbformat_minor": 2,
 "cells": [
  {
   "cell_type": "code",
   "execution_count": 114,
   "metadata": {},
   "outputs": [],
   "source": [
    "import pandas as pd\n",
    "import numpy as np\n",
    "import pandas_datareader as pdr\n",
    "import matplotlib.pyplot as plt\n",
    "from sklearn.model_selection import cross_val_score\n",
    "from sklearn.linear_model import LinearRegression\n",
    "from sklearn.model_selection import KFold\n",
    "from numpy.linalg import lstsq\n",
    "from itertools import combinations\n",
    "from statsmodels.api import OLS\n",
    "from sklearn.linear_model import LassoCV, RidgeCV"
   ]
  },
  {
   "cell_type": "code",
   "execution_count": 20,
   "metadata": {},
   "outputs": [],
   "source": [
    "# Import data\n",
    "## Very slow cell to run ##\n",
    "\n",
    "# momentum\n",
    "momentum = pdr.get_data_famafrench(\"F-F_Momentum_Factor_daily\", start=\"1920\", end=\"2020-12-31\")[0]\n",
    "momentum = momentum.resample(\"M\").last().squeeze()\n",
    "\n",
    "\n",
    "# Value weighted market\n",
    "vwm = pd.read_csv(\"data/VWM.csv\",index_col=\"Date\")\n",
    "vwm.index = pd.to_datetime(vwm.index, format=\"%Y%m\")\n",
    "vwm = vwm.resample(\"M\").last().squeeze()\n",
    "\n",
    "# 1, 5 and 10 year constant maturities\n",
    "const_mat_10 = pdr.get_data_fred(\"DGS10\", \"1920-01-01\", \"2020-12-31\")\n",
    "const_mat_10 = const_mat_10.resample(\"M\").last().squeeze()\n",
    "const_mat_5 = pdr.get_data_fred(\"DGS5\", \"1920-01-01\", \"2020-12-31\")\n",
    "const_mat_5 = const_mat_5.resample(\"M\").last().squeeze()\n",
    "const_mat_1 = pdr.get_data_fred(\"DGS1\", \"1920-01-01\", \"2020-12-31\")\n",
    "const_mat_1 = const_mat_1.resample(\"M\").last().squeeze()\n",
    "\n",
    "# AAA and BAA (Moody's)\n",
    "aaa = pdr.get_data_fred(\"DAAA\", \"1920-01-01\", \"2020-12-31\")\n",
    "aaa = aaa.resample(\"M\").last().squeeze()\n",
    "baa = pdr.get_data_fred(\"DBAA\", \"1920-01-01\", \"2020-12-31\")\n",
    "baa = baa.resample(\"M\").last().squeeze()\n",
    "\n",
    "# Unemployment rate (US)\n",
    "unrate = pdr.get_data_fred(\"UNRATE\", \"1920-01-01\", \"2020-12-31\")\n",
    "unrate = unrate.resample(\"M\").last().squeeze()\n",
    "\n",
    "# core CPi US - consumer price index for all urban consumers\n",
    "core_cpi = pdr.get_data_fred(\"CPIAUCSL\", \"1920-01-01\", \"2020-12-31\")\n",
    "core_cpi = core_cpi.resample(\"M\").last().squeeze()\n",
    "\n",
    "# Industrial Productivity\n",
    "ind_prod = pdr.get_data_fred(\"INDPRO\", \"1920-01-01\", \"2020-12-31\")\n",
    "ind_prod = ind_prod.resample(\"M\").last().squeeze()\n",
    "\n",
    "# Risk free rate\n",
    "ff_factors = pdr.get_data_famafrench(\"F-F_Research_Data_Factors_daily\", start=\"1920\", end=\"2020-12-31\")[0]\n",
    "rf = ff_factors[\"RF\"].resample(\"M\").last()\n",
    "rf = rf[\"1986-02-28\":]"
   ]
  },
  {
   "cell_type": "code",
   "execution_count": 21,
   "metadata": {},
   "outputs": [
    {
     "output_type": "execute_result",
     "data": {
      "text/plain": [
       "            Term  Curve  Default  Inflation\n",
       "DATE                                       \n",
       "1986-01-31  1.51  -0.41    -1.40   0.038966\n",
       "1986-02-28  0.70  -0.26    -1.49   0.031484\n",
       "1986-03-31  0.67  -0.27    -1.58   0.021307\n",
       "1986-04-30  0.84  -0.42    -1.22   0.015763\n",
       "1986-05-31  1.17  -0.71    -1.17   0.016652\n",
       "...          ...    ...      ...        ...\n",
       "2020-07-31  0.44   0.24    -1.12   0.010241\n",
       "2020-08-31  0.60   0.28    -0.97   0.013129\n",
       "2020-09-30  0.57   0.25    -1.12   0.013994\n",
       "2020-10-31  0.75   0.25    -1.10   0.011964\n",
       "2020-11-30  0.73   0.23    -0.93   0.011542\n",
       "\n",
       "[419 rows x 4 columns]"
      ],
      "text/html": "<div>\n<style scoped>\n    .dataframe tbody tr th:only-of-type {\n        vertical-align: middle;\n    }\n\n    .dataframe tbody tr th {\n        vertical-align: top;\n    }\n\n    .dataframe thead th {\n        text-align: right;\n    }\n</style>\n<table border=\"1\" class=\"dataframe\">\n  <thead>\n    <tr style=\"text-align: right;\">\n      <th></th>\n      <th>Term</th>\n      <th>Curve</th>\n      <th>Default</th>\n      <th>Inflation</th>\n    </tr>\n    <tr>\n      <th>DATE</th>\n      <th></th>\n      <th></th>\n      <th></th>\n      <th></th>\n    </tr>\n  </thead>\n  <tbody>\n    <tr>\n      <th>1986-01-31</th>\n      <td>1.51</td>\n      <td>-0.41</td>\n      <td>-1.40</td>\n      <td>0.038966</td>\n    </tr>\n    <tr>\n      <th>1986-02-28</th>\n      <td>0.70</td>\n      <td>-0.26</td>\n      <td>-1.49</td>\n      <td>0.031484</td>\n    </tr>\n    <tr>\n      <th>1986-03-31</th>\n      <td>0.67</td>\n      <td>-0.27</td>\n      <td>-1.58</td>\n      <td>0.021307</td>\n    </tr>\n    <tr>\n      <th>1986-04-30</th>\n      <td>0.84</td>\n      <td>-0.42</td>\n      <td>-1.22</td>\n      <td>0.015763</td>\n    </tr>\n    <tr>\n      <th>1986-05-31</th>\n      <td>1.17</td>\n      <td>-0.71</td>\n      <td>-1.17</td>\n      <td>0.016652</td>\n    </tr>\n    <tr>\n      <th>...</th>\n      <td>...</td>\n      <td>...</td>\n      <td>...</td>\n      <td>...</td>\n    </tr>\n    <tr>\n      <th>2020-07-31</th>\n      <td>0.44</td>\n      <td>0.24</td>\n      <td>-1.12</td>\n      <td>0.010241</td>\n    </tr>\n    <tr>\n      <th>2020-08-31</th>\n      <td>0.60</td>\n      <td>0.28</td>\n      <td>-0.97</td>\n      <td>0.013129</td>\n    </tr>\n    <tr>\n      <th>2020-09-30</th>\n      <td>0.57</td>\n      <td>0.25</td>\n      <td>-1.12</td>\n      <td>0.013994</td>\n    </tr>\n    <tr>\n      <th>2020-10-31</th>\n      <td>0.75</td>\n      <td>0.25</td>\n      <td>-1.10</td>\n      <td>0.011964</td>\n    </tr>\n    <tr>\n      <th>2020-11-30</th>\n      <td>0.73</td>\n      <td>0.23</td>\n      <td>-0.93</td>\n      <td>0.011542</td>\n    </tr>\n  </tbody>\n</table>\n<p>419 rows × 4 columns</p>\n</div>"
     },
     "metadata": {},
     "execution_count": 21
    }
   ],
   "source": [
    "# Variable construction:\n",
    "\n",
    "term = const_mat_10 - const_mat_1\n",
    "curve = const_mat_10 - 2 * const_mat_5 + const_mat_1\n",
    "default = aaa - baa\n",
    "\n",
    "inflation = pd.Series.copy(core_cpi)\n",
    "for i in range(12):\n",
    "    inflation[i] = np.nan\n",
    "for i in range(12,887):\n",
    "    inflation[i] = np.log(core_cpi[i]) - np.log(core_cpi[i-12])\n",
    "inflation = inflation.dropna()\n",
    "\n",
    "variables = pd.DataFrame([term,curve,default,inflation]).T\n",
    "variables.columns = [\"Term\", \"Curve\", \"Default\", \"Inflation\"]\n",
    "common_variables = variables.dropna()\n",
    "common_variables"
   ]
  },
  {
   "cell_type": "code",
   "execution_count": 22,
   "metadata": {},
   "outputs": [
    {
     "output_type": "execute_result",
     "data": {
      "text/plain": [
       "0.06595796779179741"
      ]
     },
     "metadata": {},
     "execution_count": 22
    }
   ],
   "source": [
    "np.log(core_cpi[14]) - np.log(core_cpi[2])"
   ]
  },
  {
   "cell_type": "code",
   "execution_count": 23,
   "metadata": {},
   "outputs": [
    {
     "output_type": "execute_result",
     "data": {
      "text/plain": [
       "             Mom   VWM  10yr   5yr   1yr   AAA    BAA  unempl      CPI  \\\n",
       "Date                                                                     \n",
       "1986-01-31  0.34  1.21  9.08  8.53  7.57  9.97  11.37     6.7  109.900   \n",
       "1986-02-28  0.49  7.66  8.13  7.91  7.43  9.13  10.62     7.2  109.700   \n",
       "1986-03-31  0.76  5.48  7.39  7.19  6.72  8.73  10.31     7.2  109.100   \n",
       "1986-04-30 -0.36 -0.79  7.38  7.17  6.54  8.94  10.16     7.1  108.700   \n",
       "1986-05-31 -0.29  5.11  8.05  7.82  6.88  9.24  10.41     7.2  109.000   \n",
       "...          ...   ...   ...   ...   ...   ...    ...     ...      ...   \n",
       "2020-06-30  1.15  2.47  0.66  0.29  0.16  2.34   3.59    11.1  257.214   \n",
       "2020-07-31  1.17  5.78  0.55  0.21  0.11  2.03   3.15    10.2  258.723   \n",
       "2020-08-31  1.74  7.64  0.72  0.28  0.12  2.42   3.39     8.4  259.681   \n",
       "2020-09-30  0.16 -3.62  0.69  0.28  0.12  2.32   3.44     7.9  260.209   \n",
       "2020-10-31 -2.33 -2.09  0.88  0.38  0.13  2.39   3.49     6.9  260.325   \n",
       "\n",
       "            Ind_Prod  \n",
       "Date                  \n",
       "1986-01-31   57.3104  \n",
       "1986-02-28   56.9344  \n",
       "1986-03-31   56.5420  \n",
       "1986-04-30   56.5599  \n",
       "1986-05-31   56.6823  \n",
       "...              ...  \n",
       "2020-06-30   97.8019  \n",
       "2020-07-31  101.8924  \n",
       "2020-08-31  102.6619  \n",
       "2020-09-30  102.6008  \n",
       "2020-10-31  103.5731  \n",
       "\n",
       "[418 rows x 10 columns]"
      ],
      "text/html": "<div>\n<style scoped>\n    .dataframe tbody tr th:only-of-type {\n        vertical-align: middle;\n    }\n\n    .dataframe tbody tr th {\n        vertical-align: top;\n    }\n\n    .dataframe thead th {\n        text-align: right;\n    }\n</style>\n<table border=\"1\" class=\"dataframe\">\n  <thead>\n    <tr style=\"text-align: right;\">\n      <th></th>\n      <th>Mom</th>\n      <th>VWM</th>\n      <th>10yr</th>\n      <th>5yr</th>\n      <th>1yr</th>\n      <th>AAA</th>\n      <th>BAA</th>\n      <th>unempl</th>\n      <th>CPI</th>\n      <th>Ind_Prod</th>\n    </tr>\n    <tr>\n      <th>Date</th>\n      <th></th>\n      <th></th>\n      <th></th>\n      <th></th>\n      <th></th>\n      <th></th>\n      <th></th>\n      <th></th>\n      <th></th>\n      <th></th>\n    </tr>\n  </thead>\n  <tbody>\n    <tr>\n      <th>1986-01-31</th>\n      <td>0.34</td>\n      <td>1.21</td>\n      <td>9.08</td>\n      <td>8.53</td>\n      <td>7.57</td>\n      <td>9.97</td>\n      <td>11.37</td>\n      <td>6.7</td>\n      <td>109.900</td>\n      <td>57.3104</td>\n    </tr>\n    <tr>\n      <th>1986-02-28</th>\n      <td>0.49</td>\n      <td>7.66</td>\n      <td>8.13</td>\n      <td>7.91</td>\n      <td>7.43</td>\n      <td>9.13</td>\n      <td>10.62</td>\n      <td>7.2</td>\n      <td>109.700</td>\n      <td>56.9344</td>\n    </tr>\n    <tr>\n      <th>1986-03-31</th>\n      <td>0.76</td>\n      <td>5.48</td>\n      <td>7.39</td>\n      <td>7.19</td>\n      <td>6.72</td>\n      <td>8.73</td>\n      <td>10.31</td>\n      <td>7.2</td>\n      <td>109.100</td>\n      <td>56.5420</td>\n    </tr>\n    <tr>\n      <th>1986-04-30</th>\n      <td>-0.36</td>\n      <td>-0.79</td>\n      <td>7.38</td>\n      <td>7.17</td>\n      <td>6.54</td>\n      <td>8.94</td>\n      <td>10.16</td>\n      <td>7.1</td>\n      <td>108.700</td>\n      <td>56.5599</td>\n    </tr>\n    <tr>\n      <th>1986-05-31</th>\n      <td>-0.29</td>\n      <td>5.11</td>\n      <td>8.05</td>\n      <td>7.82</td>\n      <td>6.88</td>\n      <td>9.24</td>\n      <td>10.41</td>\n      <td>7.2</td>\n      <td>109.000</td>\n      <td>56.6823</td>\n    </tr>\n    <tr>\n      <th>...</th>\n      <td>...</td>\n      <td>...</td>\n      <td>...</td>\n      <td>...</td>\n      <td>...</td>\n      <td>...</td>\n      <td>...</td>\n      <td>...</td>\n      <td>...</td>\n      <td>...</td>\n    </tr>\n    <tr>\n      <th>2020-06-30</th>\n      <td>1.15</td>\n      <td>2.47</td>\n      <td>0.66</td>\n      <td>0.29</td>\n      <td>0.16</td>\n      <td>2.34</td>\n      <td>3.59</td>\n      <td>11.1</td>\n      <td>257.214</td>\n      <td>97.8019</td>\n    </tr>\n    <tr>\n      <th>2020-07-31</th>\n      <td>1.17</td>\n      <td>5.78</td>\n      <td>0.55</td>\n      <td>0.21</td>\n      <td>0.11</td>\n      <td>2.03</td>\n      <td>3.15</td>\n      <td>10.2</td>\n      <td>258.723</td>\n      <td>101.8924</td>\n    </tr>\n    <tr>\n      <th>2020-08-31</th>\n      <td>1.74</td>\n      <td>7.64</td>\n      <td>0.72</td>\n      <td>0.28</td>\n      <td>0.12</td>\n      <td>2.42</td>\n      <td>3.39</td>\n      <td>8.4</td>\n      <td>259.681</td>\n      <td>102.6619</td>\n    </tr>\n    <tr>\n      <th>2020-09-30</th>\n      <td>0.16</td>\n      <td>-3.62</td>\n      <td>0.69</td>\n      <td>0.28</td>\n      <td>0.12</td>\n      <td>2.32</td>\n      <td>3.44</td>\n      <td>7.9</td>\n      <td>260.209</td>\n      <td>102.6008</td>\n    </tr>\n    <tr>\n      <th>2020-10-31</th>\n      <td>-2.33</td>\n      <td>-2.09</td>\n      <td>0.88</td>\n      <td>0.38</td>\n      <td>0.13</td>\n      <td>2.39</td>\n      <td>3.49</td>\n      <td>6.9</td>\n      <td>260.325</td>\n      <td>103.5731</td>\n    </tr>\n  </tbody>\n</table>\n<p>418 rows × 10 columns</p>\n</div>"
     },
     "metadata": {},
     "execution_count": 23
    }
   ],
   "source": [
    "data = pd.DataFrame([momentum,vwm, const_mat_10,const_mat_5,const_mat_1,aaa,baa,unrate,core_cpi,ind_prod]).T\n",
    "data.columns = [\"Mom\", \"VWM\",\"10yr\",\"5yr\",\"1yr\",\"AAA\",\"BAA\",\"unempl\",\"CPI\",\"Ind_Prod\"]\n",
    "common_data = data.dropna()\n",
    "common_data"
   ]
  },
  {
   "cell_type": "code",
   "execution_count": 24,
   "metadata": {},
   "outputs": [
    {
     "output_type": "execute_result",
     "data": {
      "text/plain": [
       "             Mom   VWM  10yr   5yr   1yr   AAA    BAA  unempl      CPI  \\\n",
       "Date                                                                     \n",
       "1986-01-31  0.34  1.21  9.08  8.53  7.57  9.97  11.37     6.7  109.900   \n",
       "1986-02-28  0.49  7.66  8.13  7.91  7.43  9.13  10.62     7.2  109.700   \n",
       "1986-03-31  0.76  5.48  7.39  7.19  6.72  8.73  10.31     7.2  109.100   \n",
       "1986-04-30 -0.36 -0.79  7.38  7.17  6.54  8.94  10.16     7.1  108.700   \n",
       "1986-05-31 -0.29  5.11  8.05  7.82  6.88  9.24  10.41     7.2  109.000   \n",
       "...          ...   ...   ...   ...   ...   ...    ...     ...      ...   \n",
       "2020-06-30  1.15  2.47  0.66  0.29  0.16  2.34   3.59    11.1  257.214   \n",
       "2020-07-31  1.17  5.78  0.55  0.21  0.11  2.03   3.15    10.2  258.723   \n",
       "2020-08-31  1.74  7.64  0.72  0.28  0.12  2.42   3.39     8.4  259.681   \n",
       "2020-09-30  0.16 -3.62  0.69  0.28  0.12  2.32   3.44     7.9  260.209   \n",
       "2020-10-31 -2.33 -2.09  0.88  0.38  0.13  2.39   3.49     6.9  260.325   \n",
       "\n",
       "            Ind_Prod  Term  Curve  Default  Inflation  \n",
       "Date                                                   \n",
       "1986-01-31   57.3104  1.51  -0.41    -1.40   0.038966  \n",
       "1986-02-28   56.9344  0.70  -0.26    -1.49   0.031484  \n",
       "1986-03-31   56.5420  0.67  -0.27    -1.58   0.021307  \n",
       "1986-04-30   56.5599  0.84  -0.42    -1.22   0.015763  \n",
       "1986-05-31   56.6823  1.17  -0.71    -1.17   0.016652  \n",
       "...              ...   ...    ...      ...        ...  \n",
       "2020-06-30   97.8019  0.50   0.24    -1.25   0.007070  \n",
       "2020-07-31  101.8924  0.44   0.24    -1.12   0.010241  \n",
       "2020-08-31  102.6619  0.60   0.28    -0.97   0.013129  \n",
       "2020-09-30  102.6008  0.57   0.25    -1.12   0.013994  \n",
       "2020-10-31  103.5731  0.75   0.25    -1.10   0.011964  \n",
       "\n",
       "[418 rows x 14 columns]"
      ],
      "text/html": "<div>\n<style scoped>\n    .dataframe tbody tr th:only-of-type {\n        vertical-align: middle;\n    }\n\n    .dataframe tbody tr th {\n        vertical-align: top;\n    }\n\n    .dataframe thead th {\n        text-align: right;\n    }\n</style>\n<table border=\"1\" class=\"dataframe\">\n  <thead>\n    <tr style=\"text-align: right;\">\n      <th></th>\n      <th>Mom</th>\n      <th>VWM</th>\n      <th>10yr</th>\n      <th>5yr</th>\n      <th>1yr</th>\n      <th>AAA</th>\n      <th>BAA</th>\n      <th>unempl</th>\n      <th>CPI</th>\n      <th>Ind_Prod</th>\n      <th>Term</th>\n      <th>Curve</th>\n      <th>Default</th>\n      <th>Inflation</th>\n    </tr>\n    <tr>\n      <th>Date</th>\n      <th></th>\n      <th></th>\n      <th></th>\n      <th></th>\n      <th></th>\n      <th></th>\n      <th></th>\n      <th></th>\n      <th></th>\n      <th></th>\n      <th></th>\n      <th></th>\n      <th></th>\n      <th></th>\n    </tr>\n  </thead>\n  <tbody>\n    <tr>\n      <th>1986-01-31</th>\n      <td>0.34</td>\n      <td>1.21</td>\n      <td>9.08</td>\n      <td>8.53</td>\n      <td>7.57</td>\n      <td>9.97</td>\n      <td>11.37</td>\n      <td>6.7</td>\n      <td>109.900</td>\n      <td>57.3104</td>\n      <td>1.51</td>\n      <td>-0.41</td>\n      <td>-1.40</td>\n      <td>0.038966</td>\n    </tr>\n    <tr>\n      <th>1986-02-28</th>\n      <td>0.49</td>\n      <td>7.66</td>\n      <td>8.13</td>\n      <td>7.91</td>\n      <td>7.43</td>\n      <td>9.13</td>\n      <td>10.62</td>\n      <td>7.2</td>\n      <td>109.700</td>\n      <td>56.9344</td>\n      <td>0.70</td>\n      <td>-0.26</td>\n      <td>-1.49</td>\n      <td>0.031484</td>\n    </tr>\n    <tr>\n      <th>1986-03-31</th>\n      <td>0.76</td>\n      <td>5.48</td>\n      <td>7.39</td>\n      <td>7.19</td>\n      <td>6.72</td>\n      <td>8.73</td>\n      <td>10.31</td>\n      <td>7.2</td>\n      <td>109.100</td>\n      <td>56.5420</td>\n      <td>0.67</td>\n      <td>-0.27</td>\n      <td>-1.58</td>\n      <td>0.021307</td>\n    </tr>\n    <tr>\n      <th>1986-04-30</th>\n      <td>-0.36</td>\n      <td>-0.79</td>\n      <td>7.38</td>\n      <td>7.17</td>\n      <td>6.54</td>\n      <td>8.94</td>\n      <td>10.16</td>\n      <td>7.1</td>\n      <td>108.700</td>\n      <td>56.5599</td>\n      <td>0.84</td>\n      <td>-0.42</td>\n      <td>-1.22</td>\n      <td>0.015763</td>\n    </tr>\n    <tr>\n      <th>1986-05-31</th>\n      <td>-0.29</td>\n      <td>5.11</td>\n      <td>8.05</td>\n      <td>7.82</td>\n      <td>6.88</td>\n      <td>9.24</td>\n      <td>10.41</td>\n      <td>7.2</td>\n      <td>109.000</td>\n      <td>56.6823</td>\n      <td>1.17</td>\n      <td>-0.71</td>\n      <td>-1.17</td>\n      <td>0.016652</td>\n    </tr>\n    <tr>\n      <th>...</th>\n      <td>...</td>\n      <td>...</td>\n      <td>...</td>\n      <td>...</td>\n      <td>...</td>\n      <td>...</td>\n      <td>...</td>\n      <td>...</td>\n      <td>...</td>\n      <td>...</td>\n      <td>...</td>\n      <td>...</td>\n      <td>...</td>\n      <td>...</td>\n    </tr>\n    <tr>\n      <th>2020-06-30</th>\n      <td>1.15</td>\n      <td>2.47</td>\n      <td>0.66</td>\n      <td>0.29</td>\n      <td>0.16</td>\n      <td>2.34</td>\n      <td>3.59</td>\n      <td>11.1</td>\n      <td>257.214</td>\n      <td>97.8019</td>\n      <td>0.50</td>\n      <td>0.24</td>\n      <td>-1.25</td>\n      <td>0.007070</td>\n    </tr>\n    <tr>\n      <th>2020-07-31</th>\n      <td>1.17</td>\n      <td>5.78</td>\n      <td>0.55</td>\n      <td>0.21</td>\n      <td>0.11</td>\n      <td>2.03</td>\n      <td>3.15</td>\n      <td>10.2</td>\n      <td>258.723</td>\n      <td>101.8924</td>\n      <td>0.44</td>\n      <td>0.24</td>\n      <td>-1.12</td>\n      <td>0.010241</td>\n    </tr>\n    <tr>\n      <th>2020-08-31</th>\n      <td>1.74</td>\n      <td>7.64</td>\n      <td>0.72</td>\n      <td>0.28</td>\n      <td>0.12</td>\n      <td>2.42</td>\n      <td>3.39</td>\n      <td>8.4</td>\n      <td>259.681</td>\n      <td>102.6619</td>\n      <td>0.60</td>\n      <td>0.28</td>\n      <td>-0.97</td>\n      <td>0.013129</td>\n    </tr>\n    <tr>\n      <th>2020-09-30</th>\n      <td>0.16</td>\n      <td>-3.62</td>\n      <td>0.69</td>\n      <td>0.28</td>\n      <td>0.12</td>\n      <td>2.32</td>\n      <td>3.44</td>\n      <td>7.9</td>\n      <td>260.209</td>\n      <td>102.6008</td>\n      <td>0.57</td>\n      <td>0.25</td>\n      <td>-1.12</td>\n      <td>0.013994</td>\n    </tr>\n    <tr>\n      <th>2020-10-31</th>\n      <td>-2.33</td>\n      <td>-2.09</td>\n      <td>0.88</td>\n      <td>0.38</td>\n      <td>0.13</td>\n      <td>2.39</td>\n      <td>3.49</td>\n      <td>6.9</td>\n      <td>260.325</td>\n      <td>103.5731</td>\n      <td>0.75</td>\n      <td>0.25</td>\n      <td>-1.10</td>\n      <td>0.011964</td>\n    </tr>\n  </tbody>\n</table>\n<p>418 rows × 14 columns</p>\n</div>"
     },
     "metadata": {},
     "execution_count": 24
    }
   ],
   "source": [
    "common_sample = pd.DataFrame([momentum,vwm, const_mat_10,const_mat_5,const_mat_1,aaa,baa,unrate,core_cpi,ind_prod,term,curve,default,inflation]).T\n",
    "common_sample.columns = [\"Mom\", \"VWM\",\"10yr\",\"5yr\",\"1yr\",\"AAA\",\"BAA\",\"unempl\",\"CPI\",\"Ind_Prod\",\"Term\", \"Curve\", \"Default\", \"Inflation\"]\n",
    "common_sample = common_sample.dropna()\n",
    "common_sample"
   ]
  },
  {
   "source": [
    "Importing useful functions"
   ],
   "cell_type": "markdown",
   "metadata": {}
  },
  {
   "cell_type": "code",
   "execution_count": 25,
   "metadata": {},
   "outputs": [],
   "source": [
    "## Cross Validation function\n",
    "\n",
    "def xval_5fold(y, x , random=False, seed = 20201231,fold=5):\n",
    "    # Use numpy arrays for simplicity\n",
    "    y = np.asarray(y)\n",
    "    x = np.asarray(x)\n",
    "    n = y.shape[0]\n",
    "    if random:\n",
    "        # If randomisation is needed, use either the default or provided seed\n",
    "        rg = np.random.default_rng(seed)\n",
    "        # Generate a set of index values to use to randomly reorder the data\n",
    "        # After randomisation, we can use the data as if it is is inorder!\n",
    "        ind = rg.permutation(np.arange(n))\n",
    "        y = y[ind]\n",
    "        x = x[ind]\n",
    "    # Compute the block size\n",
    "    block = n / fold\n",
    "    sse = 0.0\n",
    "    for i in range(int(fold)):\n",
    "        # Start and end of each block need to be integers or we lose an observation\n",
    "        # Rounding ensures that we get all observations since int rounds down\n",
    "        st = int(np.round(i * block))\n",
    "        en = int(np.round((i + 1) * block))\n",
    "        # Construct the indicies of the observations that we leave out\n",
    "        leave_out = np.r_[st:en]\n",
    "        # The included are the one that we don't leave out\n",
    "        include = np.setdiff1d(np.arange(n), leave_out)\n",
    "        # Compute the regression coefficients\n",
    "        beta = lstsq(x[include], y[include], rcond=None)[0]\n",
    "        # Compute the residuals and add to the sse\n",
    "        resid = y[st:en]- x[st:en] @ beta\n",
    "        sse += resid @ resid\n",
    "    return sse\n",
    "\n",
    "# Randomisation is better when we suspect the model may not be totally stable"
   ]
  },
  {
   "cell_type": "code",
   "execution_count": 26,
   "metadata": {},
   "outputs": [],
   "source": [
    "# forward stepwise function: \n",
    "# requires x: x dataframe , y series, p = number of columns, requires xval function too\n",
    "# input x, y, p\n",
    "def forward_stepwise(x, y, p,random=False,fold=5):\n",
    "    included = []\n",
    "\n",
    "    for i in range(p):\n",
    "        excluded = [col for col in x if col not in included]\n",
    "        best_sse = np.inf\n",
    "        for col in excluded:\n",
    "            try_x = x[included + [col]]\n",
    "            beta = lstsq(try_x, y, rcond=None)[0]\n",
    "            resid = y - try_x @ beta\n",
    "            sse = resid @ resid\n",
    "            if sse < best_sse:\n",
    "                best_sse = sse\n",
    "                next_var = col\n",
    "                included.append(next_var)\n",
    "    \n",
    "    fsr_sse_sv = {}\n",
    "    for i in range(1,p+1):\n",
    "        fsr_sse_sv[i] = xval_5fold(y,x[included[:i]],random=random, fold=fold)\n",
    "    fsr_sse_sv = pd.Series(fsr_sse_sv)\n",
    "    forward_step_model = included[:fsr_sse_sv.idxmin()]\n",
    "    return forward_step_model, pd.Series(fsr_sse_sv), included"
   ]
  },
  {
   "cell_type": "code",
   "execution_count": 27,
   "metadata": {},
   "outputs": [],
   "source": [
    "### Best subset regression function\n",
    "\n",
    "def best_subset(x, y, p, random=False, fold=5):\n",
    "\n",
    "    for i in range(1, p+1):\n",
    "        count = 0\n",
    "        for comb in combinations(x.columns, i):\n",
    "            count += 1\n",
    "            if count > 1:\n",
    "                break\n",
    "\n",
    "    best_models = {}\n",
    "    for i in range( 1, p+1):\n",
    "        best_sse = np.inf\n",
    "        for comb in combinations(x.columns, i):\n",
    "            reg = x[list(comb)]\n",
    "            beta = lstsq(reg, y , rcond=None)[0]\n",
    "            resid = y - reg @ beta\n",
    "            sse = resid @ resid\n",
    "            if sse < best_sse:\n",
    "                best_sse = sse\n",
    "                best_models[i] = list(comb)\n",
    "\n",
    "    bsr_sse_xv = {}\n",
    "    for n_var in best_models:\n",
    "        bsr_sse_xv[n_var] = xval_5fold(y, x[best_models[n_var]], random=random,fold=fold)\n",
    "    bsr_sse_xv = pd.Series(bsr_sse_xv)\n",
    "    bsr_model = best_models[bsr_sse_xv.idxmin()]\n",
    "\n",
    "    return bsr_model, bsr_sse_xv\n",
    "\n",
    "#print(bsr_model)\n",
    "#bsr_sse_xv"
   ]
  },
  {
   "source": [
    "Problem 1, predicting momentum"
   ],
   "cell_type": "markdown",
   "metadata": {}
  },
  {
   "cell_type": "code",
   "execution_count": 132,
   "metadata": {},
   "outputs": [],
   "source": [
    "# Selecting a model to predict momentum returns in sample\n",
    "# Setup y, x, t and p - cutting off first and last values to create a lagged effect of our regressors\n",
    "\n",
    "y = common_sample[\"Mom\"][\"1986-02-28\":]\n",
    "x = common_sample[\"1986-01-28\":\"2020-09-30\"]\n",
    "t, p = x.shape\n",
    "x.index = x.index.shift(1)\n",
    "\n",
    "\n",
    "# Setup in_sample data\n",
    "\n",
    "y_in = common_sample[\"Mom\"][1:209]\n",
    "x_in = common_sample[0:208]\n",
    "t_in, p_in = x_in.shape\n",
    "x_in.index = x_in.index.shift(1)\n",
    "\n",
    "# Set up the out of sample evaluation data\n",
    "# Setup y, x, t and p - cutting off first and last values to create a lagged effect of our regressors\n",
    "\n",
    "y_oos = common_sample[\"Mom\"][209:]\n",
    "x_oos = common_sample[208:-1]\n",
    "t_oos, p_oos = x_oos.shape\n",
    "x_oos.index = x_oos.index.shift(1)\n",
    "\n",
    "x_scale = x.std(ddof=0)\n",
    "y_scale = y.std(ddof=0)\n",
    "std_x = x / x_scale\n",
    "std_y = y / y_scale\n"
   ]
  },
  {
   "cell_type": "code",
   "execution_count": 66,
   "metadata": {},
   "outputs": [
    {
     "output_type": "execute_result",
     "data": {
      "text/plain": [
       "(['10yr', '5yr', 'unempl', 'Default'],\n",
       " 1     182.340085\n",
       " 2     183.163474\n",
       " 3     181.002456\n",
       " 4     179.000691\n",
       " 5     197.627927\n",
       " 6     192.826593\n",
       " 7     189.923527\n",
       " 8     189.294736\n",
       " 9     189.867361\n",
       " 10    192.249382\n",
       " 11    194.681215\n",
       " 12    194.681215\n",
       " 13    194.681215\n",
       " 14    194.681215\n",
       " dtype: float64)"
      ]
     },
     "metadata": {},
     "execution_count": 66
    }
   ],
   "source": [
    "# Best subset model selection, momentum in sample\n",
    "### Cell takes a minute to run ###\n",
    "\n",
    "best_subset(x, y, p, random=False, fold=5)"
   ]
  },
  {
   "cell_type": "code",
   "execution_count": 64,
   "metadata": {},
   "outputs": [
    {
     "output_type": "execute_result",
     "data": {
      "text/plain": [
       "(['Mom', 'VWM', '10yr', '5yr', '1yr', 'AAA', 'BAA', 'unempl'],\n",
       " 1     182.340085\n",
       " 2     183.507617\n",
       " 3     185.034513\n",
       " 4     184.442231\n",
       " 5     184.916710\n",
       " 6     184.384152\n",
       " 7     184.336901\n",
       " 8     180.665378\n",
       " 9     184.632058\n",
       " 10    192.762705\n",
       " 11    192.762705\n",
       " 12    194.681215\n",
       " 13    194.681215\n",
       " 14    194.681215\n",
       " dtype: float64,\n",
       " ['Mom',\n",
       "  'VWM',\n",
       "  '10yr',\n",
       "  '5yr',\n",
       "  '1yr',\n",
       "  'AAA',\n",
       "  'BAA',\n",
       "  'unempl',\n",
       "  'CPI',\n",
       "  'Ind_Prod',\n",
       "  'Term',\n",
       "  'Inflation',\n",
       "  'Curve',\n",
       "  'Default'])"
      ]
     },
     "metadata": {},
     "execution_count": 64
    }
   ],
   "source": [
    "### Forward stepwise model selection, in sample\n",
    "forward_stepwise(x, y, p, random=False, fold=5)"
   ]
  },
  {
   "cell_type": "code",
   "execution_count": 133,
   "metadata": {},
   "outputs": [
    {
     "output_type": "stream",
     "name": "stdout",
     "text": [
      "Optimal Alpha = 0.00010679033922355593\n"
     ]
    },
    {
     "output_type": "execute_result",
     "data": {
      "text/plain": [
       "10yr      -0.446567\n",
       "5yr        0.431619\n",
       "unempl     0.101191\n",
       "Default    0.296963\n",
       "dtype: float64"
      ]
     },
     "metadata": {},
     "execution_count": 133
    }
   ],
   "source": [
    "### LASSO estimation\n",
    "# initialise the Lasso CV model\n",
    "\n",
    "x_scale = x[['10yr', '5yr', 'unempl', 'Default']].std(ddof=0)\n",
    "y_scale = y.std(ddof=0)\n",
    "std_x = x / x_scale\n",
    "std_y = y / y_scale\n",
    "std_x = std_x[['10yr', '5yr', 'unempl', 'Default']]\n",
    "\n",
    "lasso_cv = LassoCV(fit_intercept=False)\n",
    "lasso_cv = lasso_cv.fit(std_x,std_y)\n",
    "print(f\"Optimal Alpha = {lasso_cv.alpha_}\")\n",
    "lasso_beta = lasso_cv.coef_  * (y_scale / x_scale)\n",
    "lasso_beta"
   ]
  },
  {
   "cell_type": "code",
   "execution_count": 79,
   "metadata": {},
   "outputs": [
    {
     "output_type": "execute_result",
     "data": {
      "text/plain": [
       "array([-0.50016993,  0.48144405,  0.10839534,  0.29559332])"
      ]
     },
     "metadata": {},
     "execution_count": 79
    }
   ],
   "source": [
    "beta"
   ]
  },
  {
   "cell_type": "code",
   "execution_count": 134,
   "metadata": {},
   "outputs": [
    {
     "output_type": "execute_result",
     "data": {
      "text/plain": [
       "13.748104452210107"
      ]
     },
     "metadata": {},
     "execution_count": 134
    }
   ],
   "source": [
    "beta = lstsq(x[['10yr', '5yr', 'unempl', 'Default']],y,rcond=0)[0]\n",
    "\n",
    "pred_returns = x_oos[['10yr', '5yr', 'unempl', 'Default']] @ beta\n",
    "\n",
    "strat_returns = np.ones(209)\n",
    "for i in range(209):\n",
    "    if pred_returns[i] > y_in.mean():\n",
    "        portfolio_weight = 1.5\n",
    "    else:\n",
    "        portfolio_weight = 0.5\n",
    "    \n",
    "    strat_returns[i] = (portfolio_weight * y_oos[i]) + (1- portfolio_weight) * rf[i]\n",
    "\n",
    "\n",
    "cum_strat_returns = ((1+strat_returns/100).cumprod()-1)*100\n",
    "cum_strat_returns[-1]"
   ]
  },
  {
   "cell_type": "code",
   "execution_count": 127,
   "metadata": {},
   "outputs": [
    {
     "output_type": "execute_result",
     "data": {
      "text/plain": [
       "19.398056515096517"
      ]
     },
     "metadata": {},
     "execution_count": 127
    }
   ],
   "source": [
    "cum_strat_returns[-1]"
   ]
  },
  {
   "cell_type": "code",
   "execution_count": 130,
   "metadata": {},
   "outputs": [
    {
     "output_type": "execute_result",
     "data": {
      "text/plain": [
       "0.683087275253292"
      ]
     },
     "metadata": {},
     "execution_count": 130
    }
   ],
   "source": [
    "strat_returns.std()"
   ]
  },
  {
   "cell_type": "code",
   "execution_count": 131,
   "metadata": {},
   "outputs": [
    {
     "output_type": "execute_result",
     "data": {
      "text/plain": [
       "0.18358460251874528"
      ]
     },
     "metadata": {},
     "execution_count": 131
    }
   ],
   "source": [
    "((cum_strat_returns[-1]/100)-rf.mean())/ strat_returns.std()"
   ]
  },
  {
   "cell_type": "code",
   "execution_count": 35,
   "metadata": {},
   "outputs": [
    {
     "output_type": "execute_result",
     "data": {
      "text/plain": [
       "-0.029648874231109585"
      ]
     },
     "metadata": {},
     "execution_count": 35
    }
   ],
   "source": [
    "(((((1+(y_oos/100)).cumprod()-1))[-1])-rf.mean())/ y_oos.std()"
   ]
  },
  {
   "cell_type": "code",
   "execution_count": 135,
   "metadata": {},
   "outputs": [
    {
     "output_type": "stream",
     "name": "stdout",
     "text": [
      "The out of sample R2 for the out of sample period is 9.1%.\n\nThe in sample R2 for the out of sample period is 11.0%.\n"
     ]
    }
   ],
   "source": [
    "resid_oos = y_oos - pred_returns\n",
    "oos_sse = resid_oos @ resid_oos\n",
    "oos_tss = (y_oos **2).sum()\n",
    "oos_r2 = 1- oos_sse/ oos_tss\n",
    "print(f\"The out of sample R2 for the out of sample period is {100*oos_r2:0.1f}%.\")\n",
    "print()\n",
    "r2 = OLS(y_oos, x_oos).fit().rsquared\n",
    "print(f\"The in sample R2 for the out of sample period is {100*r2:0.1f}%.\")"
   ]
  },
  {
   "source": [
    "Amazing - but now to attempt a replication out of sample"
   ],
   "cell_type": "markdown",
   "metadata": {}
  },
  {
   "cell_type": "code",
   "execution_count": 96,
   "metadata": {},
   "outputs": [
    {
     "output_type": "execute_result",
     "data": {
      "text/plain": [
       "(['VWM', '10yr', 'BAA', 'unempl', 'CPI', 'Ind_Prod'],\n",
       " 1     54.401696\n",
       " 2     53.343351\n",
       " 3     54.208793\n",
       " 4     53.182563\n",
       " 5     52.979963\n",
       " 6     52.677767\n",
       " 7     53.390887\n",
       " 8     52.998369\n",
       " 9     53.346552\n",
       " 10    54.759236\n",
       " 11    56.640050\n",
       " 12    56.640050\n",
       " 13    56.640050\n",
       " 14    56.640050\n",
       " dtype: float64)"
      ]
     },
     "metadata": {},
     "execution_count": 96
    }
   ],
   "source": [
    "### Training the data on the first half (208 data points in y)\n",
    "best_subset(x_in, y_in, p_in, random=True,fold=5)"
   ]
  },
  {
   "cell_type": "code",
   "execution_count": 95,
   "metadata": {},
   "outputs": [
    {
     "output_type": "execute_result",
     "data": {
      "text/plain": [
       "(['Mom', 'VWM', '10yr', '5yr'],\n",
       " 1     54.401696\n",
       " 2     54.790824\n",
       " 3     55.103541\n",
       " 4     54.345972\n",
       " 5     55.200944\n",
       " 6     55.712932\n",
       " 7     56.640742\n",
       " 8     58.628300\n",
       " 9     58.955278\n",
       " 10    56.950648\n",
       " 11    56.950648\n",
       " 12    56.640050\n",
       " 13    56.640050\n",
       " 14    56.640050\n",
       " dtype: float64,\n",
       " ['Mom',\n",
       "  'VWM',\n",
       "  '10yr',\n",
       "  '5yr',\n",
       "  '1yr',\n",
       "  'AAA',\n",
       "  'BAA',\n",
       "  'unempl',\n",
       "  'CPI',\n",
       "  'Ind_Prod',\n",
       "  'Term',\n",
       "  'Inflation',\n",
       "  'Curve',\n",
       "  'Default'])"
      ]
     },
     "metadata": {},
     "execution_count": 95
    }
   ],
   "source": [
    "forward_stepwise(x_in, y_in, p_in, random=True,fold=5)"
   ]
  },
  {
   "cell_type": "code",
   "execution_count": 97,
   "metadata": {},
   "outputs": [
    {
     "output_type": "stream",
     "name": "stdout",
     "text": [
      "Optimal Alpha = 0.2702617481343985\n"
     ]
    },
    {
     "output_type": "execute_result",
     "data": {
      "text/plain": [
       "VWM         0.0\n",
       "10yr        0.0\n",
       "BAA         0.0\n",
       "unempl      0.0\n",
       "CPI         0.0\n",
       "Ind_Prod    0.0\n",
       "dtype: float64"
      ]
     },
     "metadata": {},
     "execution_count": 97
    }
   ],
   "source": [
    "### LASSO estimation\n",
    "# initialise the Lasso CV model\n",
    "\n",
    "x_scale = x_in[['VWM', '10yr', 'BAA', 'unempl', 'CPI', 'Ind_Prod']].std(ddof=0)\n",
    "y_scale = y_in.std(ddof=0)\n",
    "std_x = x / x_scale\n",
    "std_y = y / y_scale\n",
    "std_x = std_x[['VWM', '10yr', 'BAA', 'unempl', 'CPI', 'Ind_Prod']]\n",
    "\n",
    "lasso_cv = LassoCV(fit_intercept=False)\n",
    "lasso_cv = lasso_cv.fit(std_x,std_y)\n",
    "print(f\"Optimal Alpha = {lasso_cv.alpha_}\")\n",
    "lasso_beta = lasso_cv.coef_  * (y_scale / x_scale)\n",
    "lasso_beta"
   ]
  },
  {
   "cell_type": "code",
   "execution_count": null,
   "metadata": {},
   "outputs": [],
   "source": []
  },
  {
   "cell_type": "code",
   "execution_count": 149,
   "metadata": {},
   "outputs": [
    {
     "output_type": "execute_result",
     "data": {
      "text/plain": [
       "10.677780642598588"
      ]
     },
     "metadata": {},
     "execution_count": 149
    }
   ],
   "source": [
    "### Evaluating the model out of sample\n",
    "\n",
    "beta = lstsq(x_in[['VWM', '10yr', 'BAA', 'unempl', 'CPI', 'Ind_Prod']],y_in,rcond=0)[0]\n",
    "pred_returns = x_oos[['VWM', '10yr', 'BAA', 'unempl', 'CPI', 'Ind_Prod']] @ beta\n",
    "\n",
    "strat_returns = np.ones(209)\n",
    "for i in range(209):\n",
    "    if pred_returns[i] > y_in.mean():\n",
    "        portfolio_weight = 1.5\n",
    "    else:\n",
    "        portfolio_weight = 0.5\n",
    "    \n",
    "    strat_returns[i] = (portfolio_weight * y_oos[i]) + (1 - portfolio_weight) * rf[i]\n",
    "\n",
    "\n",
    "cum_strat_returns = ((1+strat_returns/100).cumprod()-1)*100\n",
    "cum_strat_returns[-1]"
   ]
  },
  {
   "cell_type": "code",
   "execution_count": 40,
   "metadata": {},
   "outputs": [
    {
     "output_type": "execute_result",
     "data": {
      "text/plain": [
       "0.10677780642598589"
      ]
     },
     "metadata": {},
     "execution_count": 40
    }
   ],
   "source": [
    "(1 + strat_returns/100).cumprod()[-1]-1"
   ]
  },
  {
   "cell_type": "code",
   "execution_count": 41,
   "metadata": {},
   "outputs": [
    {
     "output_type": "execute_result",
     "data": {
      "text/plain": [
       "0.49385887245944676"
      ]
     },
     "metadata": {},
     "execution_count": 41
    }
   ],
   "source": [
    "strat_returns.std()"
   ]
  },
  {
   "cell_type": "code",
   "execution_count": 42,
   "metadata": {},
   "outputs": [
    {
     "output_type": "execute_result",
     "data": {
      "text/plain": [
       "0.19175734829923413"
      ]
     },
     "metadata": {},
     "execution_count": 42
    }
   ],
   "source": [
    "((cum_strat_returns[-1]/100)-rf.mean())/ strat_returns.std()"
   ]
  },
  {
   "cell_type": "code",
   "execution_count": 43,
   "metadata": {},
   "outputs": [
    {
     "output_type": "execute_result",
     "data": {
      "text/plain": [
       "-0.029648874231109585"
      ]
     },
     "metadata": {},
     "execution_count": 43
    }
   ],
   "source": [
    "(((1+(y_oos/100)).cumprod()[-1]-1)-rf.mean()) / y_oos.std()"
   ]
  },
  {
   "cell_type": "code",
   "execution_count": 101,
   "metadata": {},
   "outputs": [
    {
     "output_type": "stream",
     "name": "stdout",
     "text": [
      "The out of sample R2 for the out of sample period is -80.6%.\n\nThe in sample R2 for the out of sample period is 11.0%.\n"
     ]
    }
   ],
   "source": [
    "resid_oos = y_oos - pred_returns\n",
    "oos_sse = resid_oos @ resid_oos\n",
    "oos_tss = (y_oos **2).sum()\n",
    "oos_r2 = 1- (oos_sse/ oos_tss)\n",
    "print(f\"The out of sample R2 for the out of sample period is {100*oos_r2:0.1f}%.\")\n",
    "print()\n",
    "r2 = OLS(y_oos, x_oos).fit().rsquared\n",
    "print(f\"The in sample R2 for the out of sample period is {100*r2:0.1f}%.\")"
   ]
  },
  {
   "cell_type": "code",
   "execution_count": 45,
   "metadata": {},
   "outputs": [
    {
     "output_type": "execute_result",
     "data": {
      "text/plain": [
       "234.44105172558352"
      ]
     },
     "metadata": {},
     "execution_count": 45
    }
   ],
   "source": [
    "oos_sse"
   ]
  },
  {
   "source": [
    "------------------------------------------------------------------------------------\n",
    "------------------------------------------------------------------------------------\n",
    "------------------------------------------------------------------------------------\n",
    "------------------------------------------------------------------------------------\n",
    "-----------------------------------------------------------------------------------\n",
    "-------------------------------------------------------------------------------------\n",
    "-------------------------------------------------------------------------------------\n",
    "-------------------------------------------------------------------------------------\n",
    "-------------------------------------------------------------------------------------\n",
    "-------------------------------------------------------------------------------------\n",
    "-------------------------------------------------------------------------------------\n",
    "-------------------------------------------------------------------------------------\n",
    "-------------------------------------------------------------------------------------\n",
    "-------------------------------------------------------------------------------------\n",
    "-------------------------------------------------------------------------------------\n"
   ],
   "cell_type": "markdown",
   "metadata": {}
  },
  {
   "source": [
    "Problem 1, in sample, predicting Value Weighted Market"
   ],
   "cell_type": "markdown",
   "metadata": {}
  },
  {
   "cell_type": "code",
   "execution_count": 150,
   "metadata": {},
   "outputs": [],
   "source": [
    "# Selecting a model to predict Value weighted market returns in sample\n",
    "# Setup y, x, t and p - cutting off first and last values to create a lagged effect of our regressors\n",
    "\n",
    "y = common_sample[\"VWM\"][\"1986-02-28\":]\n",
    "x = common_sample[\"1986-01-28\":\"2020-09-30\"]\n",
    "t, p = x.shape\n",
    "x.index = x.index.shift(1)\n",
    "\n",
    "\n",
    "# Setup in_sample data\n",
    "\n",
    "y_in = common_sample[\"VWM\"][1:209]\n",
    "x_in = common_sample[0:208]\n",
    "t_in, p_in = x_in.shape\n",
    "x_in.index = x_in.index.shift(1)\n",
    "\n",
    "# Set up the out of sample evaluation data\n",
    "# Setup y, x, t and p - cutting off first and last values to create a lagged effect of our regressors\n",
    "\n",
    "y_oos = common_sample[\"VWM\"][209:]\n",
    "x_oos = common_sample[208:-1]\n",
    "t_oos, p_oos = x_oos.shape\n",
    "x_oos.index = x_oos.index.shift(1)"
   ]
  },
  {
   "cell_type": "code",
   "execution_count": 47,
   "metadata": {},
   "outputs": [
    {
     "output_type": "execute_result",
     "data": {
      "text/plain": [
       "(['1yr', 'unempl', 'Inflation'],\n",
       " 1     8358.412126\n",
       " 2     8300.299283\n",
       " 3     8294.052150\n",
       " 4     8365.302367\n",
       " 5     8355.186006\n",
       " 6     8601.719588\n",
       " 7     8744.172252\n",
       " 8     8837.944410\n",
       " 9     9517.177930\n",
       " 10    9577.530606\n",
       " 11    9885.568453\n",
       " 12    9885.568453\n",
       " 13    9885.568453\n",
       " 14    9885.568453\n",
       " dtype: float64)"
      ]
     },
     "metadata": {},
     "execution_count": 47
    }
   ],
   "source": [
    "# Best subset model selection,\n",
    "### Cell takes a minute to run ###\n",
    "\n",
    "best_subset(x,y,p)"
   ]
  },
  {
   "cell_type": "code",
   "execution_count": 48,
   "metadata": {},
   "outputs": [
    {
     "output_type": "execute_result",
     "data": {
      "text/plain": [
       "(['Mom', 'VWM', '10yr'],\n",
       " 1      8846.187187\n",
       " 2      8799.999413\n",
       " 3      8642.075091\n",
       " 4      8647.099104\n",
       " 5      8820.054162\n",
       " 6      8985.518802\n",
       " 7      9259.716664\n",
       " 8      9087.161438\n",
       " 9      9248.401769\n",
       " 10    10550.409232\n",
       " 11    10550.409232\n",
       " 12     9885.568453\n",
       " 13     9885.568453\n",
       " 14     9885.568453\n",
       " dtype: float64,\n",
       " ['Mom',\n",
       "  'VWM',\n",
       "  '10yr',\n",
       "  '5yr',\n",
       "  '1yr',\n",
       "  'AAA',\n",
       "  'BAA',\n",
       "  'unempl',\n",
       "  'CPI',\n",
       "  'Ind_Prod',\n",
       "  'Curve',\n",
       "  'Inflation',\n",
       "  'Term',\n",
       "  'Default'])"
      ]
     },
     "metadata": {},
     "execution_count": 48
    }
   ],
   "source": [
    "### Forward stepwise model selection\n",
    "forward_stepwise(x,y,p)"
   ]
  },
  {
   "cell_type": "code",
   "execution_count": 156,
   "metadata": {},
   "outputs": [
    {
     "output_type": "execute_result",
     "data": {
      "text/plain": [
       "531.6911469437641"
      ]
     },
     "metadata": {},
     "execution_count": 156
    }
   ],
   "source": [
    "beta = lstsq(x[['1yr', 'unempl', 'Inflation']],y,rcond=0)[0]\n",
    "pred_returns = x_oos[['1yr', 'unempl', 'Inflation']] @ beta\n",
    "\n",
    "strat_returns = np.ones(209)\n",
    "for i in range(209):\n",
    "    if pred_returns[i] > y_in.mean():\n",
    "        portfolio_weight = 1.5\n",
    "    else:\n",
    "        portfolio_weight = 0.5\n",
    "    \n",
    "    strat_returns[i] = (portfolio_weight * y_oos[i]) + (1 - portfolio_weight) * rf[i]\n",
    "\n",
    "\n",
    "cum_strat_returns = ((1+strat_returns/100).cumprod()-1)*100\n",
    "cum_strat_returns[-1]"
   ]
  },
  {
   "cell_type": "code",
   "execution_count": 152,
   "metadata": {},
   "outputs": [
    {
     "output_type": "stream",
     "name": "stdout",
     "text": [
      "The out of sample R2 for the out of sample period is 10.6%.\n\nThe in sample R2 for the out of sample period is 14.7%.\n"
     ]
    }
   ],
   "source": [
    "resid_oos = y_oos - pred_returns\n",
    "oos_sse = resid_oos @ resid_oos\n",
    "oos_tss = (y_oos **2).sum()\n",
    "oos_r2 = 1- oos_sse/ oos_tss\n",
    "print(f\"The out of sample R2 for the out of sample period is {100*oos_r2:0.1f}%.\")\n",
    "print()\n",
    "r2 = OLS(y_oos, x_oos).fit().rsquared\n",
    "print(f\"The in sample R2 for the out of sample period is {100*r2:0.1f}%.\")"
   ]
  },
  {
   "cell_type": "code",
   "execution_count": 153,
   "metadata": {},
   "outputs": [
    {
     "output_type": "stream",
     "name": "stdout",
     "text": [
      "1.2760645661537844\n\n0.9993963757464968\n"
     ]
    }
   ],
   "source": [
    "### Sharpe ratio\n",
    "print(((cum_strat_returns[-1]/100)-rf.mean())/ strat_returns.std())\n",
    "print()\n",
    "print((((1+(y_oos/100)).cumprod()[-1]-1) - rf.mean()) / y_oos.std())"
   ]
  },
  {
   "cell_type": "code",
   "execution_count": 52,
   "metadata": {},
   "outputs": [
    {
     "output_type": "execute_result",
     "data": {
      "text/plain": [
       "(['Mom', 'unempl', 'Curve'],\n",
       " 1     4723.290414\n",
       " 2     4595.401003\n",
       " 3     4544.949513\n",
       " 4     4592.170260\n",
       " 5     4590.924004\n",
       " 6     4683.694311\n",
       " 7     4689.139039\n",
       " 8     4710.483300\n",
       " 9     4784.698767\n",
       " 10    4796.941527\n",
       " 11    4825.331600\n",
       " 12    4825.331600\n",
       " 13    4825.331600\n",
       " 14    4825.331600\n",
       " dtype: float64)"
      ]
     },
     "metadata": {},
     "execution_count": 52
    }
   ],
   "source": [
    "### Training the data on the first half (208 data points in y)\n",
    "best_subset(x_in,y_in,p_in, random=True,fold=5)"
   ]
  },
  {
   "cell_type": "code",
   "execution_count": 53,
   "metadata": {},
   "outputs": [
    {
     "output_type": "execute_result",
     "data": {
      "text/plain": [
       "(['Mom', 'VWM', '10yr'],\n",
       " 1     4807.915063\n",
       " 2     4822.116671\n",
       " 3     4654.563908\n",
       " 4     4685.377330\n",
       " 5     4679.082366\n",
       " 6     4752.488538\n",
       " 7     4780.496079\n",
       " 8     4761.567120\n",
       " 9     4804.726211\n",
       " 10    4810.196630\n",
       " 11    4810.196630\n",
       " 12    4825.331600\n",
       " 13    4825.331600\n",
       " 14    4825.331600\n",
       " dtype: float64,\n",
       " ['Mom',\n",
       "  'VWM',\n",
       "  '10yr',\n",
       "  '5yr',\n",
       "  '1yr',\n",
       "  'AAA',\n",
       "  'BAA',\n",
       "  'unempl',\n",
       "  'CPI',\n",
       "  'Ind_Prod',\n",
       "  'Default',\n",
       "  'Inflation',\n",
       "  'Term',\n",
       "  'Curve'])"
      ]
     },
     "metadata": {},
     "execution_count": 53
    }
   ],
   "source": [
    "forward_stepwise(x_in,y_in,p_in,random=True,fold=5)"
   ]
  },
  {
   "cell_type": "code",
   "execution_count": 154,
   "metadata": {},
   "outputs": [
    {
     "output_type": "execute_result",
     "data": {
      "text/plain": [
       "673.4066355281525"
      ]
     },
     "metadata": {},
     "execution_count": 154
    }
   ],
   "source": [
    "### Evaluating the model out of sample\n",
    "\n",
    "beta = lstsq(x_in[['Mom', 'unempl', 'Curve']],y_in,rcond=0)[0]\n",
    "pred_returns = x_oos[['Mom', 'unempl', 'Curve']] @ beta\n",
    "\n",
    "strat_returns = np.ones(209)\n",
    "for i in range(209):\n",
    "    if pred_returns[i] > y_in.mean():\n",
    "        portfolio_weight = 1.5\n",
    "    else:\n",
    "        portfolio_weight = 0.5\n",
    "    \n",
    "    strat_returns[i] = (portfolio_weight * y_oos[i]) + (1 - portfolio_weight) * rf[i]\n",
    "\n",
    "\n",
    "cum_strat_returns = ((1+strat_returns/100).cumprod()-1)*100\n",
    "cum_strat_returns[-1]"
   ]
  },
  {
   "cell_type": "code",
   "execution_count": 55,
   "metadata": {},
   "outputs": [
    {
     "output_type": "execute_result",
     "data": {
      "text/plain": [
       "422.4388819372857"
      ]
     },
     "metadata": {},
     "execution_count": 55
    }
   ],
   "source": [
    "((1+(y_oos/100)).cumprod()[-1]-1)*100"
   ]
  },
  {
   "cell_type": "code",
   "execution_count": 56,
   "metadata": {},
   "outputs": [
    {
     "output_type": "stream",
     "name": "stdout",
     "text": [
      "The out of sample R2 for the out of sample period is -15.1%.\n\nThe in sample R2 for the out of sample period is 14.7%.\n"
     ]
    }
   ],
   "source": [
    "resid_oos = y_oos - pred_returns\n",
    "oos_sse = resid_oos @ resid_oos\n",
    "oos_tss = (y_oos **2).sum()\n",
    "oos_r2 = 1- (oos_sse/ oos_tss)\n",
    "print(f\"The out of sample R2 for the out of sample period is {100*oos_r2:0.1f}%.\")\n",
    "print()\n",
    "r2 = OLS(y_oos, x_oos).fit().rsquared\n",
    "print(f\"The in sample R2 for the out of sample period is {100*r2:0.1f}%.\")"
   ]
  },
  {
   "cell_type": "code",
   "execution_count": 57,
   "metadata": {},
   "outputs": [
    {
     "output_type": "stream",
     "name": "stdout",
     "text": [
      "1.1774668498815901\n\n0.9993963757464968\n"
     ]
    }
   ],
   "source": [
    "### Sharpe ratio\n",
    "print(((cum_strat_returns[-1]/100)-rf.mean())/ strat_returns.std())\n",
    "print()\n",
    "print((((1+(y_oos/100)).cumprod()[-1]-1) - rf.mean()) / y_oos.std())"
   ]
  },
  {
   "cell_type": "code",
   "execution_count": null,
   "metadata": {},
   "outputs": [],
   "source": []
  }
 ]
}